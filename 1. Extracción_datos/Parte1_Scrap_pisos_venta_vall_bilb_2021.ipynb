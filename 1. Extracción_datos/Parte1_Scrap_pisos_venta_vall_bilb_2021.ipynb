{
 "cells": [
  {
   "cell_type": "code",
   "execution_count": 1,
   "metadata": {},
   "outputs": [],
   "source": [
    "import urllib.request\n",
    "from bs4 import BeautifulSoup\n",
    "import requests\n",
    "from urllib.request import urlopen\n",
    "import collections\n",
    "import json\n"
   ]
  },
  {
   "cell_type": "markdown",
   "metadata": {},
   "source": [
    "### Me interesa calcular las coordenadas de los pisos a la mejor ubicacion de Valladolid y de Bilbao"
   ]
  },
  {
   "cell_type": "code",
   "execution_count": 2,
   "metadata": {},
   "outputs": [],
   "source": [
    "from geopy.geocoders import Nominatim\n",
    "geolocator = Nominatim(user_agent=\"My_First_Project\")\n",
    "loc_centro_vall=geolocator.geocode(\"Plaza Mayor, Valladolid\" )\n",
    "loc_centro_bilb=geolocator.geocode('Casco Viejo, Bilbao')\n"
   ]
  },
  {
   "cell_type": "markdown",
   "metadata": {},
   "source": [
    "Urls "
   ]
  },
  {
   "cell_type": "code",
   "execution_count": 3,
   "metadata": {},
   "outputs": [],
   "source": [
    "html_vall=('https://www.pisos.com/venta/pisos-valladolid_capital/')"
   ]
  },
  {
   "cell_type": "code",
   "execution_count": 4,
   "metadata": {},
   "outputs": [],
   "source": [
    "html_bilb=('https://www.pisos.com/venta/pisos-bilbao/')"
   ]
  },
  {
   "cell_type": "code",
   "execution_count": 5,
   "metadata": {},
   "outputs": [],
   "source": [
    "def last_page(selection):\n",
    "    last_page=[]\n",
    "    url=(selection)\n",
    "    r=requests.get(url)\n",
    "    res=BeautifulSoup(r.text,\"lxml\")\n",
    "    page=res.findAll('div', {\"class\": 'pager'})\n",
    "    last_page=[]\n",
    "    for i in page:\n",
    "        pages=i.findAll('a', {\"class\": 'item'})\n",
    "        last_page.append(pages[-1].text)\n",
    "    \n",
    "    return last_page"
   ]
  },
  {
   "cell_type": "code",
   "execution_count": 6,
   "metadata": {},
   "outputs": [],
   "source": [
    "last_page_bilb=last_page(html_bilb)"
   ]
  },
  {
   "cell_type": "code",
   "execution_count": 7,
   "metadata": {},
   "outputs": [],
   "source": [
    "last_page_vall=last_page(html_vall)"
   ]
  },
  {
   "cell_type": "code",
   "execution_count": 8,
   "metadata": {},
   "outputs": [],
   "source": [
    "def pager(html,last_page):\n",
    "    pages=[]\n",
    "    for page in range(1,int(last_page[0])):\n",
    "        try:\n",
    "            url=(html+'{}/'.format(page))\n",
    "        except HTTPERROR as e:\n",
    "    \n",
    "            print(e)\n",
    "\n",
    "        except URLError:\n",
    "\n",
    "            print(\"Server down or incorrect domain\")\n",
    "    \n",
    "        else:\n",
    "            r=requests.get(url)\n",
    "            soup=BeautifulSoup(r.text,\"lxml\")\n",
    "        \n",
    "            if soup.title is None:\n",
    "\n",
    "                print(\"Tag not found\")\n",
    "            pages.append(soup)\n",
    "    return pages"
   ]
  },
  {
   "cell_type": "code",
   "execution_count": 9,
   "metadata": {},
   "outputs": [],
   "source": [
    "pages_vall=pager(html_vall,last_page_vall)"
   ]
  },
  {
   "cell_type": "code",
   "execution_count": 10,
   "metadata": {},
   "outputs": [],
   "source": [
    "pages_bilb=pager(html_bilb,last_page_bilb)"
   ]
  },
  {
   "cell_type": "code",
   "execution_count": 11,
   "metadata": {},
   "outputs": [],
   "source": [
    "pages=pages_vall+pages_bilb"
   ]
  },
  {
   "cell_type": "markdown",
   "metadata": {},
   "source": [
    "### Extraigo el contenedor (cada anuncio) y el link asociado para extraer las caracteristicas"
   ]
  },
  {
   "cell_type": "code",
   "execution_count": 12,
   "metadata": {},
   "outputs": [],
   "source": [
    "def container(pages):\n",
    "   \n",
    "    containers=[]\n",
    "\n",
    "    for i in range (0,len(pages)):\n",
    "\n",
    "        containers.append(pages[i].findAll('div', {\"itemtype\": \"http://schema.org/SingleFamilyResidence\"}))\n",
    "        \n",
    "    return (containers)\n",
    "   \n"
   ]
  },
  {
   "cell_type": "code",
   "execution_count": 13,
   "metadata": {},
   "outputs": [],
   "source": [
    "def links(pages):\n",
    "   \n",
    "    links=[]\n",
    "\n",
    "    for i in range (0,len(pages)):\n",
    "\n",
    "        links.append(pages[i].findAll('div', {\"class\": \"gridList Listado\"}))\n",
    "        \n",
    "    return (links)\n",
    "\n"
   ]
  },
  {
   "cell_type": "code",
   "execution_count": 14,
   "metadata": {},
   "outputs": [],
   "source": [
    "container_vall=container(pages_vall)\n",
    "container_bilb=container(pages_bilb)\n",
    "\n",
    "\n",
    "links_vall=links(pages_vall)\n",
    "links_bilb=links(pages_bilb)\n"
   ]
  },
  {
   "cell_type": "markdown",
   "metadata": {},
   "source": [
    "CONTAINERS"
   ]
  },
  {
   "cell_type": "code",
   "execution_count": 15,
   "metadata": {},
   "outputs": [],
   "source": [
    "def names(container):\n",
    "\n",
    "    names=[]\n",
    "\n",
    "\n",
    "    for container in container:\n",
    "        for i in container:\n",
    "\n",
    "\n",
    "            name=i.find('meta', {'itemprop': 'name'})\n",
    "            names.append(name)\n",
    "\n",
    "    return(names)      \n",
    "   "
   ]
  },
  {
   "cell_type": "code",
   "execution_count": 16,
   "metadata": {},
   "outputs": [],
   "source": [
    "names_vall=names(container_vall)\n",
    "names_bilb=names(container_bilb)"
   ]
  },
  {
   "cell_type": "code",
   "execution_count": 17,
   "metadata": {},
   "outputs": [
    {
     "data": {
      "text/plain": [
       "2460"
      ]
     },
     "execution_count": 17,
     "metadata": {},
     "output_type": "execute_result"
    }
   ],
   "source": [
    "len(names_vall)"
   ]
  },
  {
   "cell_type": "markdown",
   "metadata": {},
   "source": [
    "### Saco el nombre de la calle de cada vivienda y el título de cada anuncio para poder sacar las coordenadas de las viviendas con la librería Geopy"
   ]
  },
  {
   "cell_type": "code",
   "execution_count": 18,
   "metadata": {},
   "outputs": [],
   "source": [
    "def sacar_titulo(names):\n",
    "\n",
    "    names_string=[]\n",
    "    for l in names:\n",
    "        names_string.append(str(l))\n",
    "\n",
    "    titulos=[]\n",
    "    for l in names_string:\n",
    "        l1=l.replace('<meta content=\"','')\n",
    "        l2=l1.replace('\" itemprop=\"name\"/>','')    \n",
    "        titulos.append(l2.strip())\n",
    "    \n",
    "\n",
    "    return (titulos)\n"
   ]
  },
  {
   "cell_type": "code",
   "execution_count": 19,
   "metadata": {},
   "outputs": [],
   "source": [
    "titulos_vall=sacar_titulo(names_vall)\n",
    "titulos_bilb=sacar_titulo(names_bilb)\n"
   ]
  },
  {
   "cell_type": "code",
   "execution_count": 20,
   "metadata": {},
   "outputs": [],
   "source": [
    "def calles(titulos):\n",
    "    calles=[]\n",
    "    for i in titulos:\n",
    "        en=i.find('en ')\n",
    "        punto=i.find('.')\n",
    "        guion=i.find('-')\n",
    "        coma=i.find(',')\n",
    "        if punto == -1 :\n",
    "            if guion !=-1 & coma !=-1:        \n",
    "                if (coma <= guion):\n",
    "                    men=i[en+3:coma]\n",
    "            else:\n",
    "                men=i[en+3:guion]\n",
    "            if guion !=-1 & coma ==-1:\n",
    "                men=i[en+3:guion]\n",
    "        else: \n",
    "            men=i[en+3:coma]\n",
    "        if guion ==-1:\n",
    "            if punto !=-1 & coma !=-1:        \n",
    "                if (coma <= punto):\n",
    "                    men=i[en+3:coma]\n",
    "            else:\n",
    "                cmen=i[en+3:punto]\n",
    "            if punto !=-1 & coma ==-1:\n",
    "                men=i[en+3:punto]\n",
    "            else: \n",
    "                men=i[en+3:coma]\n",
    "        if coma ==-1:\n",
    "            if punto !=-1 & guion !=-1:        \n",
    "                if (guion <= punto):\n",
    "                    men=i[en+3:guion]\n",
    "                else:\n",
    "                    men=i[en+3:punto]\n",
    "            if punto !=-1 & guion ==-1:\n",
    "                men=i[en+3:punto]\n",
    "            else: \n",
    "                men=i[en+3:guion]\n",
    "        if punto==-1 & coma==-1 & guion==-1:\n",
    "            men=i[en+3:]\n",
    "        if punto!=-1 & coma!=-1 & guion!=-1:\n",
    "            if punto<=guion & punto<=coma:\n",
    "                men=i[en+3:punto]    \n",
    "            if guion<=punto & guion<=coma:\n",
    "                men=i[en+3:guion]\n",
    "            if coma<=punto & coma<=guion:\n",
    "                men=i[en+3:coma]\n",
    "\n",
    "        calles.append(men)\n",
    "    return (calles)"
   ]
  },
  {
   "cell_type": "code",
   "execution_count": 22,
   "metadata": {},
   "outputs": [],
   "source": [
    "calles_vall=calles(titulos_vall)\n",
    "calles_bilb=calles(titulos_bilb)\n"
   ]
  },
  {
   "cell_type": "code",
   "execution_count": 23,
   "metadata": {},
   "outputs": [
    {
     "ename": "KeyboardInterrupt",
     "evalue": "",
     "output_type": "error",
     "traceback": [
      "\u001b[1;31m---------------------------------------------------------------------------\u001b[0m",
      "\u001b[1;31mTypeError\u001b[0m                                 Traceback (most recent call last)",
      "\u001b[1;32m~\\Anaconda3\\lib\\site-packages\\urllib3\\connectionpool.py\u001b[0m in \u001b[0;36m_make_request\u001b[1;34m(self, conn, method, url, timeout, chunked, **httplib_request_kw)\u001b[0m\n\u001b[0;32m    376\u001b[0m             \u001b[1;32mtry\u001b[0m\u001b[1;33m:\u001b[0m  \u001b[1;31m# Python 2.7, use buffering of HTTP responses\u001b[0m\u001b[1;33m\u001b[0m\u001b[1;33m\u001b[0m\u001b[0m\n\u001b[1;32m--> 377\u001b[1;33m                 \u001b[0mhttplib_response\u001b[0m \u001b[1;33m=\u001b[0m \u001b[0mconn\u001b[0m\u001b[1;33m.\u001b[0m\u001b[0mgetresponse\u001b[0m\u001b[1;33m(\u001b[0m\u001b[0mbuffering\u001b[0m\u001b[1;33m=\u001b[0m\u001b[1;32mTrue\u001b[0m\u001b[1;33m)\u001b[0m\u001b[1;33m\u001b[0m\u001b[1;33m\u001b[0m\u001b[0m\n\u001b[0m\u001b[0;32m    378\u001b[0m             \u001b[1;32mexcept\u001b[0m \u001b[0mTypeError\u001b[0m\u001b[1;33m:\u001b[0m  \u001b[1;31m# Python 3\u001b[0m\u001b[1;33m\u001b[0m\u001b[1;33m\u001b[0m\u001b[0m\n",
      "\u001b[1;31mTypeError\u001b[0m: getresponse() got an unexpected keyword argument 'buffering'",
      "\nDuring handling of the above exception, another exception occurred:\n",
      "\u001b[1;31mWantReadError\u001b[0m                             Traceback (most recent call last)",
      "\u001b[1;32m~\\Anaconda3\\lib\\site-packages\\urllib3\\contrib\\pyopenssl.py\u001b[0m in \u001b[0;36mrecv_into\u001b[1;34m(self, *args, **kwargs)\u001b[0m\n\u001b[0;32m    296\u001b[0m         \u001b[1;32mtry\u001b[0m\u001b[1;33m:\u001b[0m\u001b[1;33m\u001b[0m\u001b[1;33m\u001b[0m\u001b[0m\n\u001b[1;32m--> 297\u001b[1;33m             \u001b[1;32mreturn\u001b[0m \u001b[0mself\u001b[0m\u001b[1;33m.\u001b[0m\u001b[0mconnection\u001b[0m\u001b[1;33m.\u001b[0m\u001b[0mrecv_into\u001b[0m\u001b[1;33m(\u001b[0m\u001b[1;33m*\u001b[0m\u001b[0margs\u001b[0m\u001b[1;33m,\u001b[0m \u001b[1;33m**\u001b[0m\u001b[0mkwargs\u001b[0m\u001b[1;33m)\u001b[0m\u001b[1;33m\u001b[0m\u001b[1;33m\u001b[0m\u001b[0m\n\u001b[0m\u001b[0;32m    298\u001b[0m         \u001b[1;32mexcept\u001b[0m \u001b[0mOpenSSL\u001b[0m\u001b[1;33m.\u001b[0m\u001b[0mSSL\u001b[0m\u001b[1;33m.\u001b[0m\u001b[0mSysCallError\u001b[0m \u001b[1;32mas\u001b[0m \u001b[0me\u001b[0m\u001b[1;33m:\u001b[0m\u001b[1;33m\u001b[0m\u001b[1;33m\u001b[0m\u001b[0m\n",
      "\u001b[1;32m~\\Anaconda3\\lib\\site-packages\\OpenSSL\\SSL.py\u001b[0m in \u001b[0;36mrecv_into\u001b[1;34m(self, buffer, nbytes, flags)\u001b[0m\n\u001b[0;32m   1821\u001b[0m             \u001b[0mresult\u001b[0m \u001b[1;33m=\u001b[0m \u001b[0m_lib\u001b[0m\u001b[1;33m.\u001b[0m\u001b[0mSSL_read\u001b[0m\u001b[1;33m(\u001b[0m\u001b[0mself\u001b[0m\u001b[1;33m.\u001b[0m\u001b[0m_ssl\u001b[0m\u001b[1;33m,\u001b[0m \u001b[0mbuf\u001b[0m\u001b[1;33m,\u001b[0m \u001b[0mnbytes\u001b[0m\u001b[1;33m)\u001b[0m\u001b[1;33m\u001b[0m\u001b[1;33m\u001b[0m\u001b[0m\n\u001b[1;32m-> 1822\u001b[1;33m         \u001b[0mself\u001b[0m\u001b[1;33m.\u001b[0m\u001b[0m_raise_ssl_error\u001b[0m\u001b[1;33m(\u001b[0m\u001b[0mself\u001b[0m\u001b[1;33m.\u001b[0m\u001b[0m_ssl\u001b[0m\u001b[1;33m,\u001b[0m \u001b[0mresult\u001b[0m\u001b[1;33m)\u001b[0m\u001b[1;33m\u001b[0m\u001b[1;33m\u001b[0m\u001b[0m\n\u001b[0m\u001b[0;32m   1823\u001b[0m \u001b[1;33m\u001b[0m\u001b[0m\n",
      "\u001b[1;32m~\\Anaconda3\\lib\\site-packages\\OpenSSL\\SSL.py\u001b[0m in \u001b[0;36m_raise_ssl_error\u001b[1;34m(self, ssl, result)\u001b[0m\n\u001b[0;32m   1621\u001b[0m         \u001b[1;32mif\u001b[0m \u001b[0merror\u001b[0m \u001b[1;33m==\u001b[0m \u001b[0m_lib\u001b[0m\u001b[1;33m.\u001b[0m\u001b[0mSSL_ERROR_WANT_READ\u001b[0m\u001b[1;33m:\u001b[0m\u001b[1;33m\u001b[0m\u001b[1;33m\u001b[0m\u001b[0m\n\u001b[1;32m-> 1622\u001b[1;33m             \u001b[1;32mraise\u001b[0m \u001b[0mWantReadError\u001b[0m\u001b[1;33m(\u001b[0m\u001b[1;33m)\u001b[0m\u001b[1;33m\u001b[0m\u001b[1;33m\u001b[0m\u001b[0m\n\u001b[0m\u001b[0;32m   1623\u001b[0m         \u001b[1;32melif\u001b[0m \u001b[0merror\u001b[0m \u001b[1;33m==\u001b[0m \u001b[0m_lib\u001b[0m\u001b[1;33m.\u001b[0m\u001b[0mSSL_ERROR_WANT_WRITE\u001b[0m\u001b[1;33m:\u001b[0m\u001b[1;33m\u001b[0m\u001b[1;33m\u001b[0m\u001b[0m\n",
      "\u001b[1;31mWantReadError\u001b[0m: ",
      "\nDuring handling of the above exception, another exception occurred:\n",
      "\u001b[1;31mKeyboardInterrupt\u001b[0m                         Traceback (most recent call last)",
      "\u001b[1;32m<ipython-input-23-187ce558dcae>\u001b[0m in \u001b[0;36m<module>\u001b[1;34m\u001b[0m\n\u001b[0;32m      3\u001b[0m \u001b[1;32mfor\u001b[0m \u001b[0mcalle\u001b[0m \u001b[1;32min\u001b[0m \u001b[0mcalles_vall\u001b[0m\u001b[1;33m:\u001b[0m\u001b[1;33m\u001b[0m\u001b[1;33m\u001b[0m\u001b[0m\n\u001b[0;32m      4\u001b[0m     \u001b[1;32mtry\u001b[0m\u001b[1;33m:\u001b[0m\u001b[1;33m\u001b[0m\u001b[1;33m\u001b[0m\u001b[0m\n\u001b[1;32m----> 5\u001b[1;33m         \u001b[0mlocation\u001b[0m \u001b[1;33m=\u001b[0m \u001b[0mgeolocator\u001b[0m\u001b[1;33m.\u001b[0m\u001b[0mgeocode\u001b[0m\u001b[1;33m(\u001b[0m\u001b[1;34m\"%s, Valladolid\"\u001b[0m \u001b[1;33m%\u001b[0m\u001b[0mcalle\u001b[0m\u001b[1;33m)\u001b[0m\u001b[1;33m\u001b[0m\u001b[1;33m\u001b[0m\u001b[0m\n\u001b[0m\u001b[0;32m      6\u001b[0m         \u001b[0mloc_lat\u001b[0m\u001b[1;33m.\u001b[0m\u001b[0mappend\u001b[0m\u001b[1;33m(\u001b[0m\u001b[0mlocation\u001b[0m\u001b[1;33m.\u001b[0m\u001b[0mlatitude\u001b[0m\u001b[1;33m)\u001b[0m\u001b[1;33m\u001b[0m\u001b[1;33m\u001b[0m\u001b[0m\n\u001b[0;32m      7\u001b[0m         \u001b[0mloc_lon\u001b[0m\u001b[1;33m.\u001b[0m\u001b[0mappend\u001b[0m\u001b[1;33m(\u001b[0m\u001b[0mlocation\u001b[0m\u001b[1;33m.\u001b[0m\u001b[0mlongitude\u001b[0m\u001b[1;33m)\u001b[0m\u001b[1;33m\u001b[0m\u001b[1;33m\u001b[0m\u001b[0m\n",
      "\u001b[1;32m~\\Anaconda3\\lib\\site-packages\\geopy\\geocoders\\nominatim.py\u001b[0m in \u001b[0;36mgeocode\u001b[1;34m(self, query, exactly_one, timeout, limit, addressdetails, language, geometry, extratags, country_codes, viewbox, bounded, featuretype, namedetails)\u001b[0m\n\u001b[0;32m    295\u001b[0m         \u001b[0mlogger\u001b[0m\u001b[1;33m.\u001b[0m\u001b[0mdebug\u001b[0m\u001b[1;33m(\u001b[0m\u001b[1;34m\"%s.geocode: %s\"\u001b[0m\u001b[1;33m,\u001b[0m \u001b[0mself\u001b[0m\u001b[1;33m.\u001b[0m\u001b[0m__class__\u001b[0m\u001b[1;33m.\u001b[0m\u001b[0m__name__\u001b[0m\u001b[1;33m,\u001b[0m \u001b[0murl\u001b[0m\u001b[1;33m)\u001b[0m\u001b[1;33m\u001b[0m\u001b[1;33m\u001b[0m\u001b[0m\n\u001b[0;32m    296\u001b[0m         \u001b[0mcallback\u001b[0m \u001b[1;33m=\u001b[0m \u001b[0mpartial\u001b[0m\u001b[1;33m(\u001b[0m\u001b[0mself\u001b[0m\u001b[1;33m.\u001b[0m\u001b[0m_parse_json\u001b[0m\u001b[1;33m,\u001b[0m \u001b[0mexactly_one\u001b[0m\u001b[1;33m=\u001b[0m\u001b[0mexactly_one\u001b[0m\u001b[1;33m)\u001b[0m\u001b[1;33m\u001b[0m\u001b[1;33m\u001b[0m\u001b[0m\n\u001b[1;32m--> 297\u001b[1;33m         \u001b[1;32mreturn\u001b[0m \u001b[0mself\u001b[0m\u001b[1;33m.\u001b[0m\u001b[0m_call_geocoder\u001b[0m\u001b[1;33m(\u001b[0m\u001b[0murl\u001b[0m\u001b[1;33m,\u001b[0m \u001b[0mcallback\u001b[0m\u001b[1;33m,\u001b[0m \u001b[0mtimeout\u001b[0m\u001b[1;33m=\u001b[0m\u001b[0mtimeout\u001b[0m\u001b[1;33m)\u001b[0m\u001b[1;33m\u001b[0m\u001b[1;33m\u001b[0m\u001b[0m\n\u001b[0m\u001b[0;32m    298\u001b[0m \u001b[1;33m\u001b[0m\u001b[0m\n\u001b[0;32m    299\u001b[0m     def reverse(\n",
      "\u001b[1;32m~\\Anaconda3\\lib\\site-packages\\geopy\\geocoders\\base.py\u001b[0m in \u001b[0;36m_call_geocoder\u001b[1;34m(self, url, callback, timeout, is_json, headers)\u001b[0m\n\u001b[0;32m    358\u001b[0m         \u001b[1;32mtry\u001b[0m\u001b[1;33m:\u001b[0m\u001b[1;33m\u001b[0m\u001b[1;33m\u001b[0m\u001b[0m\n\u001b[0;32m    359\u001b[0m             \u001b[1;32mif\u001b[0m \u001b[0mis_json\u001b[0m\u001b[1;33m:\u001b[0m\u001b[1;33m\u001b[0m\u001b[1;33m\u001b[0m\u001b[0m\n\u001b[1;32m--> 360\u001b[1;33m                 \u001b[0mresult\u001b[0m \u001b[1;33m=\u001b[0m \u001b[0mself\u001b[0m\u001b[1;33m.\u001b[0m\u001b[0madapter\u001b[0m\u001b[1;33m.\u001b[0m\u001b[0mget_json\u001b[0m\u001b[1;33m(\u001b[0m\u001b[0murl\u001b[0m\u001b[1;33m,\u001b[0m \u001b[0mtimeout\u001b[0m\u001b[1;33m=\u001b[0m\u001b[0mtimeout\u001b[0m\u001b[1;33m,\u001b[0m \u001b[0mheaders\u001b[0m\u001b[1;33m=\u001b[0m\u001b[0mreq_headers\u001b[0m\u001b[1;33m)\u001b[0m\u001b[1;33m\u001b[0m\u001b[1;33m\u001b[0m\u001b[0m\n\u001b[0m\u001b[0;32m    361\u001b[0m             \u001b[1;32melse\u001b[0m\u001b[1;33m:\u001b[0m\u001b[1;33m\u001b[0m\u001b[1;33m\u001b[0m\u001b[0m\n\u001b[0;32m    362\u001b[0m                 \u001b[0mresult\u001b[0m \u001b[1;33m=\u001b[0m \u001b[0mself\u001b[0m\u001b[1;33m.\u001b[0m\u001b[0madapter\u001b[0m\u001b[1;33m.\u001b[0m\u001b[0mget_text\u001b[0m\u001b[1;33m(\u001b[0m\u001b[0murl\u001b[0m\u001b[1;33m,\u001b[0m \u001b[0mtimeout\u001b[0m\u001b[1;33m=\u001b[0m\u001b[0mtimeout\u001b[0m\u001b[1;33m,\u001b[0m \u001b[0mheaders\u001b[0m\u001b[1;33m=\u001b[0m\u001b[0mreq_headers\u001b[0m\u001b[1;33m)\u001b[0m\u001b[1;33m\u001b[0m\u001b[1;33m\u001b[0m\u001b[0m\n",
      "\u001b[1;32m~\\Anaconda3\\lib\\site-packages\\geopy\\adapters.py\u001b[0m in \u001b[0;36mget_json\u001b[1;34m(self, url, timeout, headers)\u001b[0m\n\u001b[0;32m    375\u001b[0m \u001b[1;33m\u001b[0m\u001b[0m\n\u001b[0;32m    376\u001b[0m     \u001b[1;32mdef\u001b[0m \u001b[0mget_json\u001b[0m\u001b[1;33m(\u001b[0m\u001b[0mself\u001b[0m\u001b[1;33m,\u001b[0m \u001b[0murl\u001b[0m\u001b[1;33m,\u001b[0m \u001b[1;33m*\u001b[0m\u001b[1;33m,\u001b[0m \u001b[0mtimeout\u001b[0m\u001b[1;33m,\u001b[0m \u001b[0mheaders\u001b[0m\u001b[1;33m)\u001b[0m\u001b[1;33m:\u001b[0m\u001b[1;33m\u001b[0m\u001b[1;33m\u001b[0m\u001b[0m\n\u001b[1;32m--> 377\u001b[1;33m         \u001b[0mresp\u001b[0m \u001b[1;33m=\u001b[0m \u001b[0mself\u001b[0m\u001b[1;33m.\u001b[0m\u001b[0m_request\u001b[0m\u001b[1;33m(\u001b[0m\u001b[0murl\u001b[0m\u001b[1;33m,\u001b[0m \u001b[0mtimeout\u001b[0m\u001b[1;33m=\u001b[0m\u001b[0mtimeout\u001b[0m\u001b[1;33m,\u001b[0m \u001b[0mheaders\u001b[0m\u001b[1;33m=\u001b[0m\u001b[0mheaders\u001b[0m\u001b[1;33m)\u001b[0m\u001b[1;33m\u001b[0m\u001b[1;33m\u001b[0m\u001b[0m\n\u001b[0m\u001b[0;32m    378\u001b[0m         \u001b[1;32mtry\u001b[0m\u001b[1;33m:\u001b[0m\u001b[1;33m\u001b[0m\u001b[1;33m\u001b[0m\u001b[0m\n\u001b[0;32m    379\u001b[0m             \u001b[1;32mreturn\u001b[0m \u001b[0mresp\u001b[0m\u001b[1;33m.\u001b[0m\u001b[0mjson\u001b[0m\u001b[1;33m(\u001b[0m\u001b[1;33m)\u001b[0m\u001b[1;33m\u001b[0m\u001b[1;33m\u001b[0m\u001b[0m\n",
      "\u001b[1;32m~\\Anaconda3\\lib\\site-packages\\geopy\\adapters.py\u001b[0m in \u001b[0;36m_request\u001b[1;34m(self, url, timeout, headers)\u001b[0m\n\u001b[0;32m    385\u001b[0m     \u001b[1;32mdef\u001b[0m \u001b[0m_request\u001b[0m\u001b[1;33m(\u001b[0m\u001b[0mself\u001b[0m\u001b[1;33m,\u001b[0m \u001b[0murl\u001b[0m\u001b[1;33m,\u001b[0m \u001b[1;33m*\u001b[0m\u001b[1;33m,\u001b[0m \u001b[0mtimeout\u001b[0m\u001b[1;33m,\u001b[0m \u001b[0mheaders\u001b[0m\u001b[1;33m)\u001b[0m\u001b[1;33m:\u001b[0m\u001b[1;33m\u001b[0m\u001b[1;33m\u001b[0m\u001b[0m\n\u001b[0;32m    386\u001b[0m         \u001b[1;32mtry\u001b[0m\u001b[1;33m:\u001b[0m\u001b[1;33m\u001b[0m\u001b[1;33m\u001b[0m\u001b[0m\n\u001b[1;32m--> 387\u001b[1;33m             \u001b[0mresp\u001b[0m \u001b[1;33m=\u001b[0m \u001b[0mself\u001b[0m\u001b[1;33m.\u001b[0m\u001b[0msession\u001b[0m\u001b[1;33m.\u001b[0m\u001b[0mget\u001b[0m\u001b[1;33m(\u001b[0m\u001b[0murl\u001b[0m\u001b[1;33m,\u001b[0m \u001b[0mtimeout\u001b[0m\u001b[1;33m=\u001b[0m\u001b[0mtimeout\u001b[0m\u001b[1;33m,\u001b[0m \u001b[0mheaders\u001b[0m\u001b[1;33m=\u001b[0m\u001b[0mheaders\u001b[0m\u001b[1;33m)\u001b[0m\u001b[1;33m\u001b[0m\u001b[1;33m\u001b[0m\u001b[0m\n\u001b[0m\u001b[0;32m    388\u001b[0m         \u001b[1;32mexcept\u001b[0m \u001b[0mException\u001b[0m \u001b[1;32mas\u001b[0m \u001b[0merror\u001b[0m\u001b[1;33m:\u001b[0m\u001b[1;33m\u001b[0m\u001b[1;33m\u001b[0m\u001b[0m\n\u001b[0;32m    389\u001b[0m             \u001b[0mmessage\u001b[0m \u001b[1;33m=\u001b[0m \u001b[0mstr\u001b[0m\u001b[1;33m(\u001b[0m\u001b[0merror\u001b[0m\u001b[1;33m)\u001b[0m\u001b[1;33m\u001b[0m\u001b[1;33m\u001b[0m\u001b[0m\n",
      "\u001b[1;32m~\\Anaconda3\\lib\\site-packages\\requests\\sessions.py\u001b[0m in \u001b[0;36mget\u001b[1;34m(self, url, **kwargs)\u001b[0m\n\u001b[0;32m    544\u001b[0m \u001b[1;33m\u001b[0m\u001b[0m\n\u001b[0;32m    545\u001b[0m         \u001b[0mkwargs\u001b[0m\u001b[1;33m.\u001b[0m\u001b[0msetdefault\u001b[0m\u001b[1;33m(\u001b[0m\u001b[1;34m'allow_redirects'\u001b[0m\u001b[1;33m,\u001b[0m \u001b[1;32mTrue\u001b[0m\u001b[1;33m)\u001b[0m\u001b[1;33m\u001b[0m\u001b[1;33m\u001b[0m\u001b[0m\n\u001b[1;32m--> 546\u001b[1;33m         \u001b[1;32mreturn\u001b[0m \u001b[0mself\u001b[0m\u001b[1;33m.\u001b[0m\u001b[0mrequest\u001b[0m\u001b[1;33m(\u001b[0m\u001b[1;34m'GET'\u001b[0m\u001b[1;33m,\u001b[0m \u001b[0murl\u001b[0m\u001b[1;33m,\u001b[0m \u001b[1;33m**\u001b[0m\u001b[0mkwargs\u001b[0m\u001b[1;33m)\u001b[0m\u001b[1;33m\u001b[0m\u001b[1;33m\u001b[0m\u001b[0m\n\u001b[0m\u001b[0;32m    547\u001b[0m \u001b[1;33m\u001b[0m\u001b[0m\n\u001b[0;32m    548\u001b[0m     \u001b[1;32mdef\u001b[0m \u001b[0moptions\u001b[0m\u001b[1;33m(\u001b[0m\u001b[0mself\u001b[0m\u001b[1;33m,\u001b[0m \u001b[0murl\u001b[0m\u001b[1;33m,\u001b[0m \u001b[1;33m**\u001b[0m\u001b[0mkwargs\u001b[0m\u001b[1;33m)\u001b[0m\u001b[1;33m:\u001b[0m\u001b[1;33m\u001b[0m\u001b[1;33m\u001b[0m\u001b[0m\n",
      "\u001b[1;32m~\\Anaconda3\\lib\\site-packages\\requests\\sessions.py\u001b[0m in \u001b[0;36mrequest\u001b[1;34m(self, method, url, params, data, headers, cookies, files, auth, timeout, allow_redirects, proxies, hooks, stream, verify, cert, json)\u001b[0m\n\u001b[0;32m    531\u001b[0m         }\n\u001b[0;32m    532\u001b[0m         \u001b[0msend_kwargs\u001b[0m\u001b[1;33m.\u001b[0m\u001b[0mupdate\u001b[0m\u001b[1;33m(\u001b[0m\u001b[0msettings\u001b[0m\u001b[1;33m)\u001b[0m\u001b[1;33m\u001b[0m\u001b[1;33m\u001b[0m\u001b[0m\n\u001b[1;32m--> 533\u001b[1;33m         \u001b[0mresp\u001b[0m \u001b[1;33m=\u001b[0m \u001b[0mself\u001b[0m\u001b[1;33m.\u001b[0m\u001b[0msend\u001b[0m\u001b[1;33m(\u001b[0m\u001b[0mprep\u001b[0m\u001b[1;33m,\u001b[0m \u001b[1;33m**\u001b[0m\u001b[0msend_kwargs\u001b[0m\u001b[1;33m)\u001b[0m\u001b[1;33m\u001b[0m\u001b[1;33m\u001b[0m\u001b[0m\n\u001b[0m\u001b[0;32m    534\u001b[0m \u001b[1;33m\u001b[0m\u001b[0m\n\u001b[0;32m    535\u001b[0m         \u001b[1;32mreturn\u001b[0m \u001b[0mresp\u001b[0m\u001b[1;33m\u001b[0m\u001b[1;33m\u001b[0m\u001b[0m\n",
      "\u001b[1;32m~\\Anaconda3\\lib\\site-packages\\requests\\sessions.py\u001b[0m in \u001b[0;36msend\u001b[1;34m(self, request, **kwargs)\u001b[0m\n\u001b[0;32m    644\u001b[0m \u001b[1;33m\u001b[0m\u001b[0m\n\u001b[0;32m    645\u001b[0m         \u001b[1;31m# Send the request\u001b[0m\u001b[1;33m\u001b[0m\u001b[1;33m\u001b[0m\u001b[1;33m\u001b[0m\u001b[0m\n\u001b[1;32m--> 646\u001b[1;33m         \u001b[0mr\u001b[0m \u001b[1;33m=\u001b[0m \u001b[0madapter\u001b[0m\u001b[1;33m.\u001b[0m\u001b[0msend\u001b[0m\u001b[1;33m(\u001b[0m\u001b[0mrequest\u001b[0m\u001b[1;33m,\u001b[0m \u001b[1;33m**\u001b[0m\u001b[0mkwargs\u001b[0m\u001b[1;33m)\u001b[0m\u001b[1;33m\u001b[0m\u001b[1;33m\u001b[0m\u001b[0m\n\u001b[0m\u001b[0;32m    647\u001b[0m \u001b[1;33m\u001b[0m\u001b[0m\n\u001b[0;32m    648\u001b[0m         \u001b[1;31m# Total elapsed time of the request (approximately)\u001b[0m\u001b[1;33m\u001b[0m\u001b[1;33m\u001b[0m\u001b[1;33m\u001b[0m\u001b[0m\n",
      "\u001b[1;32m~\\Anaconda3\\lib\\site-packages\\requests\\adapters.py\u001b[0m in \u001b[0;36msend\u001b[1;34m(self, request, stream, timeout, verify, cert, proxies)\u001b[0m\n\u001b[0;32m    447\u001b[0m                     \u001b[0mdecode_content\u001b[0m\u001b[1;33m=\u001b[0m\u001b[1;32mFalse\u001b[0m\u001b[1;33m,\u001b[0m\u001b[1;33m\u001b[0m\u001b[1;33m\u001b[0m\u001b[0m\n\u001b[0;32m    448\u001b[0m                     \u001b[0mretries\u001b[0m\u001b[1;33m=\u001b[0m\u001b[0mself\u001b[0m\u001b[1;33m.\u001b[0m\u001b[0mmax_retries\u001b[0m\u001b[1;33m,\u001b[0m\u001b[1;33m\u001b[0m\u001b[1;33m\u001b[0m\u001b[0m\n\u001b[1;32m--> 449\u001b[1;33m                     \u001b[0mtimeout\u001b[0m\u001b[1;33m=\u001b[0m\u001b[0mtimeout\u001b[0m\u001b[1;33m\u001b[0m\u001b[1;33m\u001b[0m\u001b[0m\n\u001b[0m\u001b[0;32m    450\u001b[0m                 )\n\u001b[0;32m    451\u001b[0m \u001b[1;33m\u001b[0m\u001b[0m\n",
      "\u001b[1;32m~\\Anaconda3\\lib\\site-packages\\urllib3\\connectionpool.py\u001b[0m in \u001b[0;36murlopen\u001b[1;34m(self, method, url, body, headers, retries, redirect, assert_same_host, timeout, pool_timeout, release_conn, chunked, body_pos, **response_kw)\u001b[0m\n\u001b[0;32m    598\u001b[0m                                                   \u001b[0mtimeout\u001b[0m\u001b[1;33m=\u001b[0m\u001b[0mtimeout_obj\u001b[0m\u001b[1;33m,\u001b[0m\u001b[1;33m\u001b[0m\u001b[1;33m\u001b[0m\u001b[0m\n\u001b[0;32m    599\u001b[0m                                                   \u001b[0mbody\u001b[0m\u001b[1;33m=\u001b[0m\u001b[0mbody\u001b[0m\u001b[1;33m,\u001b[0m \u001b[0mheaders\u001b[0m\u001b[1;33m=\u001b[0m\u001b[0mheaders\u001b[0m\u001b[1;33m,\u001b[0m\u001b[1;33m\u001b[0m\u001b[1;33m\u001b[0m\u001b[0m\n\u001b[1;32m--> 600\u001b[1;33m                                                   chunked=chunked)\n\u001b[0m\u001b[0;32m    601\u001b[0m \u001b[1;33m\u001b[0m\u001b[0m\n\u001b[0;32m    602\u001b[0m             \u001b[1;31m# If we're going to release the connection in ``finally:``, then\u001b[0m\u001b[1;33m\u001b[0m\u001b[1;33m\u001b[0m\u001b[1;33m\u001b[0m\u001b[0m\n",
      "\u001b[1;32m~\\Anaconda3\\lib\\site-packages\\urllib3\\connectionpool.py\u001b[0m in \u001b[0;36m_make_request\u001b[1;34m(self, conn, method, url, timeout, chunked, **httplib_request_kw)\u001b[0m\n\u001b[0;32m    378\u001b[0m             \u001b[1;32mexcept\u001b[0m \u001b[0mTypeError\u001b[0m\u001b[1;33m:\u001b[0m  \u001b[1;31m# Python 3\u001b[0m\u001b[1;33m\u001b[0m\u001b[1;33m\u001b[0m\u001b[0m\n\u001b[0;32m    379\u001b[0m                 \u001b[1;32mtry\u001b[0m\u001b[1;33m:\u001b[0m\u001b[1;33m\u001b[0m\u001b[1;33m\u001b[0m\u001b[0m\n\u001b[1;32m--> 380\u001b[1;33m                     \u001b[0mhttplib_response\u001b[0m \u001b[1;33m=\u001b[0m \u001b[0mconn\u001b[0m\u001b[1;33m.\u001b[0m\u001b[0mgetresponse\u001b[0m\u001b[1;33m(\u001b[0m\u001b[1;33m)\u001b[0m\u001b[1;33m\u001b[0m\u001b[1;33m\u001b[0m\u001b[0m\n\u001b[0m\u001b[0;32m    381\u001b[0m                 \u001b[1;32mexcept\u001b[0m \u001b[0mException\u001b[0m \u001b[1;32mas\u001b[0m \u001b[0me\u001b[0m\u001b[1;33m:\u001b[0m\u001b[1;33m\u001b[0m\u001b[1;33m\u001b[0m\u001b[0m\n\u001b[0;32m    382\u001b[0m                     \u001b[1;31m# Remove the TypeError from the exception chain in Python 3;\u001b[0m\u001b[1;33m\u001b[0m\u001b[1;33m\u001b[0m\u001b[1;33m\u001b[0m\u001b[0m\n",
      "\u001b[1;32m~\\Anaconda3\\lib\\http\\client.py\u001b[0m in \u001b[0;36mgetresponse\u001b[1;34m(self)\u001b[0m\n\u001b[0;32m   1319\u001b[0m         \u001b[1;32mtry\u001b[0m\u001b[1;33m:\u001b[0m\u001b[1;33m\u001b[0m\u001b[1;33m\u001b[0m\u001b[0m\n\u001b[0;32m   1320\u001b[0m             \u001b[1;32mtry\u001b[0m\u001b[1;33m:\u001b[0m\u001b[1;33m\u001b[0m\u001b[1;33m\u001b[0m\u001b[0m\n\u001b[1;32m-> 1321\u001b[1;33m                 \u001b[0mresponse\u001b[0m\u001b[1;33m.\u001b[0m\u001b[0mbegin\u001b[0m\u001b[1;33m(\u001b[0m\u001b[1;33m)\u001b[0m\u001b[1;33m\u001b[0m\u001b[1;33m\u001b[0m\u001b[0m\n\u001b[0m\u001b[0;32m   1322\u001b[0m             \u001b[1;32mexcept\u001b[0m \u001b[0mConnectionError\u001b[0m\u001b[1;33m:\u001b[0m\u001b[1;33m\u001b[0m\u001b[1;33m\u001b[0m\u001b[0m\n\u001b[0;32m   1323\u001b[0m                 \u001b[0mself\u001b[0m\u001b[1;33m.\u001b[0m\u001b[0mclose\u001b[0m\u001b[1;33m(\u001b[0m\u001b[1;33m)\u001b[0m\u001b[1;33m\u001b[0m\u001b[1;33m\u001b[0m\u001b[0m\n",
      "\u001b[1;32m~\\Anaconda3\\lib\\http\\client.py\u001b[0m in \u001b[0;36mbegin\u001b[1;34m(self)\u001b[0m\n\u001b[0;32m    294\u001b[0m         \u001b[1;31m# read until we get a non-100 response\u001b[0m\u001b[1;33m\u001b[0m\u001b[1;33m\u001b[0m\u001b[1;33m\u001b[0m\u001b[0m\n\u001b[0;32m    295\u001b[0m         \u001b[1;32mwhile\u001b[0m \u001b[1;32mTrue\u001b[0m\u001b[1;33m:\u001b[0m\u001b[1;33m\u001b[0m\u001b[1;33m\u001b[0m\u001b[0m\n\u001b[1;32m--> 296\u001b[1;33m             \u001b[0mversion\u001b[0m\u001b[1;33m,\u001b[0m \u001b[0mstatus\u001b[0m\u001b[1;33m,\u001b[0m \u001b[0mreason\u001b[0m \u001b[1;33m=\u001b[0m \u001b[0mself\u001b[0m\u001b[1;33m.\u001b[0m\u001b[0m_read_status\u001b[0m\u001b[1;33m(\u001b[0m\u001b[1;33m)\u001b[0m\u001b[1;33m\u001b[0m\u001b[1;33m\u001b[0m\u001b[0m\n\u001b[0m\u001b[0;32m    297\u001b[0m             \u001b[1;32mif\u001b[0m \u001b[0mstatus\u001b[0m \u001b[1;33m!=\u001b[0m \u001b[0mCONTINUE\u001b[0m\u001b[1;33m:\u001b[0m\u001b[1;33m\u001b[0m\u001b[1;33m\u001b[0m\u001b[0m\n\u001b[0;32m    298\u001b[0m                 \u001b[1;32mbreak\u001b[0m\u001b[1;33m\u001b[0m\u001b[1;33m\u001b[0m\u001b[0m\n",
      "\u001b[1;32m~\\Anaconda3\\lib\\http\\client.py\u001b[0m in \u001b[0;36m_read_status\u001b[1;34m(self)\u001b[0m\n\u001b[0;32m    255\u001b[0m \u001b[1;33m\u001b[0m\u001b[0m\n\u001b[0;32m    256\u001b[0m     \u001b[1;32mdef\u001b[0m \u001b[0m_read_status\u001b[0m\u001b[1;33m(\u001b[0m\u001b[0mself\u001b[0m\u001b[1;33m)\u001b[0m\u001b[1;33m:\u001b[0m\u001b[1;33m\u001b[0m\u001b[1;33m\u001b[0m\u001b[0m\n\u001b[1;32m--> 257\u001b[1;33m         \u001b[0mline\u001b[0m \u001b[1;33m=\u001b[0m \u001b[0mstr\u001b[0m\u001b[1;33m(\u001b[0m\u001b[0mself\u001b[0m\u001b[1;33m.\u001b[0m\u001b[0mfp\u001b[0m\u001b[1;33m.\u001b[0m\u001b[0mreadline\u001b[0m\u001b[1;33m(\u001b[0m\u001b[0m_MAXLINE\u001b[0m \u001b[1;33m+\u001b[0m \u001b[1;36m1\u001b[0m\u001b[1;33m)\u001b[0m\u001b[1;33m,\u001b[0m \u001b[1;34m\"iso-8859-1\"\u001b[0m\u001b[1;33m)\u001b[0m\u001b[1;33m\u001b[0m\u001b[1;33m\u001b[0m\u001b[0m\n\u001b[0m\u001b[0;32m    258\u001b[0m         \u001b[1;32mif\u001b[0m \u001b[0mlen\u001b[0m\u001b[1;33m(\u001b[0m\u001b[0mline\u001b[0m\u001b[1;33m)\u001b[0m \u001b[1;33m>\u001b[0m \u001b[0m_MAXLINE\u001b[0m\u001b[1;33m:\u001b[0m\u001b[1;33m\u001b[0m\u001b[1;33m\u001b[0m\u001b[0m\n\u001b[0;32m    259\u001b[0m             \u001b[1;32mraise\u001b[0m \u001b[0mLineTooLong\u001b[0m\u001b[1;33m(\u001b[0m\u001b[1;34m\"status line\"\u001b[0m\u001b[1;33m)\u001b[0m\u001b[1;33m\u001b[0m\u001b[1;33m\u001b[0m\u001b[0m\n",
      "\u001b[1;32m~\\Anaconda3\\lib\\socket.py\u001b[0m in \u001b[0;36mreadinto\u001b[1;34m(self, b)\u001b[0m\n\u001b[0;32m    587\u001b[0m         \u001b[1;32mwhile\u001b[0m \u001b[1;32mTrue\u001b[0m\u001b[1;33m:\u001b[0m\u001b[1;33m\u001b[0m\u001b[1;33m\u001b[0m\u001b[0m\n\u001b[0;32m    588\u001b[0m             \u001b[1;32mtry\u001b[0m\u001b[1;33m:\u001b[0m\u001b[1;33m\u001b[0m\u001b[1;33m\u001b[0m\u001b[0m\n\u001b[1;32m--> 589\u001b[1;33m                 \u001b[1;32mreturn\u001b[0m \u001b[0mself\u001b[0m\u001b[1;33m.\u001b[0m\u001b[0m_sock\u001b[0m\u001b[1;33m.\u001b[0m\u001b[0mrecv_into\u001b[0m\u001b[1;33m(\u001b[0m\u001b[0mb\u001b[0m\u001b[1;33m)\u001b[0m\u001b[1;33m\u001b[0m\u001b[1;33m\u001b[0m\u001b[0m\n\u001b[0m\u001b[0;32m    590\u001b[0m             \u001b[1;32mexcept\u001b[0m \u001b[0mtimeout\u001b[0m\u001b[1;33m:\u001b[0m\u001b[1;33m\u001b[0m\u001b[1;33m\u001b[0m\u001b[0m\n\u001b[0;32m    591\u001b[0m                 \u001b[0mself\u001b[0m\u001b[1;33m.\u001b[0m\u001b[0m_timeout_occurred\u001b[0m \u001b[1;33m=\u001b[0m \u001b[1;32mTrue\u001b[0m\u001b[1;33m\u001b[0m\u001b[1;33m\u001b[0m\u001b[0m\n",
      "\u001b[1;32m~\\Anaconda3\\lib\\site-packages\\urllib3\\contrib\\pyopenssl.py\u001b[0m in \u001b[0;36mrecv_into\u001b[1;34m(self, *args, **kwargs)\u001b[0m\n\u001b[0;32m    307\u001b[0m                 \u001b[1;32mraise\u001b[0m\u001b[1;33m\u001b[0m\u001b[1;33m\u001b[0m\u001b[0m\n\u001b[0;32m    308\u001b[0m         \u001b[1;32mexcept\u001b[0m \u001b[0mOpenSSL\u001b[0m\u001b[1;33m.\u001b[0m\u001b[0mSSL\u001b[0m\u001b[1;33m.\u001b[0m\u001b[0mWantReadError\u001b[0m\u001b[1;33m:\u001b[0m\u001b[1;33m\u001b[0m\u001b[1;33m\u001b[0m\u001b[0m\n\u001b[1;32m--> 309\u001b[1;33m             \u001b[1;32mif\u001b[0m \u001b[1;32mnot\u001b[0m \u001b[0mutil\u001b[0m\u001b[1;33m.\u001b[0m\u001b[0mwait_for_read\u001b[0m\u001b[1;33m(\u001b[0m\u001b[0mself\u001b[0m\u001b[1;33m.\u001b[0m\u001b[0msocket\u001b[0m\u001b[1;33m,\u001b[0m \u001b[0mself\u001b[0m\u001b[1;33m.\u001b[0m\u001b[0msocket\u001b[0m\u001b[1;33m.\u001b[0m\u001b[0mgettimeout\u001b[0m\u001b[1;33m(\u001b[0m\u001b[1;33m)\u001b[0m\u001b[1;33m)\u001b[0m\u001b[1;33m:\u001b[0m\u001b[1;33m\u001b[0m\u001b[1;33m\u001b[0m\u001b[0m\n\u001b[0m\u001b[0;32m    310\u001b[0m                 \u001b[1;32mraise\u001b[0m \u001b[0mtimeout\u001b[0m\u001b[1;33m(\u001b[0m\u001b[1;34m'The read operation timed out'\u001b[0m\u001b[1;33m)\u001b[0m\u001b[1;33m\u001b[0m\u001b[1;33m\u001b[0m\u001b[0m\n\u001b[0;32m    311\u001b[0m             \u001b[1;32melse\u001b[0m\u001b[1;33m:\u001b[0m\u001b[1;33m\u001b[0m\u001b[1;33m\u001b[0m\u001b[0m\n",
      "\u001b[1;32m~\\Anaconda3\\lib\\site-packages\\urllib3\\util\\wait.py\u001b[0m in \u001b[0;36mwait_for_read\u001b[1;34m(sock, timeout)\u001b[0m\n\u001b[0;32m    141\u001b[0m     \u001b[0mReturns\u001b[0m \u001b[1;32mTrue\u001b[0m \u001b[1;32mif\u001b[0m \u001b[0mthe\u001b[0m \u001b[0msocket\u001b[0m \u001b[1;32mis\u001b[0m \u001b[0mreadable\u001b[0m\u001b[1;33m,\u001b[0m \u001b[1;32mor\u001b[0m \u001b[1;32mFalse\u001b[0m \u001b[1;32mif\u001b[0m \u001b[0mthe\u001b[0m \u001b[0mtimeout\u001b[0m \u001b[0mexpired\u001b[0m\u001b[1;33m.\u001b[0m\u001b[1;33m\u001b[0m\u001b[1;33m\u001b[0m\u001b[0m\n\u001b[0;32m    142\u001b[0m     \"\"\"\n\u001b[1;32m--> 143\u001b[1;33m     \u001b[1;32mreturn\u001b[0m \u001b[0mwait_for_socket\u001b[0m\u001b[1;33m(\u001b[0m\u001b[0msock\u001b[0m\u001b[1;33m,\u001b[0m \u001b[0mread\u001b[0m\u001b[1;33m=\u001b[0m\u001b[1;32mTrue\u001b[0m\u001b[1;33m,\u001b[0m \u001b[0mtimeout\u001b[0m\u001b[1;33m=\u001b[0m\u001b[0mtimeout\u001b[0m\u001b[1;33m)\u001b[0m\u001b[1;33m\u001b[0m\u001b[1;33m\u001b[0m\u001b[0m\n\u001b[0m\u001b[0;32m    144\u001b[0m \u001b[1;33m\u001b[0m\u001b[0m\n\u001b[0;32m    145\u001b[0m \u001b[1;33m\u001b[0m\u001b[0m\n",
      "\u001b[1;32m~\\Anaconda3\\lib\\site-packages\\urllib3\\util\\wait.py\u001b[0m in \u001b[0;36mselect_wait_for_socket\u001b[1;34m(sock, read, write, timeout)\u001b[0m\n\u001b[0;32m     81\u001b[0m     \u001b[1;31m# thing.)\u001b[0m\u001b[1;33m\u001b[0m\u001b[1;33m\u001b[0m\u001b[1;33m\u001b[0m\u001b[0m\n\u001b[0;32m     82\u001b[0m     \u001b[0mfn\u001b[0m \u001b[1;33m=\u001b[0m \u001b[0mpartial\u001b[0m\u001b[1;33m(\u001b[0m\u001b[0mselect\u001b[0m\u001b[1;33m.\u001b[0m\u001b[0mselect\u001b[0m\u001b[1;33m,\u001b[0m \u001b[0mrcheck\u001b[0m\u001b[1;33m,\u001b[0m \u001b[0mwcheck\u001b[0m\u001b[1;33m,\u001b[0m \u001b[0mwcheck\u001b[0m\u001b[1;33m)\u001b[0m\u001b[1;33m\u001b[0m\u001b[1;33m\u001b[0m\u001b[0m\n\u001b[1;32m---> 83\u001b[1;33m     \u001b[0mrready\u001b[0m\u001b[1;33m,\u001b[0m \u001b[0mwready\u001b[0m\u001b[1;33m,\u001b[0m \u001b[0mxready\u001b[0m \u001b[1;33m=\u001b[0m \u001b[0m_retry_on_intr\u001b[0m\u001b[1;33m(\u001b[0m\u001b[0mfn\u001b[0m\u001b[1;33m,\u001b[0m \u001b[0mtimeout\u001b[0m\u001b[1;33m)\u001b[0m\u001b[1;33m\u001b[0m\u001b[1;33m\u001b[0m\u001b[0m\n\u001b[0m\u001b[0;32m     84\u001b[0m     \u001b[1;32mreturn\u001b[0m \u001b[0mbool\u001b[0m\u001b[1;33m(\u001b[0m\u001b[0mrready\u001b[0m \u001b[1;32mor\u001b[0m \u001b[0mwready\u001b[0m \u001b[1;32mor\u001b[0m \u001b[0mxready\u001b[0m\u001b[1;33m)\u001b[0m\u001b[1;33m\u001b[0m\u001b[1;33m\u001b[0m\u001b[0m\n\u001b[0;32m     85\u001b[0m \u001b[1;33m\u001b[0m\u001b[0m\n",
      "\u001b[1;32m~\\Anaconda3\\lib\\site-packages\\urllib3\\util\\wait.py\u001b[0m in \u001b[0;36m_retry_on_intr\u001b[1;34m(fn, timeout)\u001b[0m\n\u001b[0;32m     40\u001b[0m     \u001b[1;31m# Modern Python, that retries syscalls by default\u001b[0m\u001b[1;33m\u001b[0m\u001b[1;33m\u001b[0m\u001b[1;33m\u001b[0m\u001b[0m\n\u001b[0;32m     41\u001b[0m     \u001b[1;32mdef\u001b[0m \u001b[0m_retry_on_intr\u001b[0m\u001b[1;33m(\u001b[0m\u001b[0mfn\u001b[0m\u001b[1;33m,\u001b[0m \u001b[0mtimeout\u001b[0m\u001b[1;33m)\u001b[0m\u001b[1;33m:\u001b[0m\u001b[1;33m\u001b[0m\u001b[1;33m\u001b[0m\u001b[0m\n\u001b[1;32m---> 42\u001b[1;33m         \u001b[1;32mreturn\u001b[0m \u001b[0mfn\u001b[0m\u001b[1;33m(\u001b[0m\u001b[0mtimeout\u001b[0m\u001b[1;33m)\u001b[0m\u001b[1;33m\u001b[0m\u001b[1;33m\u001b[0m\u001b[0m\n\u001b[0m\u001b[0;32m     43\u001b[0m \u001b[1;32melse\u001b[0m\u001b[1;33m:\u001b[0m\u001b[1;33m\u001b[0m\u001b[1;33m\u001b[0m\u001b[0m\n\u001b[0;32m     44\u001b[0m     \u001b[1;31m# Old and broken Pythons.\u001b[0m\u001b[1;33m\u001b[0m\u001b[1;33m\u001b[0m\u001b[1;33m\u001b[0m\u001b[0m\n",
      "\u001b[1;31mKeyboardInterrupt\u001b[0m: "
     ]
    }
   ],
   "source": [
    "loc_lat=[]\n",
    "loc_lon=[]\n",
    "for calle in calles_vall:\n",
    "    try:\n",
    "        location = geolocator.geocode(\"%s, Valladolid\" %calle)\n",
    "        loc_lat.append(location.latitude)\n",
    "        loc_lon.append(location.longitude)\n",
    "    except AttributeError:\n",
    "        loc_lat.append('null')\n",
    "        loc_lon.append('null')\n"
   ]
  },
  {
   "cell_type": "code",
   "execution_count": 89,
   "metadata": {},
   "outputs": [],
   "source": [
    "loc_lat_bilb=[]\n",
    "loc_lon_bilb=[]\n",
    "for calle in calles_bilb:\n",
    "    try:\n",
    "        location = geolocator.geocode(\"%s, Bilbao\" %calle)\n",
    "        loc_lat_bilb.append(location.latitude)\n",
    "        loc_lon_bilb.append(location.longitude)\n",
    "    except AttributeError:\n",
    "        loc_lat_bilb.append('null')\n",
    "        loc_lon_bilb.append('null')\n"
   ]
  },
  {
   "cell_type": "markdown",
   "metadata": {},
   "source": [
    "### Una vez tengo las long y lat de las viviendas de Valladolid y Bilbao, calculo la distancia al centro"
   ]
  },
  {
   "cell_type": "code",
   "execution_count": 24,
   "metadata": {},
   "outputs": [],
   "source": [
    "def calcular_dist_centro(loc_lat,loc_lon,lat,lon):\n",
    "    coord=[]\n",
    "    dist_centro=[]\n",
    "    coord_centro=(lat,lon)\n",
    "    from geopy.distance import geodesic\n",
    "\n",
    "    for i in range(0,len(loc_lat)):\n",
    "        coorde=(loc_lat[i], loc_lon[i])\n",
    "        coord.append(coorde)\n",
    "\n",
    "    for i in range(0, len(coord)):\n",
    "        if coord[i]!=('null','null'):\n",
    "            dist_centro.append(geodesic(coord[i],coord_centro).kilometers)\n",
    "        else:\n",
    "            dist_centro.append('null')\n",
    "    return (dist_centro)"
   ]
  },
  {
   "cell_type": "code",
   "execution_count": 25,
   "metadata": {},
   "outputs": [
    {
     "ename": "NameError",
     "evalue": "name 'loc_lat_bilb' is not defined",
     "output_type": "error",
     "traceback": [
      "\u001b[1;31m---------------------------------------------------------------------------\u001b[0m",
      "\u001b[1;31mNameError\u001b[0m                                 Traceback (most recent call last)",
      "\u001b[1;32m<ipython-input-25-79d2c5d3bc9f>\u001b[0m in \u001b[0;36m<module>\u001b[1;34m\u001b[0m\n\u001b[0;32m      1\u001b[0m \u001b[0mdist_centro_vall\u001b[0m\u001b[1;33m=\u001b[0m\u001b[0mcalcular_dist_centro\u001b[0m\u001b[1;33m(\u001b[0m\u001b[0mloc_lat\u001b[0m\u001b[1;33m,\u001b[0m \u001b[0mloc_lon\u001b[0m\u001b[1;33m,\u001b[0m \u001b[0mloc_centro_vall\u001b[0m\u001b[1;33m.\u001b[0m\u001b[0mlatitude\u001b[0m\u001b[1;33m,\u001b[0m \u001b[0mloc_centro_vall\u001b[0m\u001b[1;33m.\u001b[0m\u001b[0mlongitude\u001b[0m\u001b[1;33m)\u001b[0m\u001b[1;33m\u001b[0m\u001b[1;33m\u001b[0m\u001b[0m\n\u001b[1;32m----> 2\u001b[1;33m \u001b[0mdist_centro_bilb\u001b[0m\u001b[1;33m=\u001b[0m\u001b[0mcalcular_dist_centro\u001b[0m\u001b[1;33m(\u001b[0m\u001b[0mloc_lat_bilb\u001b[0m\u001b[1;33m,\u001b[0m \u001b[0mloc_lon_bilb\u001b[0m\u001b[1;33m,\u001b[0m \u001b[0mloc_centro_bilb\u001b[0m\u001b[1;33m.\u001b[0m\u001b[0mlatitude\u001b[0m\u001b[1;33m,\u001b[0m \u001b[0mloc_centro_bilb\u001b[0m\u001b[1;33m.\u001b[0m\u001b[0mlongitude\u001b[0m\u001b[1;33m)\u001b[0m\u001b[1;33m\u001b[0m\u001b[1;33m\u001b[0m\u001b[0m\n\u001b[0m",
      "\u001b[1;31mNameError\u001b[0m: name 'loc_lat_bilb' is not defined"
     ]
    }
   ],
   "source": [
    "dist_centro_vall=calcular_dist_centro(loc_lat, loc_lon, loc_centro_vall.latitude, loc_centro_vall.longitude)\n",
    "dist_centro_bilb=calcular_dist_centro(loc_lat_bilb, loc_lon_bilb, loc_centro_bilb.latitude, loc_centro_bilb.longitude)"
   ]
  },
  {
   "cell_type": "code",
   "execution_count": 157,
   "metadata": {},
   "outputs": [
    {
     "data": {
      "text/plain": [
       "1980"
      ]
     },
     "execution_count": 157,
     "metadata": {},
     "output_type": "execute_result"
    }
   ],
   "source": [
    "len(dist_centro_vall)\n",
    "len(dist_centro_bilb)"
   ]
  },
  {
   "cell_type": "code",
   "execution_count": 387,
   "metadata": {},
   "outputs": [],
   "source": [
    "location_lon=loc_lon+loc_lon_bilb\n",
    "location_lat=loc_lat+loc_lat_bilb\n",
    "dist_centro=dist_centro_vall + dist_centro_bilb"
   ]
  },
  {
   "cell_type": "markdown",
   "metadata": {},
   "source": [
    "### Saco el resto de características comunes para Vall y Bilbao"
   ]
  },
  {
   "cell_type": "code",
   "execution_count": 26,
   "metadata": {},
   "outputs": [],
   "source": [
    "containers2=container_vall+container_bilb"
   ]
  },
  {
   "cell_type": "code",
   "execution_count": 27,
   "metadata": {},
   "outputs": [],
   "source": [
    "\n",
    "    prices=[]\n",
    "    locations=[]\n",
    "    pictures=[]\n",
    "    charact=[]\n",
    "    meters=[]\n",
    "    latitudes=[]\n",
    "    longitudes=[]\n",
    "    names=[]\n",
    "    urls=[]\n",
    "\n",
    "    for container in containers2:\n",
    "        for i in container:\n",
    "            price=i.find('div', {\"class\": \"priceBox\"}).text \n",
    "            prices.append(price)\n",
    "\n",
    "            location=i.find('div', {\"class\": \"location\"}).text \n",
    "            locations.append(location)\n",
    "\n",
    "            picture=i.find('div', {'class':'overInfo'})\n",
    "            pictures.append(picture)\n",
    "\n",
    "\n",
    "            char=i.find('div', {\"class\": \"characteristics\"})\n",
    "            charact.append(char)\n",
    "\n",
    "            meter=i.find('div', {\"item\"}).text\n",
    "            meters.append(meter)    \n",
    "\n",
    "            latitude=i.find('meta', {'itemprop': 'latitude'})\n",
    "            latitudes.append(latitude)\n",
    "\n",
    "            longitude=i.find('meta', {'itemprop': 'longitude'})\n",
    "            longitudes.append(longitude)\n",
    "\n",
    "            name=i.find('meta', {'itemprop': 'name'})\n",
    "            names.append(name)\n",
    "\n",
    "            url=i.find('meta', {'itemprop': 'url'})\n",
    "            urls.append(url)\n",
    "    \n",
    "   "
   ]
  },
  {
   "cell_type": "markdown",
   "metadata": {},
   "source": [
    "### Saco las coordenadas que me aporta la página "
   ]
  },
  {
   "cell_type": "code",
   "execution_count": 28,
   "metadata": {},
   "outputs": [],
   "source": [
    "longitudes_string=[]\n",
    "for l in longitudes:\n",
    "    longitudes_string.append(str(l))\n",
    "\n",
    "long=[]\n",
    "for l in longitudes_string:\n",
    "    l1=l.replace('<meta content=\"','')\n",
    "    l2=l1.replace('\" itemprop=\"longitude\"/>','')    \n",
    "    long.append(l2.strip())\n",
    "\n",
    "latitudes_string=[]\n",
    "for l in latitudes:\n",
    "    latitudes_string.append(str(l))\n",
    "\n",
    "lat=[]\n",
    "for l in latitudes_string:\n",
    "    l1=l.replace('<meta content=\"','')\n",
    "    l2=l1.replace('\" itemprop=\"latitude\"/>','')    \n",
    "    lat.append(l2.strip())"
   ]
  },
  {
   "cell_type": "code",
   "execution_count": 29,
   "metadata": {
    "scrolled": true
   },
   "outputs": [
    {
     "data": {
      "text/plain": [
       "4380"
      ]
     },
     "execution_count": 29,
     "metadata": {},
     "output_type": "execute_result"
    }
   ],
   "source": [
    "lat\n",
    "len(lat)"
   ]
  },
  {
   "cell_type": "markdown",
   "metadata": {},
   "source": [
    "## URLS"
   ]
  },
  {
   "cell_type": "code",
   "execution_count": 30,
   "metadata": {},
   "outputs": [],
   "source": [
    "urls_string=[]\n",
    "for l in urls:\n",
    "    urls_string.append(str(l))"
   ]
  },
  {
   "cell_type": "code",
   "execution_count": 31,
   "metadata": {},
   "outputs": [],
   "source": [
    "urls_replace=[]\n",
    "for l in urls_string:\n",
    "    l1=l.replace('<meta content=\"','')\n",
    "    l2=l1.replace('\" itemprop=\"url\"/>','')\n",
    "    urls_replace.append(l2.strip())"
   ]
  },
  {
   "cell_type": "code",
   "execution_count": 32,
   "metadata": {},
   "outputs": [
    {
     "data": {
      "text/plain": [
       "4380"
      ]
     },
     "execution_count": 32,
     "metadata": {},
     "output_type": "execute_result"
    }
   ],
   "source": [
    "len(urls_replace)"
   ]
  },
  {
   "cell_type": "code",
   "execution_count": 34,
   "metadata": {},
   "outputs": [],
   "source": [
    "urls_list=[]\n",
    "for i in range(0,len(urls_replace)):\n",
    "    urls_list.append('https://www.pisos.com'+urls_replace[i])"
   ]
  },
  {
   "cell_type": "code",
   "execution_count": 43,
   "metadata": {},
   "outputs": [
    {
     "data": {
      "text/plain": [
       "'https://www.pisos.com/comprar/piso-iralabarri48012-93334034824_100500/'"
      ]
     },
     "execution_count": 43,
     "metadata": {},
     "output_type": "execute_result"
    }
   ],
   "source": [
    "urls_list[4000]"
   ]
  },
  {
   "cell_type": "code",
   "execution_count": 36,
   "metadata": {},
   "outputs": [
    {
     "data": {
      "text/plain": [
       "4380"
      ]
     },
     "execution_count": 36,
     "metadata": {},
     "output_type": "execute_result"
    }
   ],
   "source": [
    "len(urls_list)"
   ]
  },
  {
   "cell_type": "markdown",
   "metadata": {},
   "source": [
    "CARACTERISTICAS EXTRAS"
   ]
  },
  {
   "cell_type": "code",
   "execution_count": 41,
   "metadata": {},
   "outputs": [],
   "source": [
    "def caracteristicas_extras (urls_list):\n",
    "    caract_extras=[]\n",
    "    for i in range(0,len(urls_list)): \n",
    "\n",
    "        try:\n",
    "            url=urls_list[i]\n",
    "        except HTTPERROR as e:\n",
    "\n",
    "            print(e)\n",
    "\n",
    "        except URLError:\n",
    "\n",
    "            print(\"Server down or incorrect domain\")\n",
    "\n",
    "        else:\n",
    "            r=requests.get(url)\n",
    "            soup=BeautifulSoup(r.text,\"lxml\")\n",
    "\n",
    "            if soup.title is None:\n",
    "\n",
    "                print(\"Tag not found\")\n",
    "            caract_extras.append(soup)\n",
    "            \n",
    "    return (caract_extras)\n",
    "\n"
   ]
  },
  {
   "cell_type": "code",
   "execution_count": null,
   "metadata": {},
   "outputs": [],
   "source": [
    "caract_extras1=caracteristicas_extras(urls_list)"
   ]
  },
  {
   "cell_type": "markdown",
   "metadata": {},
   "source": [
    "DESCRIPCION"
   ]
  },
  {
   "cell_type": "code",
   "execution_count": null,
   "metadata": {},
   "outputs": [],
   "source": [
    "description=[] #FEAT\n",
    "for char in caract_extras1:\n",
    "    description.append(char.find('div', {\"id\": \"descriptionBody\"}))\n",
    "    "
   ]
  },
  {
   "cell_type": "code",
   "execution_count": 300,
   "metadata": {},
   "outputs": [],
   "source": [
    "descripcion_string=[]\n",
    "for char in description:\n",
    "    descripcion_string.append(str(char))"
   ]
  },
  {
   "cell_type": "code",
   "execution_count": 307,
   "metadata": {},
   "outputs": [],
   "source": [
    "    descripcion=[]\n",
    "    for l in descripcion_string:\n",
    "        l1=l.replace('<div class=\"description-container description-body\" id=\"descriptionBody\">\\r\\n','')\n",
    "        l2=l1.replace('</div>','')    \n",
    "        descripcion.append(l2.strip()) \n",
    "\n"
   ]
  },
  {
   "cell_type": "markdown",
   "metadata": {},
   "source": [
    "TITULO"
   ]
  },
  {
   "cell_type": "code",
   "execution_count": 195,
   "metadata": {},
   "outputs": [],
   "source": [
    "titulo=[]\n",
    "for char in caract_extras1:\n",
    "     titulo.append(char.title.text)"
   ]
  },
  {
   "cell_type": "code",
   "execution_count": 196,
   "metadata": {},
   "outputs": [
    {
     "data": {
      "text/plain": [
       "'Piso en venta en Calle de Concha Velasco en Paseo Zorrilla-Campo Grande-Cuatro de Marzo por 114.900 €'"
      ]
     },
     "execution_count": 196,
     "metadata": {},
     "output_type": "execute_result"
    }
   ],
   "source": [
    "titulo[0]"
   ]
  },
  {
   "cell_type": "markdown",
   "metadata": {},
   "source": [
    "TIPO_HOME"
   ]
  },
  {
   "cell_type": "code",
   "execution_count": 263,
   "metadata": {},
   "outputs": [],
   "source": [
    "title_split=[]\n",
    "for char in titulo:\n",
    "    title_split.append(char.split(' '))\n",
    "    "
   ]
  },
  {
   "cell_type": "code",
   "execution_count": 264,
   "metadata": {},
   "outputs": [],
   "source": [
    "tipo_home=[]\n",
    "for char in title_split:\n",
    "    tipo_home.append(char[0])\n",
    "    \n",
    "    "
   ]
  },
  {
   "cell_type": "code",
   "execution_count": 265,
   "metadata": {},
   "outputs": [],
   "source": [
    "vocabulary_home=collections.Counter(tipo_home)"
   ]
  },
  {
   "cell_type": "code",
   "execution_count": 266,
   "metadata": {},
   "outputs": [],
   "source": [
    "vocab_home=list(vocabulary_home) #FEAT"
   ]
  },
  {
   "cell_type": "code",
   "execution_count": 267,
   "metadata": {},
   "outputs": [
    {
     "data": {
      "text/plain": [
       "['Piso',\n",
       " 'Apartamento',\n",
       " 'Casa',\n",
       " 'Ático',\n",
       " 'Chalet',\n",
       " 'Dúplex',\n",
       " 'Estudio',\n",
       " 'Pisos',\n",
       " 'Finca',\n",
       " 'Loft']"
      ]
     },
     "execution_count": 267,
     "metadata": {},
     "output_type": "execute_result"
    }
   ],
   "source": [
    "vocab_home"
   ]
  },
  {
   "cell_type": "markdown",
   "metadata": {},
   "source": [
    "#### PARA SACAR LAS VARIABLES ascensor, garaje, trastero"
   ]
  },
  {
   "cell_type": "markdown",
   "metadata": {},
   "source": [
    "#### CARACT_EXTRAS_"
   ]
  },
  {
   "cell_type": "code",
   "execution_count": 40,
   "metadata": {},
   "outputs": [
    {
     "ename": "NameError",
     "evalue": "name 'caract_extras1' is not defined",
     "output_type": "error",
     "traceback": [
      "\u001b[1;31m---------------------------------------------------------------------------\u001b[0m",
      "\u001b[1;31mNameError\u001b[0m                                 Traceback (most recent call last)",
      "\u001b[1;32m<ipython-input-40-bf77b3f5c9c8>\u001b[0m in \u001b[0;36m<module>\u001b[1;34m\u001b[0m\n\u001b[0;32m      1\u001b[0m \u001b[0mcaract_extras_\u001b[0m\u001b[1;33m=\u001b[0m\u001b[1;33m[\u001b[0m\u001b[1;33m]\u001b[0m\u001b[1;33m\u001b[0m\u001b[1;33m\u001b[0m\u001b[0m\n\u001b[1;32m----> 2\u001b[1;33m \u001b[1;32mfor\u001b[0m \u001b[0mchar\u001b[0m \u001b[1;32min\u001b[0m \u001b[0mcaract_extras1\u001b[0m\u001b[1;33m:\u001b[0m\u001b[1;33m\u001b[0m\u001b[1;33m\u001b[0m\u001b[0m\n\u001b[0m\u001b[0;32m      3\u001b[0m     \u001b[0mcaract_extras_\u001b[0m\u001b[1;33m.\u001b[0m\u001b[0mappend\u001b[0m\u001b[1;33m(\u001b[0m\u001b[0mchar\u001b[0m\u001b[1;33m.\u001b[0m\u001b[0mfindAll\u001b[0m\u001b[1;33m(\u001b[0m\u001b[1;34m'li'\u001b[0m\u001b[1;33m,\u001b[0m \u001b[1;33m{\u001b[0m\u001b[1;34m\"class\"\u001b[0m\u001b[1;33m:\u001b[0m \u001b[1;34m\"charblock-element element-with-bullet\"\u001b[0m\u001b[1;33m}\u001b[0m\u001b[1;33m)\u001b[0m\u001b[1;33m)\u001b[0m\u001b[1;33m\u001b[0m\u001b[1;33m\u001b[0m\u001b[0m\n",
      "\u001b[1;31mNameError\u001b[0m: name 'caract_extras1' is not defined"
     ]
    }
   ],
   "source": [
    "caract_extras_=[]\n",
    "for char in caract_extras1:\n",
    "    caract_extras_.append(char.findAll('li', {\"class\": \"charblock-element element-with-bullet\"}))"
   ]
  },
  {
   "cell_type": "code",
   "execution_count": 280,
   "metadata": {},
   "outputs": [
    {
     "data": {
      "text/plain": [
       "<div class=\"description-container description-body\" id=\"descriptionBody\">\n",
       "            Vivienda a reformar, en pleno centro de valladolid junto a plaza zorrilla. Semisotano. Cuatro estancias. Baño con bañera y termo. Sin cocina. Interior, orientado hacia patio de manzana. Radiadores electricos. Suelo tarima. Oportunidad. Producto bancario\n",
       "        </div>"
      ]
     },
     "execution_count": 280,
     "metadata": {},
     "output_type": "execute_result"
    }
   ],
   "source": [
    "caract_extras_[0]\n",
    "description[2]"
   ]
  },
  {
   "cell_type": "code",
   "execution_count": 270,
   "metadata": {},
   "outputs": [],
   "source": [
    "def garaje_trastero(sub,reference_list):\n",
    "    list=[]\n",
    "    count=0\n",
    "    for char in reference_list:\n",
    "        for char2 in char:\n",
    "            if sub in (char2.span.text).lower():\n",
    "                countsi=1\n",
    "                count+=countsi\n",
    "\n",
    "            else:\n",
    "                count=count\n",
    "        if count>0:\n",
    "\n",
    "            list.append(1)\n",
    "        else:\n",
    "            list.append(0)\n",
    "        count=0   \n",
    "    \n",
    "    return (list)\n"
   ]
  },
  {
   "cell_type": "code",
   "execution_count": 271,
   "metadata": {},
   "outputs": [],
   "source": [
    "Garaje=garaje_trastero('garaje',caract_extras_)"
   ]
  },
  {
   "cell_type": "code",
   "execution_count": 272,
   "metadata": {},
   "outputs": [],
   "source": [
    "Trastero=garaje_trastero('trastero',caract_extras_)"
   ]
  },
  {
   "cell_type": "code",
   "execution_count": 312,
   "metadata": {},
   "outputs": [],
   "source": [
    "Ascensor=[]\n",
    "count=0\n",
    "for char in caract_extras_:\n",
    "    for char2 in char:\n",
    "        if 'ascensor' in (char2.span.text).lower():\n",
    "            countsi=1\n",
    "            count+=countsi\n",
    "           \n",
    "        else:\n",
    "            count+=count\n",
    "    if count>0:\n",
    "            \n",
    "        Ascensor.append(1)\n",
    "    else:\n",
    "        Ascensor.append(0)\n",
    "    count=0\n",
    "    \n",
    "    \n",
    "    "
   ]
  },
  {
   "cell_type": "markdown",
   "metadata": {},
   "source": [
    "GARAJE_DESC, veo si garaje está en descripcion del anuncio, ya que no está indicado como característica siempre"
   ]
  },
  {
   "cell_type": "code",
   "execution_count": 313,
   "metadata": {},
   "outputs": [],
   "source": [
    "garaje_desc=[] #feat\n",
    "for i in range(0,len(descripcion)):\n",
    "      \n",
    "    if 'garaje' in descripcion[i].lower():\n",
    "        garaje_desc.append(1)\n",
    "    else:\n",
    "        garaje_desc.append(0)\n",
    "        "
   ]
  },
  {
   "cell_type": "code",
   "execution_count": 314,
   "metadata": {},
   "outputs": [
    {
     "data": {
      "text/plain": [
       "4440"
      ]
     },
     "execution_count": 314,
     "metadata": {},
     "output_type": "execute_result"
    }
   ],
   "source": [
    "len(Garaje)"
   ]
  },
  {
   "cell_type": "markdown",
   "metadata": {},
   "source": [
    "ASCENSOR_DESC, veo si ascensor está en descripción del anuncio, ya que no está indicado como característica siempre"
   ]
  },
  {
   "cell_type": "code",
   "execution_count": 315,
   "metadata": {},
   "outputs": [],
   "source": [
    "ascensor_desc=[] #feat\n",
    "\n",
    "for i in range(0,len(descripcion)):\n",
    "      \n",
    "    #if 'piso' in titulo[i].lower() or 'ático' in titulo[i].lower()  or 'dúplex' in titulo[i].lower() or 'apartamento' in titulo[i].lower() or 'estudio' in titulo[i].lower():\n",
    "    if 'ascensor' in descripcion[i].lower():\n",
    "        ascensor_desc.append(1)\n",
    "    else:\n",
    "        ascensor_desc.append(0) \n",
    "  \n",
    "    #elif 'chalet' in titulo[i].lower() or 'casa' in titulo[i].lower() or 'finca' in titulo[i].lower():\n",
    "        #ascensor_desc.append('na')\n",
    "   \n",
    "    #else:\n",
    "        #ascensor_desc.append('No info')    \n",
    "      \n",
    "        \n",
    "        \n",
    "         "
   ]
  },
  {
   "cell_type": "markdown",
   "metadata": {},
   "source": [
    "TRASTERO_DESC"
   ]
  },
  {
   "cell_type": "code",
   "execution_count": 316,
   "metadata": {},
   "outputs": [],
   "source": [
    "trastero_desc=[] #FEAT\n",
    "for i in range(0,len(descripcion)):\n",
    "      \n",
    "    if 'trastero' in descripcion[i].lower():\n",
    "        trastero_desc.append(1)\n",
    "    else:\n",
    "        trastero_desc.append(0)\n",
    "        "
   ]
  },
  {
   "cell_type": "markdown",
   "metadata": {},
   "source": [
    "PARQUET_DESC"
   ]
  },
  {
   "cell_type": "code",
   "execution_count": 317,
   "metadata": {},
   "outputs": [],
   "source": [
    "parquet_desc=[] #FEAT\n",
    "for i in range(0,len(descripcion)):\n",
    "      \n",
    "    if 'parquet' in descripcion[i].lower():\n",
    "        parquet_desc.append(1)\n",
    "    else:\n",
    "        parquet_desc.append(0)\n",
    "        "
   ]
  },
  {
   "cell_type": "markdown",
   "metadata": {},
   "source": [
    "JARDIN_DESC"
   ]
  },
  {
   "cell_type": "code",
   "execution_count": 318,
   "metadata": {},
   "outputs": [],
   "source": [
    "jardin_desc=[] #FEAT\n",
    "for i in range(0,len(descripcion)):\n",
    "      \n",
    "    if 'jardin' in descripcion[i].lower():\n",
    "        jardin_desc.append(1)\n",
    "    else:\n",
    "        jardin_desc.append(0)\n",
    "        "
   ]
  },
  {
   "cell_type": "markdown",
   "metadata": {},
   "source": [
    "#### PARA SACAR LAS VARIABLES baños, plantas, habitaciones"
   ]
  },
  {
   "cell_type": "markdown",
   "metadata": {},
   "source": [
    "#### CARACT_EXTRAS_2"
   ]
  },
  {
   "cell_type": "code",
   "execution_count": 39,
   "metadata": {},
   "outputs": [
    {
     "ename": "NameError",
     "evalue": "name 'caract_extras1' is not defined",
     "output_type": "error",
     "traceback": [
      "\u001b[1;31m---------------------------------------------------------------------------\u001b[0m",
      "\u001b[1;31mNameError\u001b[0m                                 Traceback (most recent call last)",
      "\u001b[1;32m<ipython-input-39-ed47594874c3>\u001b[0m in \u001b[0;36m<module>\u001b[1;34m\u001b[0m\n\u001b[0;32m      1\u001b[0m \u001b[0mcaract_extras_2\u001b[0m\u001b[1;33m=\u001b[0m\u001b[1;33m[\u001b[0m\u001b[1;33m]\u001b[0m\u001b[1;33m\u001b[0m\u001b[1;33m\u001b[0m\u001b[0m\n\u001b[1;32m----> 2\u001b[1;33m \u001b[1;32mfor\u001b[0m \u001b[0mchar\u001b[0m \u001b[1;32min\u001b[0m \u001b[0mcaract_extras1\u001b[0m\u001b[1;33m:\u001b[0m\u001b[1;33m\u001b[0m\u001b[1;33m\u001b[0m\u001b[0m\n\u001b[0m\u001b[0;32m      3\u001b[0m     \u001b[0mcaract_extras_2\u001b[0m\u001b[1;33m.\u001b[0m\u001b[0mappend\u001b[0m\u001b[1;33m(\u001b[0m\u001b[0mchar\u001b[0m\u001b[1;33m.\u001b[0m\u001b[0mfindAll\u001b[0m\u001b[1;33m(\u001b[0m\u001b[1;34m'ul'\u001b[0m\u001b[1;33m,\u001b[0m \u001b[1;33m{\u001b[0m\u001b[1;34m\"class\"\u001b[0m\u001b[1;33m:\u001b[0m \u001b[1;34m\"charblock-list\"\u001b[0m\u001b[1;33m}\u001b[0m\u001b[1;33m)\u001b[0m\u001b[1;33m)\u001b[0m\u001b[1;33m\u001b[0m\u001b[1;33m\u001b[0m\u001b[0m\n",
      "\u001b[1;31mNameError\u001b[0m: name 'caract_extras1' is not defined"
     ]
    }
   ],
   "source": [
    "caract_extras_2=[]\n",
    "for char in caract_extras1:\n",
    "    caract_extras_2.append(char.findAll('ul', {\"class\": \"charblock-list\"}))"
   ]
  },
  {
   "cell_type": "code",
   "execution_count": 322,
   "metadata": {},
   "outputs": [],
   "source": [
    "caract_extras_2_string=[]\n",
    "for char in caract_extras_2:\n",
    "        caract_extras_2_string.append(str(char))"
   ]
  },
  {
   "cell_type": "code",
   "execution_count": 323,
   "metadata": {},
   "outputs": [],
   "source": [
    "caract_extras_2_split=[]\n",
    "for char in caract_extras_2_string:\n",
    "    caract_extras_2_split.append(char.split('\\n'))\n"
   ]
  },
  {
   "cell_type": "code",
   "execution_count": 324,
   "metadata": {},
   "outputs": [],
   "source": [
    "def baños_hab_planta(sub1, sub2,reference_list):\n",
    "    list=[]\n",
    "    count=0\n",
    "    for i in range(0,len(reference_list)):\n",
    "        for j in range(0,len(reference_list[i])):\n",
    "            if sub1 in reference_list[i][j] or sub2 in reference_list[i][j]:\n",
    "                countsi=1\n",
    "                count+=countsi\n",
    "                z=j\n",
    "            else:\n",
    "                count+=count\n",
    "\n",
    "        if count>1:\n",
    "\n",
    "            list.append(reference_list[i][z+1])\n",
    "        else:\n",
    "            list.append('No info')\n",
    "        count=0\n",
    "            \n",
    "    return list            \n",
    "        "
   ]
  },
  {
   "cell_type": "code",
   "execution_count": 325,
   "metadata": {},
   "outputs": [],
   "source": [
    "Baños=baños_hab_planta('banos','Baños',caract_extras_2_split)"
   ]
  },
  {
   "cell_type": "code",
   "execution_count": 326,
   "metadata": {},
   "outputs": [],
   "source": [
    "Plantas=baños_hab_planta('planta','Planta',caract_extras_2_split)"
   ]
  },
  {
   "cell_type": "code",
   "execution_count": 327,
   "metadata": {},
   "outputs": [],
   "source": [
    "Habitaciones=baños_hab_planta('habitaciones','Habitaciones',caract_extras_2_split)"
   ]
  },
  {
   "cell_type": "markdown",
   "metadata": {},
   "source": [
    "BAÑOS"
   ]
  },
  {
   "cell_type": "code",
   "execution_count": 328,
   "metadata": {},
   "outputs": [],
   "source": [
    "baños=[] #feat\n",
    "for char in Baños:\n",
    "    char1=char.replace(\"<span>:\",'')\n",
    "    char2=char1.replace('</span>','')\n",
    "    \n",
    "    baños.append(char2)\n",
    "        "
   ]
  },
  {
   "cell_type": "markdown",
   "metadata": {},
   "source": [
    "PLANTA"
   ]
  },
  {
   "cell_type": "code",
   "execution_count": 329,
   "metadata": {},
   "outputs": [],
   "source": [
    "planta=[] #feat\n",
    "for char in Plantas:\n",
    "    char1=char.replace(\"<span>:\",'')\n",
    "    char2=char1.replace('ª','')\n",
    "    char3=char2.replace('</span>','')\n",
    "    \n",
    "    planta.append(char3)"
   ]
  },
  {
   "cell_type": "code",
   "execution_count": 332,
   "metadata": {},
   "outputs": [],
   "source": [
    "def unique_words (list):\n",
    "    keys=set(list)\n",
    "    return keys    "
   ]
  },
  {
   "cell_type": "code",
   "execution_count": 333,
   "metadata": {},
   "outputs": [],
   "source": [
    "vocabulary_planta=collections.Counter(planta)"
   ]
  },
  {
   "cell_type": "code",
   "execution_count": 334,
   "metadata": {},
   "outputs": [],
   "source": [
    "keys_planta=list(vocabulary_planta)\n"
   ]
  },
  {
   "cell_type": "markdown",
   "metadata": {},
   "source": [
    "HABITACIONES"
   ]
  },
  {
   "cell_type": "code",
   "execution_count": 330,
   "metadata": {},
   "outputs": [],
   "source": [
    "habitaciones=[] #feat\n",
    "for char in Habitaciones:\n",
    "    char1=char.replace(\"<span>:\",'')\n",
    "    char2=char1.replace('</span>','')\n",
    "\n",
    "    habitaciones.append(char2)"
   ]
  },
  {
   "cell_type": "code",
   "execution_count": 331,
   "metadata": {},
   "outputs": [
    {
     "data": {
      "text/plain": [
       "4440"
      ]
     },
     "execution_count": 331,
     "metadata": {},
     "output_type": "execute_result"
    }
   ],
   "source": [
    "len(habitaciones)"
   ]
  },
  {
   "cell_type": "markdown",
   "metadata": {},
   "source": [
    "OBRA_NUEVA"
   ]
  },
  {
   "cell_type": "code",
   "execution_count": 344,
   "metadata": {},
   "outputs": [],
   "source": [
    "extras_obra=[]\n",
    "for char in charact: # charact lo habia sacado al principio de containers\n",
    "    ch=char.find('div', {\"item extra\"})  \n",
    "    extras_obra.append(ch)   "
   ]
  },
  {
   "cell_type": "code",
   "execution_count": 345,
   "metadata": {},
   "outputs": [],
   "source": [
    "extras_obra_2=[]\n",
    "for extra in extras_obra:\n",
    "    try:\n",
    "        extras_obra_2.append(extra.text)\n",
    "    except AttributeError:\n",
    "        extras_obra_2.append('0')"
   ]
  },
  {
   "cell_type": "code",
   "execution_count": 346,
   "metadata": {},
   "outputs": [],
   "source": [
    "obra_nueva=[]\n",
    "for extra in extras_obra_2:\n",
    "    if 'Obra nueva' in extra:\n",
    "        obra_nueva.append(1)\n",
    "    else:\n",
    "        obra_nueva.append(0)"
   ]
  },
  {
   "cell_type": "markdown",
   "metadata": {},
   "source": [
    "METROS"
   ]
  },
  {
   "cell_type": "code",
   "execution_count": 358,
   "metadata": {},
   "outputs": [],
   "source": [
    "metros=[]\n",
    "for meter in meters:\n",
    "    meter1=meter.replace('m²','')\n",
    "    metros.append(meter1.strip())"
   ]
  },
  {
   "cell_type": "code",
   "execution_count": 359,
   "metadata": {},
   "outputs": [
    {
     "data": {
      "text/plain": [
       "4440"
      ]
     },
     "execution_count": 359,
     "metadata": {},
     "output_type": "execute_result"
    }
   ],
   "source": [
    "len(metros) #feat"
   ]
  },
  {
   "cell_type": "markdown",
   "metadata": {},
   "source": [
    "PRECIOS"
   ]
  },
  {
   "cell_type": "code",
   "execution_count": 360,
   "metadata": {},
   "outputs": [],
   "source": [
    "precios_strip=[]\n",
    "for price in prices:\n",
    "    precios_strip.append(price.strip())\n",
    "    "
   ]
  },
  {
   "cell_type": "code",
   "execution_count": 361,
   "metadata": {},
   "outputs": [],
   "source": [
    "precios_split=[]\n",
    "for price in precios_strip:\n",
    "    precios_split.append(price.split('€'))"
   ]
  },
  {
   "cell_type": "code",
   "execution_count": 362,
   "metadata": {},
   "outputs": [],
   "source": [
    "precios=[]\n",
    "for i in range(0,len(precios_split)):\n",
    "    precios.append(precios_split[i][0])"
   ]
  },
  {
   "cell_type": "code",
   "execution_count": 363,
   "metadata": {},
   "outputs": [
    {
     "data": {
      "text/plain": [
       "4440"
      ]
     },
     "execution_count": 363,
     "metadata": {},
     "output_type": "execute_result"
    }
   ],
   "source": [
    "len(precios) #FEAT"
   ]
  },
  {
   "cell_type": "markdown",
   "metadata": {},
   "source": [
    "BARRIOS"
   ]
  },
  {
   "cell_type": "code",
   "execution_count": 364,
   "metadata": {},
   "outputs": [],
   "source": [
    "barrios=[]\n",
    "for location in locations:\n",
    "    barrios.append(location.strip())  \n",
    "    "
   ]
  },
  {
   "cell_type": "code",
   "execution_count": 365,
   "metadata": {},
   "outputs": [
    {
     "data": {
      "text/plain": [
       "4440"
      ]
     },
     "execution_count": 365,
     "metadata": {},
     "output_type": "execute_result"
    }
   ],
   "source": [
    "len(barrios) #FEAT"
   ]
  },
  {
   "cell_type": "markdown",
   "metadata": {},
   "source": [
    "FUNCION PARA SACAR EL NOMBRE DE LOS BARRIOS"
   ]
  },
  {
   "cell_type": "code",
   "execution_count": 366,
   "metadata": {},
   "outputs": [],
   "source": [
    "def barrios_ciudad (sub, reference_list):\n",
    "    list=[]\n",
    "    for b in reference_list:\n",
    "        if sub in b:\n",
    "            list.append(b)\n",
    "    return list\n",
    "    "
   ]
  },
  {
   "cell_type": "code",
   "execution_count": 367,
   "metadata": {},
   "outputs": [],
   "source": [
    "barrios_vall=barrios_ciudad('Valladolid',barrios)\n"
   ]
  },
  {
   "cell_type": "code",
   "execution_count": 368,
   "metadata": {},
   "outputs": [
    {
     "data": {
      "text/plain": [
       "['Paseo Zorrilla-Campo Grande-Cuatro de Marzo (Valladolid Capital)',\n",
       " 'Paseo Zorrilla-Campo Grande-Cuatro de Marzo (Valladolid Capital)',\n",
       " 'Centro (Valladolid Capital)',\n",
       " 'Las Delicias (Valladolid Capital)',\n",
       " 'Las Villas-Covaresa-Parque Alameda-La Rubia (Valladolid Capital)',\n",
       " 'Centro (Valladolid Capital)',\n",
       " 'Las Villas-Covaresa-Parque Alameda-La Rubia (Valladolid Capital)',\n",
       " 'Paseo Zorrilla-Campo Grande-Cuatro de Marzo (Valladolid Capital)',\n",
       " 'Centro (Valladolid Capital)',\n",
       " 'Centro (Valladolid Capital)',\n",
       " 'Las Delicias (Valladolid Capital)',\n",
       " 'Parquesol (Valladolid Capital)',\n",
       " 'Centro (Valladolid Capital)',\n",
       " 'Parquesol (Valladolid Capital)',\n",
       " 'Las Villas-Covaresa-Parque Alameda-La Rubia (Valladolid Capital)',\n",
       " 'Centro (Valladolid Capital)',\n",
       " 'Parquesol (Valladolid Capital)',\n",
       " 'Parquesol (Valladolid Capital)',\n",
       " 'Paseo Zorrilla-Campo Grande-Cuatro de Marzo (Valladolid Capital)',\n",
       " 'Las Villas-Covaresa-Parque Alameda-La Rubia (Valladolid Capital)',\n",
       " 'Las Villas-Covaresa-Parque Alameda-La Rubia (Valladolid Capital)',\n",
       " 'Las Villas-Covaresa-Parque Alameda-La Rubia (Valladolid Capital)',\n",
       " 'Camino de la Esperanza-Arturo León (Valladolid Capital)',\n",
       " 'Hospital Nuevo (Valladolid Capital)',\n",
       " 'Las Villas-Covaresa-Parque Alameda-La Rubia (Valladolid Capital)',\n",
       " 'Centro (Valladolid Capital)',\n",
       " 'Ciudad de la Comunicación-Argales (Valladolid Capital)',\n",
       " 'Barrio España-San Pedro Regalado (Valladolid Capital)',\n",
       " 'Las Villas-Covaresa-Parque Alameda-La Rubia (Valladolid Capital)',\n",
       " 'Las Villas-Covaresa-Parque Alameda-La Rubia (Valladolid Capital)',\n",
       " 'Las Villas-Covaresa-Parque Alameda-La Rubia (Valladolid Capital)',\n",
       " 'Las Delicias (Valladolid Capital)',\n",
       " 'Las Villas-Covaresa-Parque Alameda-La Rubia (Valladolid Capital)',\n",
       " 'Las Villas-Covaresa-Parque Alameda-La Rubia (Valladolid Capital)',\n",
       " 'Las Villas-Covaresa-Parque Alameda-La Rubia (Valladolid Capital)',\n",
       " 'Villa de Prado (Valladolid Capital)',\n",
       " 'Las Villas-Covaresa-Parque Alameda-La Rubia (Valladolid Capital)',\n",
       " 'Pinar de Antequera-Puente Duero (Valladolid Capital)',\n",
       " 'Las Delicias (Valladolid Capital)',\n",
       " 'Las Villas-Covaresa-Parque Alameda-La Rubia (Valladolid Capital)',\n",
       " 'Parquesol (Valladolid Capital)',\n",
       " 'Paseo Zorrilla-Campo Grande-Cuatro de Marzo (Valladolid Capital)',\n",
       " 'Las Villas-Covaresa-Parque Alameda-La Rubia (Valladolid Capital)',\n",
       " 'Las Villas-Covaresa-Parque Alameda-La Rubia (Valladolid Capital)',\n",
       " 'Las Villas-Covaresa-Parque Alameda-La Rubia (Valladolid Capital)',\n",
       " 'Paseo Zorrilla-Campo Grande-Cuatro de Marzo (Valladolid Capital)',\n",
       " 'Las Villas-Covaresa-Parque Alameda-La Rubia (Valladolid Capital)',\n",
       " 'Las Delicias (Valladolid Capital)',\n",
       " 'Las Delicias (Valladolid Capital)',\n",
       " 'Parquesol (Valladolid Capital)',\n",
       " 'Las Delicias (Valladolid Capital)',\n",
       " 'Las Villas-Covaresa-Parque Alameda-La Rubia (Valladolid Capital)',\n",
       " 'Las Villas-Covaresa-Parque Alameda-La Rubia (Valladolid Capital)',\n",
       " 'Belén-Pilarica (Valladolid Capital)',\n",
       " 'Huerta del Rey-Arturo Eyríes (Valladolid Capital)',\n",
       " 'Universidad (Valladolid Capital)',\n",
       " 'Villa de Prado (Valladolid Capital)',\n",
       " 'San Miguel-San Nicolás-San Pablo (Valladolid Capital)',\n",
       " 'Fuente Berrocal-La Overuela (Valladolid Capital)',\n",
       " 'Ciudad de la Comunicación-Argales (Valladolid Capital)',\n",
       " 'Paseo Zorrilla-Campo Grande-Cuatro de Marzo (Valladolid Capital)',\n",
       " 'Paseo Zorrilla-Campo Grande-Cuatro de Marzo (Valladolid Capital)',\n",
       " 'Paseo Zorrilla-Campo Grande-Cuatro de Marzo (Valladolid Capital)',\n",
       " 'Las Flores-San Isidro-Pajarillos (Valladolid Capital)',\n",
       " 'Las Villas-Covaresa-Parque Alameda-La Rubia (Valladolid Capital)',\n",
       " 'Centro (Valladolid Capital)',\n",
       " 'Caño Argales (Valladolid Capital)',\n",
       " 'Caño Argales (Valladolid Capital)',\n",
       " 'Parquesol (Valladolid Capital)',\n",
       " 'Las Delicias (Valladolid Capital)',\n",
       " 'Hospital-Rondilla-Santa Clara (Valladolid Capital)',\n",
       " 'Ciudad de la Comunicación-Argales (Valladolid Capital)',\n",
       " 'Centro (Valladolid Capital)',\n",
       " 'Paseo Zorrilla-Campo Grande-Cuatro de Marzo (Valladolid Capital)',\n",
       " 'Camino de la Esperanza-Arturo León (Valladolid Capital)',\n",
       " 'Paseo Zorrilla-Campo Grande-Cuatro de Marzo (Valladolid Capital)',\n",
       " 'Centro (Valladolid Capital)',\n",
       " 'Las Villas-Covaresa-Parque Alameda-La Rubia (Valladolid Capital)',\n",
       " 'Ciudad de la Comunicación-Argales (Valladolid Capital)',\n",
       " 'Parquesol (Valladolid Capital)',\n",
       " 'Huerta del Rey-Arturo Eyríes (Valladolid Capital)',\n",
       " 'Las Villas-Covaresa-Parque Alameda-La Rubia (Valladolid Capital)',\n",
       " 'Fuente Berrocal-La Overuela (Valladolid Capital)',\n",
       " 'Centro (Valladolid Capital)',\n",
       " 'Centro (Valladolid Capital)',\n",
       " 'Las Villas-Covaresa-Parque Alameda-La Rubia (Valladolid Capital)',\n",
       " 'Caño Argales (Valladolid Capital)',\n",
       " 'Circula-Vadillos (Valladolid Capital)',\n",
       " 'Villa de Prado (Valladolid Capital)',\n",
       " 'Centro (Valladolid Capital)',\n",
       " 'Caño Argales (Valladolid Capital)',\n",
       " 'Centro (Valladolid Capital)',\n",
       " 'Paseo Zorrilla-Campo Grande-Cuatro de Marzo (Valladolid Capital)',\n",
       " 'Las Delicias (Valladolid Capital)',\n",
       " 'Las Villas-Covaresa-Parque Alameda-La Rubia (Valladolid Capital)',\n",
       " 'Circula-Vadillos (Valladolid Capital)',\n",
       " 'Ciudad de la Comunicación-Argales (Valladolid Capital)',\n",
       " 'Centro (Valladolid Capital)',\n",
       " 'Circula-Vadillos (Valladolid Capital)',\n",
       " 'Caño Argales (Valladolid Capital)',\n",
       " 'Las Villas-Covaresa-Parque Alameda-La Rubia (Valladolid Capital)',\n",
       " 'Pinar de Antequera-Puente Duero (Valladolid Capital)',\n",
       " 'Hospital-Rondilla-Santa Clara (Valladolid Capital)',\n",
       " 'Paseo Zorrilla-Campo Grande-Cuatro de Marzo (Valladolid Capital)',\n",
       " 'Batallas-San Juan (Valladolid Capital)',\n",
       " 'Villa de Prado (Valladolid Capital)',\n",
       " 'San Miguel-San Nicolás-San Pablo (Valladolid Capital)',\n",
       " 'Las Villas-Covaresa-Parque Alameda-La Rubia (Valladolid Capital)',\n",
       " 'Las Delicias (Valladolid Capital)',\n",
       " 'Camino de la Esperanza-Arturo León (Valladolid Capital)',\n",
       " 'La Victoria (Valladolid Capital)',\n",
       " 'Caño Argales (Valladolid Capital)',\n",
       " 'Centro (Valladolid Capital)',\n",
       " 'Circula-Vadillos (Valladolid Capital)',\n",
       " 'Centro (Valladolid Capital)',\n",
       " 'Paseo Zorrilla-Campo Grande-Cuatro de Marzo (Valladolid Capital)',\n",
       " 'Hospital-Rondilla-Santa Clara (Valladolid Capital)',\n",
       " 'San Miguel-San Nicolás-San Pablo (Valladolid Capital)',\n",
       " 'Centro (Valladolid Capital)',\n",
       " 'Huerta del Rey-Arturo Eyríes (Valladolid Capital)',\n",
       " 'Hospital-Rondilla-Santa Clara (Valladolid Capital)',\n",
       " 'Las Villas-Covaresa-Parque Alameda-La Rubia (Valladolid Capital)',\n",
       " 'Circula-Vadillos (Valladolid Capital)',\n",
       " 'Parquesol (Valladolid Capital)',\n",
       " 'Paseo Zorrilla-Campo Grande-Cuatro de Marzo (Valladolid Capital)',\n",
       " 'Paseo Zorrilla-Campo Grande-Cuatro de Marzo (Valladolid Capital)',\n",
       " 'Belén-Pilarica (Valladolid Capital)',\n",
       " 'Las Delicias (Valladolid Capital)',\n",
       " 'Caño Argales (Valladolid Capital)',\n",
       " 'Parquesol (Valladolid Capital)',\n",
       " 'San Miguel-San Nicolás-San Pablo (Valladolid Capital)',\n",
       " 'La Victoria (Valladolid Capital)',\n",
       " 'Belén-Pilarica (Valladolid Capital)',\n",
       " 'Circula-Vadillos (Valladolid Capital)',\n",
       " 'Las Villas-Covaresa-Parque Alameda-La Rubia (Valladolid Capital)',\n",
       " 'Las Delicias (Valladolid Capital)',\n",
       " 'Paseo Zorrilla-Campo Grande-Cuatro de Marzo (Valladolid Capital)',\n",
       " 'Circula-Vadillos (Valladolid Capital)',\n",
       " 'La Victoria (Valladolid Capital)',\n",
       " 'Huerta del Rey-Arturo Eyríes (Valladolid Capital)',\n",
       " 'Las Delicias (Valladolid Capital)',\n",
       " 'Centro (Valladolid Capital)',\n",
       " 'Parquesol (Valladolid Capital)',\n",
       " 'Camino de la Esperanza-Arturo León (Valladolid Capital)',\n",
       " 'La Victoria (Valladolid Capital)',\n",
       " 'Hospital-Rondilla-Santa Clara (Valladolid Capital)',\n",
       " 'Las Flores-San Isidro-Pajarillos (Valladolid Capital)',\n",
       " 'Las Flores-San Isidro-Pajarillos (Valladolid Capital)',\n",
       " 'Centro (Valladolid Capital)',\n",
       " 'Huerta del Rey-Arturo Eyríes (Valladolid Capital)',\n",
       " 'Fuente Berrocal-La Overuela (Valladolid Capital)',\n",
       " 'Hospital-Rondilla-Santa Clara (Valladolid Capital)',\n",
       " 'La Victoria (Valladolid Capital)',\n",
       " 'Paseo Zorrilla-Campo Grande-Cuatro de Marzo (Valladolid Capital)',\n",
       " 'Las Villas-Covaresa-Parque Alameda-La Rubia (Valladolid Capital)',\n",
       " 'Centro (Valladolid Capital)',\n",
       " 'Caño Argales (Valladolid Capital)',\n",
       " 'Las Villas-Covaresa-Parque Alameda-La Rubia (Valladolid Capital)',\n",
       " 'Parquesol (Valladolid Capital)',\n",
       " 'Las Villas-Covaresa-Parque Alameda-La Rubia (Valladolid Capital)',\n",
       " 'Universidad (Valladolid Capital)',\n",
       " 'Centro (Valladolid Capital)',\n",
       " 'Huerta del Rey-Arturo Eyríes (Valladolid Capital)',\n",
       " 'La Victoria (Valladolid Capital)',\n",
       " 'Centro (Valladolid Capital)',\n",
       " 'Centro (Valladolid Capital)',\n",
       " 'Centro (Valladolid Capital)',\n",
       " 'Las Flores-San Isidro-Pajarillos (Valladolid Capital)',\n",
       " 'La Victoria (Valladolid Capital)',\n",
       " 'Belén-Pilarica (Valladolid Capital)',\n",
       " 'Parquesol (Valladolid Capital)',\n",
       " 'Las Villas-Covaresa-Parque Alameda-La Rubia (Valladolid Capital)',\n",
       " 'Las Delicias (Valladolid Capital)',\n",
       " 'Barrio España-San Pedro Regalado (Valladolid Capital)',\n",
       " 'Fuente Berrocal-La Overuela (Valladolid Capital)',\n",
       " 'Las Flores-San Isidro-Pajarillos (Valladolid Capital)',\n",
       " 'Paseo Zorrilla-Campo Grande-Cuatro de Marzo (Valladolid Capital)',\n",
       " 'Fuente Berrocal-La Overuela (Valladolid Capital)',\n",
       " 'Hospital-Rondilla-Santa Clara (Valladolid Capital)',\n",
       " 'Belén-Pilarica (Valladolid Capital)',\n",
       " 'Las Delicias (Valladolid Capital)',\n",
       " 'La Victoria (Valladolid Capital)',\n",
       " 'La Victoria (Valladolid Capital)',\n",
       " 'La Victoria (Valladolid Capital)',\n",
       " 'Belén-Pilarica (Valladolid Capital)',\n",
       " 'Las Villas-Covaresa-Parque Alameda-La Rubia (Valladolid Capital)',\n",
       " 'Paseo Zorrilla-Campo Grande-Cuatro de Marzo (Valladolid Capital)',\n",
       " 'Fuente Berrocal-La Overuela (Valladolid Capital)',\n",
       " 'Hospital Nuevo (Valladolid Capital)',\n",
       " 'Centro (Valladolid Capital)',\n",
       " 'Centro (Valladolid Capital)',\n",
       " 'Ciudad de la Comunicación-Argales (Valladolid Capital)',\n",
       " 'Parquesol (Valladolid Capital)',\n",
       " 'Centro (Valladolid Capital)',\n",
       " 'La Victoria (Valladolid Capital)',\n",
       " 'Camino de la Esperanza-Arturo León (Valladolid Capital)',\n",
       " 'Villa de Prado (Valladolid Capital)',\n",
       " 'Las Villas-Covaresa-Parque Alameda-La Rubia (Valladolid Capital)',\n",
       " 'Las Villas-Covaresa-Parque Alameda-La Rubia (Valladolid Capital)',\n",
       " 'Las Villas-Covaresa-Parque Alameda-La Rubia (Valladolid Capital)',\n",
       " 'Villa de Prado (Valladolid Capital)',\n",
       " 'Fuente Berrocal-La Overuela (Valladolid Capital)',\n",
       " 'Las Villas-Covaresa-Parque Alameda-La Rubia (Valladolid Capital)',\n",
       " 'Parquesol (Valladolid Capital)',\n",
       " 'Las Villas-Covaresa-Parque Alameda-La Rubia (Valladolid Capital)',\n",
       " 'Ciudad de la Comunicación-Argales (Valladolid Capital)',\n",
       " 'Las Villas-Covaresa-Parque Alameda-La Rubia (Valladolid Capital)',\n",
       " 'Centro (Valladolid Capital)',\n",
       " 'Ciudad de la Comunicación-Argales (Valladolid Capital)',\n",
       " 'Las Villas-Covaresa-Parque Alameda-La Rubia (Valladolid Capital)',\n",
       " 'Camino de la Esperanza-Arturo León (Valladolid Capital)',\n",
       " 'Fuente Berrocal-La Overuela (Valladolid Capital)',\n",
       " 'Las Delicias (Valladolid Capital)',\n",
       " 'Camino de la Esperanza-Arturo León (Valladolid Capital)',\n",
       " 'Las Villas-Covaresa-Parque Alameda-La Rubia (Valladolid Capital)',\n",
       " 'Las Villas-Covaresa-Parque Alameda-La Rubia (Valladolid Capital)',\n",
       " 'Villa de Prado (Valladolid Capital)',\n",
       " 'Las Villas-Covaresa-Parque Alameda-La Rubia (Valladolid Capital)',\n",
       " 'Centro (Valladolid Capital)',\n",
       " 'Las Villas-Covaresa-Parque Alameda-La Rubia (Valladolid Capital)',\n",
       " 'Parquesol (Valladolid Capital)',\n",
       " 'Las Villas-Covaresa-Parque Alameda-La Rubia (Valladolid Capital)',\n",
       " 'Ciudad de la Comunicación-Argales (Valladolid Capital)',\n",
       " 'Barrio España-San Pedro Regalado (Valladolid Capital)',\n",
       " 'Hospital-Rondilla-Santa Clara (Valladolid Capital)',\n",
       " 'Las Delicias (Valladolid Capital)',\n",
       " 'Hospital-Rondilla-Santa Clara (Valladolid Capital)',\n",
       " 'Parquesol (Valladolid Capital)',\n",
       " 'Las Villas-Covaresa-Parque Alameda-La Rubia (Valladolid Capital)',\n",
       " 'Las Villas-Covaresa-Parque Alameda-La Rubia (Valladolid Capital)',\n",
       " 'Las Villas-Covaresa-Parque Alameda-La Rubia (Valladolid Capital)',\n",
       " 'Barrio España-San Pedro Regalado (Valladolid Capital)',\n",
       " 'Centro (Valladolid Capital)',\n",
       " 'Las Villas-Covaresa-Parque Alameda-La Rubia (Valladolid Capital)',\n",
       " 'Las Villas-Covaresa-Parque Alameda-La Rubia (Valladolid Capital)',\n",
       " 'Las Villas-Covaresa-Parque Alameda-La Rubia (Valladolid Capital)',\n",
       " 'Paseo Zorrilla-Campo Grande-Cuatro de Marzo (Valladolid Capital)',\n",
       " 'Las Delicias (Valladolid Capital)',\n",
       " 'Las Villas-Covaresa-Parque Alameda-La Rubia (Valladolid Capital)',\n",
       " 'Ciudad de la Comunicación-Argales (Valladolid Capital)',\n",
       " 'Las Villas-Covaresa-Parque Alameda-La Rubia (Valladolid Capital)',\n",
       " 'Las Delicias (Valladolid Capital)',\n",
       " 'Camino de la Esperanza-Arturo León (Valladolid Capital)',\n",
       " 'Las Villas-Covaresa-Parque Alameda-La Rubia (Valladolid Capital)',\n",
       " 'Ciudad de la Comunicación-Argales (Valladolid Capital)',\n",
       " 'Centro (Valladolid Capital)',\n",
       " 'Hospital-Rondilla-Santa Clara (Valladolid Capital)',\n",
       " 'Centro (Valladolid Capital)',\n",
       " 'Centro (Valladolid Capital)',\n",
       " 'Ciudad de la Comunicación-Argales (Valladolid Capital)',\n",
       " 'Las Villas-Covaresa-Parque Alameda-La Rubia (Valladolid Capital)',\n",
       " 'Hospital-Rondilla-Santa Clara (Valladolid Capital)',\n",
       " 'Las Delicias (Valladolid Capital)',\n",
       " 'Parquesol (Valladolid Capital)',\n",
       " 'Las Villas-Covaresa-Parque Alameda-La Rubia (Valladolid Capital)',\n",
       " 'Las Delicias (Valladolid Capital)',\n",
       " 'Las Villas-Covaresa-Parque Alameda-La Rubia (Valladolid Capital)',\n",
       " 'Centro (Valladolid Capital)',\n",
       " 'Las Villas-Covaresa-Parque Alameda-La Rubia (Valladolid Capital)',\n",
       " 'Las Villas-Covaresa-Parque Alameda-La Rubia (Valladolid Capital)',\n",
       " 'Villa de Prado (Valladolid Capital)',\n",
       " 'Las Delicias (Valladolid Capital)',\n",
       " 'Las Delicias (Valladolid Capital)',\n",
       " 'Centro (Valladolid Capital)',\n",
       " 'Las Villas-Covaresa-Parque Alameda-La Rubia (Valladolid Capital)',\n",
       " 'Las Delicias (Valladolid Capital)',\n",
       " 'Villa de Prado (Valladolid Capital)',\n",
       " 'Las Delicias (Valladolid Capital)',\n",
       " 'Las Delicias (Valladolid Capital)',\n",
       " 'Centro (Valladolid Capital)',\n",
       " 'Las Delicias (Valladolid Capital)',\n",
       " 'Villa de Prado (Valladolid Capital)',\n",
       " 'Las Villas-Covaresa-Parque Alameda-La Rubia (Valladolid Capital)',\n",
       " 'Las Villas-Covaresa-Parque Alameda-La Rubia (Valladolid Capital)',\n",
       " 'Las Villas-Covaresa-Parque Alameda-La Rubia (Valladolid Capital)',\n",
       " 'Barrio España-San Pedro Regalado (Valladolid Capital)',\n",
       " 'Las Villas-Covaresa-Parque Alameda-La Rubia (Valladolid Capital)',\n",
       " 'Las Delicias (Valladolid Capital)',\n",
       " 'Ciudad de la Comunicación-Argales (Valladolid Capital)',\n",
       " 'Hospital-Rondilla-Santa Clara (Valladolid Capital)',\n",
       " 'Paseo Zorrilla-Campo Grande-Cuatro de Marzo (Valladolid Capital)',\n",
       " 'Las Flores-San Isidro-Pajarillos (Valladolid Capital)',\n",
       " 'Hospital-Rondilla-Santa Clara (Valladolid Capital)',\n",
       " 'Las Delicias (Valladolid Capital)',\n",
       " 'Paseo Zorrilla-Campo Grande-Cuatro de Marzo (Valladolid Capital)',\n",
       " 'Paseo Zorrilla-Campo Grande-Cuatro de Marzo (Valladolid Capital)',\n",
       " 'Paseo Zorrilla-Campo Grande-Cuatro de Marzo (Valladolid Capital)',\n",
       " 'Paseo Zorrilla-Campo Grande-Cuatro de Marzo (Valladolid Capital)',\n",
       " 'Paseo Zorrilla-Campo Grande-Cuatro de Marzo (Valladolid Capital)',\n",
       " 'La Victoria (Valladolid Capital)',\n",
       " 'Las Villas-Covaresa-Parque Alameda-La Rubia (Valladolid Capital)',\n",
       " 'Las Villas-Covaresa-Parque Alameda-La Rubia (Valladolid Capital)',\n",
       " 'Caño Argales (Valladolid Capital)',\n",
       " 'Las Delicias (Valladolid Capital)',\n",
       " 'Hospital Nuevo (Valladolid Capital)',\n",
       " 'San Miguel-San Nicolás-San Pablo (Valladolid Capital)',\n",
       " 'Las Delicias (Valladolid Capital)',\n",
       " 'Paseo Zorrilla-Campo Grande-Cuatro de Marzo (Valladolid Capital)',\n",
       " 'Ciudad de la Comunicación-Argales (Valladolid Capital)',\n",
       " 'Hospital Nuevo (Valladolid Capital)',\n",
       " 'Centro (Valladolid Capital)',\n",
       " 'Hospital-Rondilla-Santa Clara (Valladolid Capital)',\n",
       " 'Paseo Zorrilla-Campo Grande-Cuatro de Marzo (Valladolid Capital)',\n",
       " 'Ciudad de la Comunicación-Argales (Valladolid Capital)',\n",
       " 'Batallas-San Juan (Valladolid Capital)',\n",
       " 'Paseo Zorrilla-Campo Grande-Cuatro de Marzo (Valladolid Capital)',\n",
       " 'Las Delicias (Valladolid Capital)',\n",
       " 'Fuente Berrocal-La Overuela (Valladolid Capital)',\n",
       " 'Centro (Valladolid Capital)',\n",
       " 'Universidad (Valladolid Capital)',\n",
       " 'Centro (Valladolid Capital)',\n",
       " 'Parquesol (Valladolid Capital)',\n",
       " 'Paseo Zorrilla-Campo Grande-Cuatro de Marzo (Valladolid Capital)',\n",
       " 'Ciudad de la Comunicación-Argales (Valladolid Capital)',\n",
       " 'Belén-Pilarica (Valladolid Capital)',\n",
       " 'Circula-Vadillos (Valladolid Capital)',\n",
       " 'Circula-Vadillos (Valladolid Capital)',\n",
       " 'Paseo Zorrilla-Campo Grande-Cuatro de Marzo (Valladolid Capital)',\n",
       " 'Las Flores-San Isidro-Pajarillos (Valladolid Capital)',\n",
       " 'Las Delicias (Valladolid Capital)',\n",
       " 'Centro (Valladolid Capital)',\n",
       " 'Huerta del Rey-Arturo Eyríes (Valladolid Capital)',\n",
       " 'Universidad (Valladolid Capital)',\n",
       " 'Paseo Zorrilla-Campo Grande-Cuatro de Marzo (Valladolid Capital)',\n",
       " 'Paseo Zorrilla-Campo Grande-Cuatro de Marzo (Valladolid Capital)',\n",
       " 'Centro (Valladolid Capital)',\n",
       " 'Ciudad de la Comunicación-Argales (Valladolid Capital)',\n",
       " 'Huerta del Rey-Arturo Eyríes (Valladolid Capital)',\n",
       " 'Circula-Vadillos (Valladolid Capital)',\n",
       " 'San Miguel-San Nicolás-San Pablo (Valladolid Capital)',\n",
       " 'Centro (Valladolid Capital)',\n",
       " 'Hospital-Rondilla-Santa Clara (Valladolid Capital)',\n",
       " 'Huerta del Rey-Arturo Eyríes (Valladolid Capital)',\n",
       " 'Ciudad de la Comunicación-Argales (Valladolid Capital)',\n",
       " 'Pinar de Jalón (Valladolid Capital)',\n",
       " 'Las Flores-San Isidro-Pajarillos (Valladolid Capital)',\n",
       " 'Las Delicias (Valladolid Capital)',\n",
       " 'Las Flores-San Isidro-Pajarillos (Valladolid Capital)',\n",
       " 'Las Villas-Covaresa-Parque Alameda-La Rubia (Valladolid Capital)',\n",
       " 'Las Villas-Covaresa-Parque Alameda-La Rubia (Valladolid Capital)',\n",
       " 'Paseo Zorrilla-Campo Grande-Cuatro de Marzo (Valladolid Capital)',\n",
       " 'Ciudad de la Comunicación-Argales (Valladolid Capital)',\n",
       " 'Las Delicias (Valladolid Capital)',\n",
       " 'Paseo Zorrilla-Campo Grande-Cuatro de Marzo (Valladolid Capital)',\n",
       " 'Las Delicias (Valladolid Capital)',\n",
       " 'Las Villas-Covaresa-Parque Alameda-La Rubia (Valladolid Capital)',\n",
       " 'Camino de la Esperanza-Arturo León (Valladolid Capital)',\n",
       " 'Ciudad de la Comunicación-Argales (Valladolid Capital)',\n",
       " 'Paseo Zorrilla-Campo Grande-Cuatro de Marzo (Valladolid Capital)',\n",
       " 'Las Villas-Covaresa-Parque Alameda-La Rubia (Valladolid Capital)',\n",
       " 'Paseo Zorrilla-Campo Grande-Cuatro de Marzo (Valladolid Capital)',\n",
       " 'Las Villas-Covaresa-Parque Alameda-La Rubia (Valladolid Capital)',\n",
       " 'Ciudad de la Comunicación-Argales (Valladolid Capital)',\n",
       " 'Las Flores-San Isidro-Pajarillos (Valladolid Capital)',\n",
       " 'Las Delicias (Valladolid Capital)',\n",
       " 'Huerta del Rey-Arturo Eyríes (Valladolid Capital)',\n",
       " 'Ciudad de la Comunicación-Argales (Valladolid Capital)',\n",
       " 'Ciudad de la Comunicación-Argales (Valladolid Capital)',\n",
       " 'Paseo Zorrilla-Campo Grande-Cuatro de Marzo (Valladolid Capital)',\n",
       " 'Ciudad de la Comunicación-Argales (Valladolid Capital)',\n",
       " 'Caño Argales (Valladolid Capital)',\n",
       " 'Paseo Zorrilla-Campo Grande-Cuatro de Marzo (Valladolid Capital)',\n",
       " 'Las Villas-Covaresa-Parque Alameda-La Rubia (Valladolid Capital)',\n",
       " 'Centro (Valladolid Capital)',\n",
       " 'Paseo Zorrilla-Campo Grande-Cuatro de Marzo (Valladolid Capital)',\n",
       " 'Las Villas-Covaresa-Parque Alameda-La Rubia (Valladolid Capital)',\n",
       " 'Las Flores-San Isidro-Pajarillos (Valladolid Capital)',\n",
       " 'Las Delicias (Valladolid Capital)',\n",
       " 'Ciudad de la Comunicación-Argales (Valladolid Capital)',\n",
       " 'Belén-Pilarica (Valladolid Capital)',\n",
       " 'Las Villas-Covaresa-Parque Alameda-La Rubia (Valladolid Capital)',\n",
       " 'Ciudad de la Comunicación-Argales (Valladolid Capital)',\n",
       " 'Paseo Zorrilla-Campo Grande-Cuatro de Marzo (Valladolid Capital)',\n",
       " 'Centro (Valladolid Capital)',\n",
       " 'Las Villas-Covaresa-Parque Alameda-La Rubia (Valladolid Capital)',\n",
       " 'Paseo Zorrilla-Campo Grande-Cuatro de Marzo (Valladolid Capital)',\n",
       " 'San Miguel-San Nicolás-San Pablo (Valladolid Capital)',\n",
       " 'Las Villas-Covaresa-Parque Alameda-La Rubia (Valladolid Capital)',\n",
       " 'Paseo Zorrilla-Campo Grande-Cuatro de Marzo (Valladolid Capital)',\n",
       " 'Ciudad de la Comunicación-Argales (Valladolid Capital)',\n",
       " 'Las Delicias (Valladolid Capital)',\n",
       " 'Ciudad de la Comunicación-Argales (Valladolid Capital)',\n",
       " 'Las Villas-Covaresa-Parque Alameda-La Rubia (Valladolid Capital)',\n",
       " 'Circula-Vadillos (Valladolid Capital)',\n",
       " 'Hospital-Rondilla-Santa Clara (Valladolid Capital)',\n",
       " 'Paseo Zorrilla-Campo Grande-Cuatro de Marzo (Valladolid Capital)',\n",
       " 'Centro (Valladolid Capital)',\n",
       " 'Las Villas-Covaresa-Parque Alameda-La Rubia (Valladolid Capital)',\n",
       " 'Parquesol (Valladolid Capital)',\n",
       " 'Ciudad de la Comunicación-Argales (Valladolid Capital)',\n",
       " 'Hospital-Rondilla-Santa Clara (Valladolid Capital)',\n",
       " 'Paseo Zorrilla-Campo Grande-Cuatro de Marzo (Valladolid Capital)',\n",
       " 'Parquesol (Valladolid Capital)',\n",
       " 'Paseo Zorrilla-Campo Grande-Cuatro de Marzo (Valladolid Capital)',\n",
       " 'Caño Argales (Valladolid Capital)',\n",
       " 'Paseo Zorrilla-Campo Grande-Cuatro de Marzo (Valladolid Capital)',\n",
       " 'Paseo Zorrilla-Campo Grande-Cuatro de Marzo (Valladolid Capital)',\n",
       " 'Parquesol (Valladolid Capital)',\n",
       " 'Parquesol (Valladolid Capital)',\n",
       " 'Paseo Zorrilla-Campo Grande-Cuatro de Marzo (Valladolid Capital)',\n",
       " 'Las Delicias (Valladolid Capital)',\n",
       " 'Paseo Zorrilla-Campo Grande-Cuatro de Marzo (Valladolid Capital)',\n",
       " 'Las Flores-San Isidro-Pajarillos (Valladolid Capital)',\n",
       " 'Las Delicias (Valladolid Capital)',\n",
       " 'Girón (Valladolid Capital)',\n",
       " 'Caño Argales (Valladolid Capital)',\n",
       " 'Las Villas-Covaresa-Parque Alameda-La Rubia (Valladolid Capital)',\n",
       " 'Caño Argales (Valladolid Capital)',\n",
       " 'San Miguel-San Nicolás-San Pablo (Valladolid Capital)',\n",
       " 'Ciudad de la Comunicación-Argales (Valladolid Capital)',\n",
       " 'Ciudad de la Comunicación-Argales (Valladolid Capital)',\n",
       " 'Ciudad de la Comunicación-Argales (Valladolid Capital)',\n",
       " 'Ciudad de la Comunicación-Argales (Valladolid Capital)',\n",
       " 'Las Villas-Covaresa-Parque Alameda-La Rubia (Valladolid Capital)',\n",
       " 'Ciudad de la Comunicación-Argales (Valladolid Capital)',\n",
       " 'Circula-Vadillos (Valladolid Capital)',\n",
       " 'Ciudad de la Comunicación-Argales (Valladolid Capital)',\n",
       " 'Parquesol (Valladolid Capital)',\n",
       " 'San Miguel-San Nicolás-San Pablo (Valladolid Capital)',\n",
       " 'Paseo Zorrilla-Campo Grande-Cuatro de Marzo (Valladolid Capital)',\n",
       " 'Universidad (Valladolid Capital)',\n",
       " 'Huerta del Rey-Arturo Eyríes (Valladolid Capital)',\n",
       " 'Paseo Zorrilla-Campo Grande-Cuatro de Marzo (Valladolid Capital)',\n",
       " 'Universidad (Valladolid Capital)',\n",
       " 'Las Delicias (Valladolid Capital)',\n",
       " 'San Miguel-San Nicolás-San Pablo (Valladolid Capital)',\n",
       " 'Circula-Vadillos (Valladolid Capital)',\n",
       " 'San Miguel-San Nicolás-San Pablo (Valladolid Capital)',\n",
       " 'Las Delicias (Valladolid Capital)',\n",
       " 'Paseo Zorrilla-Campo Grande-Cuatro de Marzo (Valladolid Capital)',\n",
       " 'Las Delicias (Valladolid Capital)',\n",
       " 'Las Flores-San Isidro-Pajarillos (Valladolid Capital)',\n",
       " 'Caño Argales (Valladolid Capital)',\n",
       " 'Polígono Industrial San Cristóbal (Valladolid Capital)',\n",
       " 'Las Delicias (Valladolid Capital)',\n",
       " 'Centro (Valladolid Capital)',\n",
       " 'Paseo Zorrilla-Campo Grande-Cuatro de Marzo (Valladolid Capital)',\n",
       " 'Ciudad de la Comunicación-Argales (Valladolid Capital)',\n",
       " 'Centro (Valladolid Capital)',\n",
       " 'Las Villas-Covaresa-Parque Alameda-La Rubia (Valladolid Capital)',\n",
       " 'Paseo Zorrilla-Campo Grande-Cuatro de Marzo (Valladolid Capital)',\n",
       " 'Las Delicias (Valladolid Capital)',\n",
       " 'La Victoria (Valladolid Capital)',\n",
       " 'Las Delicias (Valladolid Capital)',\n",
       " 'Caño Argales (Valladolid Capital)',\n",
       " 'Paseo Zorrilla-Campo Grande-Cuatro de Marzo (Valladolid Capital)',\n",
       " 'Las Villas-Covaresa-Parque Alameda-La Rubia (Valladolid Capital)',\n",
       " 'Fuente Berrocal-La Overuela (Valladolid Capital)',\n",
       " 'Parquesol (Valladolid Capital)',\n",
       " 'San Miguel-San Nicolás-San Pablo (Valladolid Capital)',\n",
       " 'Fuente Berrocal-La Overuela (Valladolid Capital)',\n",
       " 'Hospital-Rondilla-Santa Clara (Valladolid Capital)',\n",
       " 'La Victoria (Valladolid Capital)',\n",
       " 'Las Villas-Covaresa-Parque Alameda-La Rubia (Valladolid Capital)',\n",
       " 'Villa de Prado (Valladolid Capital)',\n",
       " 'Las Flores-San Isidro-Pajarillos (Valladolid Capital)',\n",
       " 'Circula-Vadillos (Valladolid Capital)',\n",
       " 'Las Delicias (Valladolid Capital)',\n",
       " 'Las Villas-Covaresa-Parque Alameda-La Rubia (Valladolid Capital)',\n",
       " 'Huerta del Rey-Arturo Eyríes (Valladolid Capital)',\n",
       " 'Las Flores-San Isidro-Pajarillos (Valladolid Capital)',\n",
       " 'Las Delicias (Valladolid Capital)',\n",
       " 'Paseo Zorrilla-Campo Grande-Cuatro de Marzo (Valladolid Capital)',\n",
       " 'Ciudad de la Comunicación-Argales (Valladolid Capital)',\n",
       " 'Centro (Valladolid Capital)',\n",
       " 'Circula-Vadillos (Valladolid Capital)',\n",
       " 'Caño Argales (Valladolid Capital)',\n",
       " 'Paseo Zorrilla-Campo Grande-Cuatro de Marzo (Valladolid Capital)',\n",
       " 'Paseo Zorrilla-Campo Grande-Cuatro de Marzo (Valladolid Capital)',\n",
       " 'Villa de Prado (Valladolid Capital)',\n",
       " 'Paseo Zorrilla-Campo Grande-Cuatro de Marzo (Valladolid Capital)',\n",
       " 'Centro (Valladolid Capital)',\n",
       " 'Las Villas-Covaresa-Parque Alameda-La Rubia (Valladolid Capital)',\n",
       " 'Centro (Valladolid Capital)',\n",
       " 'Caño Argales (Valladolid Capital)',\n",
       " 'Paseo Zorrilla-Campo Grande-Cuatro de Marzo (Valladolid Capital)',\n",
       " 'Centro (Valladolid Capital)',\n",
       " 'Las Villas-Covaresa-Parque Alameda-La Rubia (Valladolid Capital)',\n",
       " 'Belén-Pilarica (Valladolid Capital)',\n",
       " 'Parquesol (Valladolid Capital)',\n",
       " 'Las Delicias (Valladolid Capital)',\n",
       " 'Parquesol (Valladolid Capital)',\n",
       " 'Ciudad de la Comunicación-Argales (Valladolid Capital)',\n",
       " 'Caño Argales (Valladolid Capital)',\n",
       " 'Batallas-San Juan (Valladolid Capital)',\n",
       " 'Las Delicias (Valladolid Capital)',\n",
       " 'Pinar de Antequera-Puente Duero (Valladolid Capital)',\n",
       " 'Las Delicias (Valladolid Capital)',\n",
       " 'Las Villas-Covaresa-Parque Alameda-La Rubia (Valladolid Capital)',\n",
       " 'La Victoria (Valladolid Capital)',\n",
       " 'Universidad (Valladolid Capital)',\n",
       " 'Huerta del Rey-Arturo Eyríes (Valladolid Capital)',\n",
       " 'Huerta del Rey-Arturo Eyríes (Valladolid Capital)',\n",
       " 'Las Villas-Covaresa-Parque Alameda-La Rubia (Valladolid Capital)',\n",
       " 'Villa de Prado (Valladolid Capital)',\n",
       " 'Las Delicias (Valladolid Capital)',\n",
       " 'Las Delicias (Valladolid Capital)',\n",
       " 'Barrio España-San Pedro Regalado (Valladolid Capital)',\n",
       " 'Camino de la Esperanza-Arturo León (Valladolid Capital)',\n",
       " 'San Miguel-San Nicolás-San Pablo (Valladolid Capital)',\n",
       " 'Las Villas-Covaresa-Parque Alameda-La Rubia (Valladolid Capital)',\n",
       " 'Las Delicias (Valladolid Capital)',\n",
       " 'Las Delicias (Valladolid Capital)',\n",
       " 'Ciudad de la Comunicación-Argales (Valladolid Capital)',\n",
       " 'Ciudad de la Comunicación-Argales (Valladolid Capital)',\n",
       " 'Las Villas-Covaresa-Parque Alameda-La Rubia (Valladolid Capital)',\n",
       " 'Centro (Valladolid Capital)',\n",
       " 'Ciudad de la Comunicación-Argales (Valladolid Capital)',\n",
       " 'San Miguel-San Nicolás-San Pablo (Valladolid Capital)',\n",
       " 'Paseo Zorrilla-Campo Grande-Cuatro de Marzo (Valladolid Capital)',\n",
       " 'Caño Argales (Valladolid Capital)',\n",
       " 'Hospital-Rondilla-Santa Clara (Valladolid Capital)',\n",
       " 'Hospital-Rondilla-Santa Clara (Valladolid Capital)',\n",
       " 'Las Delicias (Valladolid Capital)',\n",
       " 'Fuente Berrocal-La Overuela (Valladolid Capital)',\n",
       " 'Ciudad de la Comunicación-Argales (Valladolid Capital)',\n",
       " 'Las Delicias (Valladolid Capital)',\n",
       " 'Huerta del Rey-Arturo Eyríes (Valladolid Capital)',\n",
       " 'Las Villas-Covaresa-Parque Alameda-La Rubia (Valladolid Capital)',\n",
       " 'Las Flores-San Isidro-Pajarillos (Valladolid Capital)',\n",
       " 'Paseo Zorrilla-Campo Grande-Cuatro de Marzo (Valladolid Capital)',\n",
       " 'Paseo Zorrilla-Campo Grande-Cuatro de Marzo (Valladolid Capital)',\n",
       " 'Centro (Valladolid Capital)',\n",
       " 'Las Delicias (Valladolid Capital)',\n",
       " 'Parquesol (Valladolid Capital)',\n",
       " 'San Miguel-San Nicolás-San Pablo (Valladolid Capital)',\n",
       " 'Paseo Zorrilla-Campo Grande-Cuatro de Marzo (Valladolid Capital)',\n",
       " 'Las Flores-San Isidro-Pajarillos (Valladolid Capital)',\n",
       " 'Las Flores-San Isidro-Pajarillos (Valladolid Capital)',\n",
       " 'Universidad (Valladolid Capital)',\n",
       " 'Las Delicias (Valladolid Capital)',\n",
       " 'Paseo Zorrilla-Campo Grande-Cuatro de Marzo (Valladolid Capital)',\n",
       " 'Centro (Valladolid Capital)',\n",
       " 'Ciudad de la Comunicación-Argales (Valladolid Capital)',\n",
       " 'Centro (Valladolid Capital)',\n",
       " 'Villa de Prado (Valladolid Capital)',\n",
       " 'Centro (Valladolid Capital)',\n",
       " 'Universidad (Valladolid Capital)',\n",
       " 'Paseo Zorrilla-Campo Grande-Cuatro de Marzo (Valladolid Capital)',\n",
       " 'Ciudad de la Comunicación-Argales (Valladolid Capital)',\n",
       " 'Huerta del Rey-Arturo Eyríes (Valladolid Capital)',\n",
       " 'Pinar de Antequera-Puente Duero (Valladolid Capital)',\n",
       " 'Centro (Valladolid Capital)',\n",
       " 'Centro (Valladolid Capital)',\n",
       " 'San Miguel-San Nicolás-San Pablo (Valladolid Capital)',\n",
       " 'Las Flores-San Isidro-Pajarillos (Valladolid Capital)',\n",
       " 'Centro (Valladolid Capital)',\n",
       " 'Parquesol (Valladolid Capital)',\n",
       " 'Centro (Valladolid Capital)',\n",
       " 'Universidad (Valladolid Capital)',\n",
       " 'Centro (Valladolid Capital)',\n",
       " 'Ciudad de la Comunicación-Argales (Valladolid Capital)',\n",
       " 'Las Delicias (Valladolid Capital)',\n",
       " 'Parquesol (Valladolid Capital)',\n",
       " 'Parquesol (Valladolid Capital)',\n",
       " 'Circula-Vadillos (Valladolid Capital)',\n",
       " 'Paseo Zorrilla-Campo Grande-Cuatro de Marzo (Valladolid Capital)',\n",
       " 'Centro (Valladolid Capital)',\n",
       " 'Las Delicias (Valladolid Capital)',\n",
       " 'Centro (Valladolid Capital)',\n",
       " 'Ciudad de la Comunicación-Argales (Valladolid Capital)',\n",
       " 'Las Delicias (Valladolid Capital)',\n",
       " 'Universidad (Valladolid Capital)',\n",
       " 'Caño Argales (Valladolid Capital)',\n",
       " 'Las Flores-San Isidro-Pajarillos (Valladolid Capital)',\n",
       " 'Paseo Zorrilla-Campo Grande-Cuatro de Marzo (Valladolid Capital)',\n",
       " 'Paseo Zorrilla-Campo Grande-Cuatro de Marzo (Valladolid Capital)',\n",
       " 'Centro (Valladolid Capital)',\n",
       " 'Parquesol (Valladolid Capital)',\n",
       " 'Caño Argales (Valladolid Capital)',\n",
       " 'Las Flores-San Isidro-Pajarillos (Valladolid Capital)',\n",
       " 'Centro (Valladolid Capital)',\n",
       " 'Hospital-Rondilla-Santa Clara (Valladolid Capital)',\n",
       " 'Las Flores-San Isidro-Pajarillos (Valladolid Capital)',\n",
       " 'Paseo Zorrilla-Campo Grande-Cuatro de Marzo (Valladolid Capital)',\n",
       " 'Las Delicias (Valladolid Capital)',\n",
       " 'Hospital-Rondilla-Santa Clara (Valladolid Capital)',\n",
       " 'Paseo Zorrilla-Campo Grande-Cuatro de Marzo (Valladolid Capital)',\n",
       " 'Camino de la Esperanza-Arturo León (Valladolid Capital)',\n",
       " 'Universidad (Valladolid Capital)',\n",
       " 'Parquesol (Valladolid Capital)',\n",
       " 'La Victoria (Valladolid Capital)',\n",
       " 'Las Delicias (Valladolid Capital)',\n",
       " 'Centro (Valladolid Capital)',\n",
       " 'Centro (Valladolid Capital)',\n",
       " 'Ciudad de la Comunicación-Argales (Valladolid Capital)',\n",
       " 'Las Villas-Covaresa-Parque Alameda-La Rubia (Valladolid Capital)',\n",
       " 'Las Delicias (Valladolid Capital)',\n",
       " 'Centro (Valladolid Capital)',\n",
       " 'Paseo Zorrilla-Campo Grande-Cuatro de Marzo (Valladolid Capital)',\n",
       " 'Batallas-San Juan (Valladolid Capital)',\n",
       " 'La Victoria (Valladolid Capital)',\n",
       " 'Paseo Zorrilla-Campo Grande-Cuatro de Marzo (Valladolid Capital)',\n",
       " 'Las Villas-Covaresa-Parque Alameda-La Rubia (Valladolid Capital)',\n",
       " 'Las Flores-San Isidro-Pajarillos (Valladolid Capital)',\n",
       " 'Batallas-San Juan (Valladolid Capital)',\n",
       " 'Las Delicias (Valladolid Capital)',\n",
       " 'Ciudad de la Comunicación-Argales (Valladolid Capital)',\n",
       " 'Las Delicias (Valladolid Capital)',\n",
       " 'Huerta del Rey-Arturo Eyríes (Valladolid Capital)',\n",
       " 'Ciudad de la Comunicación-Argales (Valladolid Capital)',\n",
       " 'Huerta del Rey-Arturo Eyríes (Valladolid Capital)',\n",
       " 'Paseo Zorrilla-Campo Grande-Cuatro de Marzo (Valladolid Capital)',\n",
       " 'Circula-Vadillos (Valladolid Capital)',\n",
       " 'Las Villas-Covaresa-Parque Alameda-La Rubia (Valladolid Capital)',\n",
       " 'Hospital-Rondilla-Santa Clara (Valladolid Capital)',\n",
       " 'Las Villas-Covaresa-Parque Alameda-La Rubia (Valladolid Capital)',\n",
       " 'Huerta del Rey-Arturo Eyríes (Valladolid Capital)',\n",
       " 'Las Flores-San Isidro-Pajarillos (Valladolid Capital)',\n",
       " 'Caño Argales (Valladolid Capital)',\n",
       " 'Paseo Zorrilla-Campo Grande-Cuatro de Marzo (Valladolid Capital)',\n",
       " 'Las Delicias (Valladolid Capital)',\n",
       " 'Paseo Zorrilla-Campo Grande-Cuatro de Marzo (Valladolid Capital)',\n",
       " 'Las Delicias (Valladolid Capital)',\n",
       " 'Huerta del Rey-Arturo Eyríes (Valladolid Capital)',\n",
       " 'Las Delicias (Valladolid Capital)',\n",
       " 'Paseo Zorrilla-Campo Grande-Cuatro de Marzo (Valladolid Capital)',\n",
       " 'Belén-Pilarica (Valladolid Capital)',\n",
       " 'Fuente Berrocal-La Overuela (Valladolid Capital)',\n",
       " 'Caño Argales (Valladolid Capital)',\n",
       " 'Paseo Zorrilla-Campo Grande-Cuatro de Marzo (Valladolid Capital)',\n",
       " 'Huerta del Rey-Arturo Eyríes (Valladolid Capital)',\n",
       " 'Parquesol (Valladolid Capital)',\n",
       " 'Las Delicias (Valladolid Capital)',\n",
       " 'Las Delicias (Valladolid Capital)',\n",
       " 'Paseo Zorrilla-Campo Grande-Cuatro de Marzo (Valladolid Capital)',\n",
       " 'Las Delicias (Valladolid Capital)',\n",
       " 'Las Delicias (Valladolid Capital)',\n",
       " 'Centro (Valladolid Capital)',\n",
       " 'Las Delicias (Valladolid Capital)',\n",
       " 'Huerta del Rey-Arturo Eyríes (Valladolid Capital)',\n",
       " 'Huerta del Rey-Arturo Eyríes (Valladolid Capital)',\n",
       " 'Paseo Zorrilla-Campo Grande-Cuatro de Marzo (Valladolid Capital)',\n",
       " 'Paseo Zorrilla-Campo Grande-Cuatro de Marzo (Valladolid Capital)',\n",
       " 'Hospital-Rondilla-Santa Clara (Valladolid Capital)',\n",
       " 'Circula-Vadillos (Valladolid Capital)',\n",
       " 'Las Flores-San Isidro-Pajarillos (Valladolid Capital)',\n",
       " 'Circula-Vadillos (Valladolid Capital)',\n",
       " 'Hospital-Rondilla-Santa Clara (Valladolid Capital)',\n",
       " 'San Miguel-San Nicolás-San Pablo (Valladolid Capital)',\n",
       " 'Circula-Vadillos (Valladolid Capital)',\n",
       " 'Belén-Pilarica (Valladolid Capital)',\n",
       " 'Las Flores-San Isidro-Pajarillos (Valladolid Capital)',\n",
       " 'Batallas-San Juan (Valladolid Capital)',\n",
       " 'Caño Argales (Valladolid Capital)',\n",
       " 'Centro (Valladolid Capital)',\n",
       " 'Centro (Valladolid Capital)',\n",
       " 'Paseo Zorrilla-Campo Grande-Cuatro de Marzo (Valladolid Capital)',\n",
       " 'Circula-Vadillos (Valladolid Capital)',\n",
       " 'Ciudad de la Comunicación-Argales (Valladolid Capital)',\n",
       " 'Paseo Zorrilla-Campo Grande-Cuatro de Marzo (Valladolid Capital)',\n",
       " 'Hospital-Rondilla-Santa Clara (Valladolid Capital)',\n",
       " 'Las Delicias (Valladolid Capital)',\n",
       " 'Las Delicias (Valladolid Capital)',\n",
       " 'Paseo Zorrilla-Campo Grande-Cuatro de Marzo (Valladolid Capital)',\n",
       " 'Las Flores-San Isidro-Pajarillos (Valladolid Capital)',\n",
       " 'Las Delicias (Valladolid Capital)',\n",
       " 'Ciudad de la Comunicación-Argales (Valladolid Capital)',\n",
       " 'La Victoria (Valladolid Capital)',\n",
       " 'Centro (Valladolid Capital)',\n",
       " 'Caño Argales (Valladolid Capital)',\n",
       " 'Centro (Valladolid Capital)',\n",
       " 'Centro (Valladolid Capital)',\n",
       " 'Parquesol (Valladolid Capital)',\n",
       " 'Las Flores-San Isidro-Pajarillos (Valladolid Capital)',\n",
       " 'Centro (Valladolid Capital)',\n",
       " 'Hospital-Rondilla-Santa Clara (Valladolid Capital)',\n",
       " 'Centro (Valladolid Capital)',\n",
       " 'Ciudad de la Comunicación-Argales (Valladolid Capital)',\n",
       " 'Paseo Zorrilla-Campo Grande-Cuatro de Marzo (Valladolid Capital)',\n",
       " 'Las Delicias (Valladolid Capital)',\n",
       " 'Huerta del Rey-Arturo Eyríes (Valladolid Capital)',\n",
       " 'Paseo Zorrilla-Campo Grande-Cuatro de Marzo (Valladolid Capital)',\n",
       " 'Paseo Zorrilla-Campo Grande-Cuatro de Marzo (Valladolid Capital)',\n",
       " 'Paseo Zorrilla-Campo Grande-Cuatro de Marzo (Valladolid Capital)',\n",
       " 'Caño Argales (Valladolid Capital)',\n",
       " 'Batallas-San Juan (Valladolid Capital)',\n",
       " 'Las Flores-San Isidro-Pajarillos (Valladolid Capital)',\n",
       " 'Las Delicias (Valladolid Capital)',\n",
       " 'Las Villas-Covaresa-Parque Alameda-La Rubia (Valladolid Capital)',\n",
       " 'Paseo Zorrilla-Campo Grande-Cuatro de Marzo (Valladolid Capital)',\n",
       " 'Paseo Zorrilla-Campo Grande-Cuatro de Marzo (Valladolid Capital)',\n",
       " 'Centro (Valladolid Capital)',\n",
       " 'Villa de Prado (Valladolid Capital)',\n",
       " 'Centro (Valladolid Capital)',\n",
       " 'Centro (Valladolid Capital)',\n",
       " 'Circula-Vadillos (Valladolid Capital)',\n",
       " 'Hospital-Rondilla-Santa Clara (Valladolid Capital)',\n",
       " 'Huerta del Rey-Arturo Eyríes (Valladolid Capital)',\n",
       " 'Huerta del Rey-Arturo Eyríes (Valladolid Capital)',\n",
       " 'Ciudad de la Comunicación-Argales (Valladolid Capital)',\n",
       " 'Centro (Valladolid Capital)',\n",
       " 'Las Flores-San Isidro-Pajarillos (Valladolid Capital)',\n",
       " 'Centro (Valladolid Capital)',\n",
       " 'Belén-Pilarica (Valladolid Capital)',\n",
       " 'Caño Argales (Valladolid Capital)',\n",
       " 'Las Delicias (Valladolid Capital)',\n",
       " 'Ciudad de la Comunicación-Argales (Valladolid Capital)',\n",
       " 'Las Villas-Covaresa-Parque Alameda-La Rubia (Valladolid Capital)',\n",
       " 'Paseo Zorrilla-Campo Grande-Cuatro de Marzo (Valladolid Capital)',\n",
       " 'Las Villas-Covaresa-Parque Alameda-La Rubia (Valladolid Capital)',\n",
       " 'Paseo Zorrilla-Campo Grande-Cuatro de Marzo (Valladolid Capital)',\n",
       " 'La Victoria (Valladolid Capital)',\n",
       " 'Las Villas-Covaresa-Parque Alameda-La Rubia (Valladolid Capital)',\n",
       " 'Ciudad de la Comunicación-Argales (Valladolid Capital)',\n",
       " 'Parquesol (Valladolid Capital)',\n",
       " 'Centro (Valladolid Capital)',\n",
       " 'Las Delicias (Valladolid Capital)',\n",
       " 'Batallas-San Juan (Valladolid Capital)',\n",
       " 'Hospital-Rondilla-Santa Clara (Valladolid Capital)',\n",
       " 'Parquesol (Valladolid Capital)',\n",
       " 'Paseo Zorrilla-Campo Grande-Cuatro de Marzo (Valladolid Capital)',\n",
       " 'Batallas-San Juan (Valladolid Capital)',\n",
       " 'Las Delicias (Valladolid Capital)',\n",
       " 'Hospital-Rondilla-Santa Clara (Valladolid Capital)',\n",
       " 'Hospital-Rondilla-Santa Clara (Valladolid Capital)',\n",
       " 'Las Villas-Covaresa-Parque Alameda-La Rubia (Valladolid Capital)',\n",
       " 'Huerta del Rey-Arturo Eyríes (Valladolid Capital)',\n",
       " 'Las Flores-San Isidro-Pajarillos (Valladolid Capital)',\n",
       " 'La Victoria (Valladolid Capital)',\n",
       " 'Centro (Valladolid Capital)',\n",
       " 'Huerta del Rey-Arturo Eyríes (Valladolid Capital)',\n",
       " 'Paseo Zorrilla-Campo Grande-Cuatro de Marzo (Valladolid Capital)',\n",
       " 'La Victoria (Valladolid Capital)',\n",
       " 'Batallas-San Juan (Valladolid Capital)',\n",
       " 'Camino de la Esperanza-Arturo León (Valladolid Capital)',\n",
       " 'La Victoria (Valladolid Capital)',\n",
       " 'Circula-Vadillos (Valladolid Capital)',\n",
       " 'Huerta del Rey-Arturo Eyríes (Valladolid Capital)',\n",
       " 'Camino de la Esperanza-Arturo León (Valladolid Capital)',\n",
       " 'San Miguel-San Nicolás-San Pablo (Valladolid Capital)',\n",
       " 'Barrio España-San Pedro Regalado (Valladolid Capital)',\n",
       " 'Paseo Zorrilla-Campo Grande-Cuatro de Marzo (Valladolid Capital)',\n",
       " 'Las Delicias (Valladolid Capital)',\n",
       " 'Paseo Zorrilla-Campo Grande-Cuatro de Marzo (Valladolid Capital)',\n",
       " 'Parquesol (Valladolid Capital)',\n",
       " 'Las Delicias (Valladolid Capital)',\n",
       " 'Las Delicias (Valladolid Capital)',\n",
       " 'Hospital Nuevo (Valladolid Capital)',\n",
       " 'Centro (Valladolid Capital)',\n",
       " 'Las Villas-Covaresa-Parque Alameda-La Rubia (Valladolid Capital)',\n",
       " 'Hospital-Rondilla-Santa Clara (Valladolid Capital)',\n",
       " 'Las Delicias (Valladolid Capital)',\n",
       " 'Paseo Zorrilla-Campo Grande-Cuatro de Marzo (Valladolid Capital)',\n",
       " 'Huerta del Rey-Arturo Eyríes (Valladolid Capital)',\n",
       " 'Las Delicias (Valladolid Capital)',\n",
       " 'Hospital-Rondilla-Santa Clara (Valladolid Capital)',\n",
       " 'Caño Argales (Valladolid Capital)',\n",
       " 'Camino de la Esperanza-Arturo León (Valladolid Capital)',\n",
       " 'Paseo Zorrilla-Campo Grande-Cuatro de Marzo (Valladolid Capital)',\n",
       " 'Las Flores-San Isidro-Pajarillos (Valladolid Capital)',\n",
       " 'Ciudad de la Comunicación-Argales (Valladolid Capital)',\n",
       " 'Paseo Zorrilla-Campo Grande-Cuatro de Marzo (Valladolid Capital)',\n",
       " 'Paseo Zorrilla-Campo Grande-Cuatro de Marzo (Valladolid Capital)',\n",
       " 'Parquesol (Valladolid Capital)',\n",
       " 'Centro (Valladolid Capital)',\n",
       " 'San Miguel-San Nicolás-San Pablo (Valladolid Capital)',\n",
       " 'Las Flores-San Isidro-Pajarillos (Valladolid Capital)',\n",
       " 'Las Delicias (Valladolid Capital)',\n",
       " 'Huerta del Rey-Arturo Eyríes (Valladolid Capital)',\n",
       " 'Parquesol (Valladolid Capital)',\n",
       " 'Belén-Pilarica (Valladolid Capital)',\n",
       " 'Camino de la Esperanza-Arturo León (Valladolid Capital)',\n",
       " 'Hospital-Rondilla-Santa Clara (Valladolid Capital)',\n",
       " 'Centro (Valladolid Capital)',\n",
       " 'Parquesol (Valladolid Capital)',\n",
       " 'Belén-Pilarica (Valladolid Capital)',\n",
       " 'Centro (Valladolid Capital)',\n",
       " 'Las Villas-Covaresa-Parque Alameda-La Rubia (Valladolid Capital)',\n",
       " 'Las Flores-San Isidro-Pajarillos (Valladolid Capital)',\n",
       " 'Huerta del Rey-Arturo Eyríes (Valladolid Capital)',\n",
       " 'La Victoria (Valladolid Capital)',\n",
       " 'Las Flores-San Isidro-Pajarillos (Valladolid Capital)',\n",
       " 'Camino de la Esperanza-Arturo León (Valladolid Capital)',\n",
       " 'Centro (Valladolid Capital)',\n",
       " 'Hospital-Rondilla-Santa Clara (Valladolid Capital)',\n",
       " 'Las Villas-Covaresa-Parque Alameda-La Rubia (Valladolid Capital)',\n",
       " 'Las Delicias (Valladolid Capital)',\n",
       " 'Circula-Vadillos (Valladolid Capital)',\n",
       " 'Paseo Zorrilla-Campo Grande-Cuatro de Marzo (Valladolid Capital)',\n",
       " 'Paseo Zorrilla-Campo Grande-Cuatro de Marzo (Valladolid Capital)',\n",
       " 'Circula-Vadillos (Valladolid Capital)',\n",
       " 'Circula-Vadillos (Valladolid Capital)',\n",
       " 'Centro (Valladolid Capital)',\n",
       " 'Batallas-San Juan (Valladolid Capital)',\n",
       " 'Circula-Vadillos (Valladolid Capital)',\n",
       " 'Centro (Valladolid Capital)',\n",
       " 'Ciudad de la Comunicación-Argales (Valladolid Capital)',\n",
       " 'La Victoria (Valladolid Capital)',\n",
       " 'Centro (Valladolid Capital)',\n",
       " 'Villa de Prado (Valladolid Capital)',\n",
       " 'Parquesol (Valladolid Capital)',\n",
       " 'Parquesol (Valladolid Capital)',\n",
       " 'Centro (Valladolid Capital)',\n",
       " 'Las Delicias (Valladolid Capital)',\n",
       " 'Centro (Valladolid Capital)',\n",
       " 'Las Flores-San Isidro-Pajarillos (Valladolid Capital)',\n",
       " 'Camino de la Esperanza-Arturo León (Valladolid Capital)',\n",
       " 'Hospital Nuevo (Valladolid Capital)',\n",
       " 'Centro (Valladolid Capital)',\n",
       " 'Huerta del Rey-Arturo Eyríes (Valladolid Capital)',\n",
       " 'Las Delicias (Valladolid Capital)',\n",
       " 'Paseo Zorrilla-Campo Grande-Cuatro de Marzo (Valladolid Capital)',\n",
       " 'Las Villas-Covaresa-Parque Alameda-La Rubia (Valladolid Capital)',\n",
       " 'Centro (Valladolid Capital)',\n",
       " 'Caño Argales (Valladolid Capital)',\n",
       " 'Centro (Valladolid Capital)',\n",
       " 'San Miguel-San Nicolás-San Pablo (Valladolid Capital)',\n",
       " 'Las Flores-San Isidro-Pajarillos (Valladolid Capital)',\n",
       " 'Fuente Berrocal-La Overuela (Valladolid Capital)',\n",
       " 'Las Flores-San Isidro-Pajarillos (Valladolid Capital)',\n",
       " 'Centro (Valladolid Capital)',\n",
       " 'Paseo Zorrilla-Campo Grande-Cuatro de Marzo (Valladolid Capital)',\n",
       " 'Las Delicias (Valladolid Capital)',\n",
       " 'Paseo Zorrilla-Campo Grande-Cuatro de Marzo (Valladolid Capital)',\n",
       " 'Centro (Valladolid Capital)',\n",
       " 'Las Villas-Covaresa-Parque Alameda-La Rubia (Valladolid Capital)',\n",
       " 'Las Delicias (Valladolid Capital)',\n",
       " 'Centro (Valladolid Capital)',\n",
       " 'San Miguel-San Nicolás-San Pablo (Valladolid Capital)',\n",
       " 'Pinar de Jalón (Valladolid Capital)',\n",
       " 'Centro (Valladolid Capital)',\n",
       " 'Huerta del Rey-Arturo Eyríes (Valladolid Capital)',\n",
       " 'La Victoria (Valladolid Capital)',\n",
       " 'Circula-Vadillos (Valladolid Capital)',\n",
       " 'Hospital-Rondilla-Santa Clara (Valladolid Capital)',\n",
       " 'Centro (Valladolid Capital)',\n",
       " 'Centro (Valladolid Capital)',\n",
       " 'Paseo Zorrilla-Campo Grande-Cuatro de Marzo (Valladolid Capital)',\n",
       " 'Las Delicias (Valladolid Capital)',\n",
       " 'Las Delicias (Valladolid Capital)',\n",
       " 'Centro (Valladolid Capital)',\n",
       " 'Barrio España-San Pedro Regalado (Valladolid Capital)',\n",
       " 'Centro (Valladolid Capital)',\n",
       " 'Parquesol (Valladolid Capital)',\n",
       " 'Hospital-Rondilla-Santa Clara (Valladolid Capital)',\n",
       " 'Paseo Zorrilla-Campo Grande-Cuatro de Marzo (Valladolid Capital)',\n",
       " 'Las Flores-San Isidro-Pajarillos (Valladolid Capital)',\n",
       " 'Huerta del Rey-Arturo Eyríes (Valladolid Capital)',\n",
       " 'Ciudad de la Comunicación-Argales (Valladolid Capital)',\n",
       " 'Paseo Zorrilla-Campo Grande-Cuatro de Marzo (Valladolid Capital)',\n",
       " 'Las Delicias (Valladolid Capital)',\n",
       " 'Paseo Zorrilla-Campo Grande-Cuatro de Marzo (Valladolid Capital)',\n",
       " 'Las Delicias (Valladolid Capital)',\n",
       " 'Circula-Vadillos (Valladolid Capital)',\n",
       " 'Huerta del Rey-Arturo Eyríes (Valladolid Capital)',\n",
       " 'Parquesol (Valladolid Capital)',\n",
       " 'Huerta del Rey-Arturo Eyríes (Valladolid Capital)',\n",
       " 'Las Flores-San Isidro-Pajarillos (Valladolid Capital)',\n",
       " 'Hospital-Rondilla-Santa Clara (Valladolid Capital)',\n",
       " 'Hospital-Rondilla-Santa Clara (Valladolid Capital)',\n",
       " 'Circula-Vadillos (Valladolid Capital)',\n",
       " 'Belén-Pilarica (Valladolid Capital)',\n",
       " 'La Victoria (Valladolid Capital)',\n",
       " 'Las Delicias (Valladolid Capital)',\n",
       " 'Universidad (Valladolid Capital)',\n",
       " 'Las Delicias (Valladolid Capital)',\n",
       " 'Caño Argales (Valladolid Capital)',\n",
       " 'Caño Argales (Valladolid Capital)',\n",
       " 'La Victoria (Valladolid Capital)',\n",
       " 'Hospital-Rondilla-Santa Clara (Valladolid Capital)',\n",
       " 'Las Flores-San Isidro-Pajarillos (Valladolid Capital)',\n",
       " 'Centro (Valladolid Capital)',\n",
       " 'Huerta del Rey-Arturo Eyríes (Valladolid Capital)',\n",
       " 'Batallas-San Juan (Valladolid Capital)',\n",
       " 'Paseo Zorrilla-Campo Grande-Cuatro de Marzo (Valladolid Capital)',\n",
       " 'Huerta del Rey-Arturo Eyríes (Valladolid Capital)',\n",
       " 'Parquesol (Valladolid Capital)',\n",
       " 'Las Villas-Covaresa-Parque Alameda-La Rubia (Valladolid Capital)',\n",
       " 'Belén-Pilarica (Valladolid Capital)',\n",
       " 'Hospital-Rondilla-Santa Clara (Valladolid Capital)',\n",
       " 'Huerta del Rey-Arturo Eyríes (Valladolid Capital)',\n",
       " 'Paseo Zorrilla-Campo Grande-Cuatro de Marzo (Valladolid Capital)',\n",
       " 'La Victoria (Valladolid Capital)',\n",
       " 'San Miguel-San Nicolás-San Pablo (Valladolid Capital)',\n",
       " 'Parquesol (Valladolid Capital)',\n",
       " 'Las Flores-San Isidro-Pajarillos (Valladolid Capital)',\n",
       " 'Las Delicias (Valladolid Capital)',\n",
       " 'Las Flores-San Isidro-Pajarillos (Valladolid Capital)',\n",
       " 'Hospital-Rondilla-Santa Clara (Valladolid Capital)',\n",
       " 'Caño Argales (Valladolid Capital)',\n",
       " 'Parquesol (Valladolid Capital)',\n",
       " 'Las Delicias (Valladolid Capital)',\n",
       " 'Paseo Zorrilla-Campo Grande-Cuatro de Marzo (Valladolid Capital)',\n",
       " 'Las Delicias (Valladolid Capital)',\n",
       " 'Batallas-San Juan (Valladolid Capital)',\n",
       " 'Centro (Valladolid Capital)',\n",
       " 'Las Flores-San Isidro-Pajarillos (Valladolid Capital)',\n",
       " 'Centro (Valladolid Capital)',\n",
       " 'Ciudad de la Comunicación-Argales (Valladolid Capital)',\n",
       " 'Centro (Valladolid Capital)',\n",
       " 'San Miguel-San Nicolás-San Pablo (Valladolid Capital)',\n",
       " 'Camino de la Esperanza-Arturo León (Valladolid Capital)',\n",
       " 'Circula-Vadillos (Valladolid Capital)',\n",
       " 'Fuente Berrocal-La Overuela (Valladolid Capital)',\n",
       " 'Universidad (Valladolid Capital)',\n",
       " 'Fuente Berrocal-La Overuela (Valladolid Capital)',\n",
       " 'Parquesol (Valladolid Capital)',\n",
       " 'Parquesol (Valladolid Capital)',\n",
       " 'Huerta del Rey-Arturo Eyríes (Valladolid Capital)',\n",
       " 'Ciudad de la Comunicación-Argales (Valladolid Capital)',\n",
       " 'Centro (Valladolid Capital)',\n",
       " 'Paseo Zorrilla-Campo Grande-Cuatro de Marzo (Valladolid Capital)',\n",
       " 'Belén-Pilarica (Valladolid Capital)',\n",
       " 'Ciudad de la Comunicación-Argales (Valladolid Capital)',\n",
       " 'Belén-Pilarica (Valladolid Capital)',\n",
       " 'Paseo Zorrilla-Campo Grande-Cuatro de Marzo (Valladolid Capital)',\n",
       " 'Centro (Valladolid Capital)',\n",
       " 'Centro (Valladolid Capital)',\n",
       " 'Las Delicias (Valladolid Capital)',\n",
       " 'Hospital-Rondilla-Santa Clara (Valladolid Capital)',\n",
       " 'Barrio España-San Pedro Regalado (Valladolid Capital)',\n",
       " 'Centro (Valladolid Capital)',\n",
       " 'Hospital-Rondilla-Santa Clara (Valladolid Capital)',\n",
       " 'Parquesol (Valladolid Capital)',\n",
       " 'Huerta del Rey-Arturo Eyríes (Valladolid Capital)',\n",
       " 'Circula-Vadillos (Valladolid Capital)',\n",
       " 'Hospital-Rondilla-Santa Clara (Valladolid Capital)',\n",
       " 'Circula-Vadillos (Valladolid Capital)',\n",
       " 'Centro (Valladolid Capital)',\n",
       " 'Circula-Vadillos (Valladolid Capital)',\n",
       " 'Huerta del Rey-Arturo Eyríes (Valladolid Capital)',\n",
       " 'Parquesol (Valladolid Capital)',\n",
       " 'Circula-Vadillos (Valladolid Capital)',\n",
       " 'Huerta del Rey-Arturo Eyríes (Valladolid Capital)',\n",
       " 'Las Delicias (Valladolid Capital)',\n",
       " 'Fuente Berrocal-La Overuela (Valladolid Capital)',\n",
       " 'Centro (Valladolid Capital)',\n",
       " 'Barrio España-San Pedro Regalado (Valladolid Capital)',\n",
       " 'Las Flores-San Isidro-Pajarillos (Valladolid Capital)',\n",
       " 'Las Delicias (Valladolid Capital)',\n",
       " 'Centro (Valladolid Capital)',\n",
       " 'Centro (Valladolid Capital)',\n",
       " 'Ciudad de la Comunicación-Argales (Valladolid Capital)',\n",
       " 'Pinar de Antequera-Puente Duero (Valladolid Capital)',\n",
       " 'Centro (Valladolid Capital)',\n",
       " 'Las Delicias (Valladolid Capital)',\n",
       " 'Las Delicias (Valladolid Capital)',\n",
       " 'Centro (Valladolid Capital)',\n",
       " 'Parquesol (Valladolid Capital)',\n",
       " 'Paseo Zorrilla-Campo Grande-Cuatro de Marzo (Valladolid Capital)',\n",
       " 'San Miguel-San Nicolás-San Pablo (Valladolid Capital)',\n",
       " 'Ciudad de la Comunicación-Argales (Valladolid Capital)',\n",
       " 'Centro (Valladolid Capital)',\n",
       " 'Huerta del Rey-Arturo Eyríes (Valladolid Capital)',\n",
       " 'Las Villas-Covaresa-Parque Alameda-La Rubia (Valladolid Capital)',\n",
       " 'Centro (Valladolid Capital)',\n",
       " 'Paseo Zorrilla-Campo Grande-Cuatro de Marzo (Valladolid Capital)',\n",
       " 'Paseo Zorrilla-Campo Grande-Cuatro de Marzo (Valladolid Capital)',\n",
       " 'Hospital-Rondilla-Santa Clara (Valladolid Capital)',\n",
       " 'Ciudad de la Comunicación-Argales (Valladolid Capital)',\n",
       " 'Las Delicias (Valladolid Capital)',\n",
       " 'Centro (Valladolid Capital)',\n",
       " 'Centro (Valladolid Capital)',\n",
       " 'Las Flores-San Isidro-Pajarillos (Valladolid Capital)',\n",
       " 'Camino de la Esperanza-Arturo León (Valladolid Capital)',\n",
       " 'La Victoria (Valladolid Capital)',\n",
       " 'Parquesol (Valladolid Capital)',\n",
       " 'Las Delicias (Valladolid Capital)',\n",
       " 'Centro (Valladolid Capital)',\n",
       " 'Hospital-Rondilla-Santa Clara (Valladolid Capital)',\n",
       " 'Huerta del Rey-Arturo Eyríes (Valladolid Capital)',\n",
       " 'Circula-Vadillos (Valladolid Capital)',\n",
       " 'Centro (Valladolid Capital)',\n",
       " 'Belén-Pilarica (Valladolid Capital)',\n",
       " 'Las Delicias (Valladolid Capital)',\n",
       " 'Paseo Zorrilla-Campo Grande-Cuatro de Marzo (Valladolid Capital)',\n",
       " 'Las Flores-San Isidro-Pajarillos (Valladolid Capital)',\n",
       " 'Camino de la Esperanza-Arturo León (Valladolid Capital)',\n",
       " 'Centro (Valladolid Capital)',\n",
       " 'Ciudad de la Comunicación-Argales (Valladolid Capital)',\n",
       " 'Parquesol (Valladolid Capital)',\n",
       " 'Barrio España-San Pedro Regalado (Valladolid Capital)',\n",
       " 'Universidad (Valladolid Capital)',\n",
       " 'Centro (Valladolid Capital)',\n",
       " 'Centro (Valladolid Capital)',\n",
       " 'Caño Argales (Valladolid Capital)',\n",
       " 'Paseo Zorrilla-Campo Grande-Cuatro de Marzo (Valladolid Capital)',\n",
       " 'Belén-Pilarica (Valladolid Capital)',\n",
       " 'Caño Argales (Valladolid Capital)',\n",
       " 'Centro (Valladolid Capital)',\n",
       " 'San Miguel-San Nicolás-San Pablo (Valladolid Capital)',\n",
       " 'Las Delicias (Valladolid Capital)',\n",
       " 'Las Flores-San Isidro-Pajarillos (Valladolid Capital)',\n",
       " 'Paseo Zorrilla-Campo Grande-Cuatro de Marzo (Valladolid Capital)',\n",
       " 'Pinar de Antequera-Puente Duero (Valladolid Capital)',\n",
       " 'Centro (Valladolid Capital)',\n",
       " 'Huerta del Rey-Arturo Eyríes (Valladolid Capital)',\n",
       " 'La Victoria (Valladolid Capital)',\n",
       " 'Paseo Zorrilla-Campo Grande-Cuatro de Marzo (Valladolid Capital)',\n",
       " 'Las Delicias (Valladolid Capital)',\n",
       " 'Paseo Zorrilla-Campo Grande-Cuatro de Marzo (Valladolid Capital)',\n",
       " 'Centro (Valladolid Capital)',\n",
       " 'Las Delicias (Valladolid Capital)',\n",
       " 'Parquesol (Valladolid Capital)',\n",
       " 'Las Delicias (Valladolid Capital)',\n",
       " 'Centro (Valladolid Capital)',\n",
       " 'Ciudad de la Comunicación-Argales (Valladolid Capital)',\n",
       " 'Las Villas-Covaresa-Parque Alameda-La Rubia (Valladolid Capital)',\n",
       " 'Paseo Zorrilla-Campo Grande-Cuatro de Marzo (Valladolid Capital)',\n",
       " ...]"
      ]
     },
     "execution_count": 368,
     "metadata": {},
     "output_type": "execute_result"
    }
   ],
   "source": [
    "barrios_vall"
   ]
  },
  {
   "cell_type": "markdown",
   "metadata": {},
   "source": [
    "CIUDAD"
   ]
  },
  {
   "cell_type": "code",
   "execution_count": 369,
   "metadata": {},
   "outputs": [],
   "source": [
    "ciudad=[] #FEAT\n",
    "for i in range(0,len(barrios)):\n",
    "    if 'Valladolid' in barrios[i]:\n",
    "        ciudad.append('Valladolid')\n",
    "    \n",
    "    elif 'Bilbao' in barrios[i]:\n",
    "        ciudad.append('Bilbao')\n",
    "        \n",
    "    \n",
    "   \n",
    "        \n",
    "        "
   ]
  },
  {
   "cell_type": "markdown",
   "metadata": {},
   "source": [
    "RENTA DISPONIBLE MEDIA POR BARRIO"
   ]
  },
  {
   "cell_type": "code",
   "execution_count": 370,
   "metadata": {},
   "outputs": [],
   "source": [
    "renta_barrios_bilb={\n",
    "'San Frantzisko (Distrito Ibaiondo. Bilbao)':13668,\n",
    "'Solokoetxe (Distrito Ibaiondo. Bilbao)':18304,\n",
    "'Santutxu (Distrito Begoña-Santutxu. Bilbao)':16822,\n",
    "'Begoña-Santutxu (Bilbao)':22492,\n",
    "'Zurbaran-Arabella (Distrito Uribarri. Bilbao)':18625,\n",
    "'Iturrigorri-Peñascal (Distrito Errekalde. Bilbao)':10193,\n",
    "'Atxuri (Distrito Ibaiondo. Bilbao)':16434,\n",
    "'Castaños (Distrito Uribarri. Bilbao)':29160,\n",
    "'San Adrian (Distrito Ibaiondo. Bilbao)':17704,\n",
    "'Abando Hurtado de Amézaga (Distrito Abando. Bilbao)':35944,\n",
    "'Arangoiti (Distrito Deustu. Bilbao)':14718,\n",
    "'Indautxu (Bilbao)':35702,\n",
    "'Iturrialde (Distrito Ibaiondo. Bilbao)':19404,\n",
    "'Uribarri (Distrito Uribarri. Bilbao)':16549,\n",
    "'Iralabarri (Distrito Errekalde. Bilbao)':18667,\n",
    "'Altamira (Distrito Basurtu-Zorrotza. Bilbao)':13853,\n",
    "'Abando (Bilbao)': 35944,\n",
    "'Doneperiaga-Deustuibarra San Pedro-La Ribera (Distrito Deustu. Bilbao)':23759,\n",
    "'Bolueta (Distrito Begoña-Santutxu. Bilbao)':14943,\n",
    "'Abandoibarra-Guggenheim (Distrito Abando. Bilbao)': 35207,\n",
    "'Masustegi-Mintegitxueta (Distrito Basurtu-Zorrotza. Bilbao)':18605,\n",
    "'Ibarrekolanda (Distrito Deustu. Bilbao)':21113,\n",
    "'Miribilla (Distrito Ibaiondo. Bilbao)':26165,\n",
    "'Errekaldeberri-Larraskitu (Distrito Errekalde. Bilbao)':16293,\n",
    "'Uretamendi (Distrito Errekalde. Bilbao)':11860,\n",
    "'Otxarkoaga (Distrito Otxarkoaga-Txurdinaga. Bilbao)':11756,\n",
    "'Zabala (Distrito Ibaiondo. Bilbao)':14536,\n",
    "'Txurdinaga (Distrito Otxarkoaga-Txurdinaga. Bilbao)':19221,\n",
    "'Casco Viejo - Zazpi Kaleak (Distrito Ibaiondo. Bilbao)':19921,\n",
    "'Basurtu (Distrito Basurtu-Zorrotza. Bilbao)':24509,\n",
    "'Olabeaga (Distrito Basurtu-Zorrotza. Bilbao)':16783,\n",
    "'San Ignazio-Elorrieta (Distrito Deustu. Bilbao)':18853,\n",
    "'Bilbo Zaharra (Distrito Ibaiondo. Bilbao)':15108,\n",
    "'Ibaizabal-Abusu (Distrito Ibaiondo. Bilbao)':17409,\n",
    "'Ametzola (Distrito Errekalde. Bilbao)': 21511,\n",
    "'Begoña (Distrito Begoña-Santutxu. Bilbao)':22492,\n",
    "'Matiko-Loruri (Distrito Uribarri. Bilbao)':19129,\n",
    "'Abando Ensanche (Distrito Abando. Bilbao)':35944,\n",
    "'Zorrotza (Distrito Basurtu-Zorrotza. Bilbao)':15431,\n",
    "}"
   ]
  },
  {
   "cell_type": "code",
   "execution_count": 371,
   "metadata": {},
   "outputs": [],
   "source": [
    "renta_barrios_vall= {'Belén-Pilarica (Valladolid Capital)': 19.537,\n",
    " 'Circula-Vadillos (Valladolid Capital)': 19662,\n",
    " 'Las Delicias (Valladolid Capital)': 18614,\n",
    " 'La Victoria (Valladolid Capital)': 24683,\n",
    " 'Valladolid Capital': 'na',\n",
    " 'Paseo Zorrilla-Campo Grande-Cuatro de Marzo (Valladolid Capital)': 25654,\n",
    " 'Centro (Valladolid Capital)': 32596, \n",
    " 'Parquesol (Valladolid Capital)': 28580,\n",
    " 'Caño Argales (Valladolid Capital)': 25912,\n",
    " 'Camino de la Esperanza-Arturo León (Valladolid Capital)': 19537,\n",
    " 'Barrio España-San Pedro Regalado (Valladolid Capital)': 18984,\n",
    " 'Ciudad de la Comunicación-Argales (Valladolid Capital)': 17745,\n",
    " 'Hospital-Rondilla-Santa Clara (Valladolid Capital)': 17745,\n",
    " 'Las Villas-Covaresa-Parque Alameda-La Rubia (Valladolid Capital)': 24575,\n",
    " 'Las Flores-San Isidro-Pajarillos (Valladolid Capital)': 18025,\n",
    " 'Girón (Valladolid Capital)': 19537,\n",
    " 'Batallas-San Juan (Valladolid Capital)': 19662, \n",
    " 'Villa de Prado (Valladolid Capital)': 25538,\n",
    " 'Huerta del Rey-Arturo Eyríes (Valladolid Capital)': 24683,\n",
    " 'Fuente Berrocal-La Overuela (Valladolid Capital)': 22352,\n",
    " 'San Miguel-San Nicolás-San Pablo (Valladolid Capital)': 25834,\n",
    " 'Universidad (Valladolid Capital)': 26676,\n",
    " 'Hospital Nuevo (Valladolid Capital)': 26645,\n",
    " 'Pinar de Jalón (Valladolid Capital)': 20471,\n",
    " 'Polígono Industrial San Cristóbal (Valladolid Capital)':18614,\n",
    " 'Pinar de Antequera-Puente Duero (Valladolid Capital)':20471   \n",
    "                    }   \n",
    "                    "
   ]
  },
  {
   "cell_type": "code",
   "execution_count": 374,
   "metadata": {},
   "outputs": [],
   "source": [
    "renta_barrios_bilb.update(renta_barrios_vall)"
   ]
  },
  {
   "cell_type": "code",
   "execution_count": 375,
   "metadata": {},
   "outputs": [],
   "source": [
    "renta_barrios=renta_barrios_bilb"
   ]
  },
  {
   "cell_type": "code",
   "execution_count": 376,
   "metadata": {},
   "outputs": [
    {
     "data": {
      "text/plain": [
       "65"
      ]
     },
     "execution_count": 376,
     "metadata": {},
     "output_type": "execute_result"
    }
   ],
   "source": [
    "len(renta_barrios)"
   ]
  },
  {
   "cell_type": "markdown",
   "metadata": {},
   "source": [
    "Concateno los tres diccionarios"
   ]
  },
  {
   "cell_type": "markdown",
   "metadata": {},
   "source": [
    "RENTAS_BARRIO disponible por persona por barrio"
   ]
  },
  {
   "cell_type": "code",
   "execution_count": 379,
   "metadata": {},
   "outputs": [],
   "source": [
    "rentas_barrio=[]\n",
    "for loc in barrios:\n",
    "   \n",
    "    if loc in renta_barrios.keys():  \n",
    "    \n",
    "        rentas_barrio.append(renta_barrios[loc])\n",
    "    else:\n",
    "        rentas_barrio.append('null')\n"
   ]
  },
  {
   "cell_type": "code",
   "execution_count": 380,
   "metadata": {},
   "outputs": [
    {
     "data": {
      "text/plain": [
       "4440"
      ]
     },
     "execution_count": 380,
     "metadata": {},
     "output_type": "execute_result"
    }
   ],
   "source": [
    "len(rentas_barrio) #FEAT"
   ]
  },
  {
   "cell_type": "markdown",
   "metadata": {},
   "source": [
    "### Almaceno los datos en un csv "
   ]
  },
  {
   "cell_type": "code",
   "execution_count": 392,
   "metadata": {},
   "outputs": [],
   "source": [
    "import csv\n",
    "import numpy as np\n",
    "\n",
    "diccionario = {'titulo':titulo, 'precio': precios, 'dist_centro':dist_centro, 'long': long, 'lat':lat, \n",
    "               'long_': location_lon, 'lat_':location_lat, 'metros': metros, 'planta':planta, 'tipo_vivienda':tipo_home,\n",
    "               'n_banos': baños, 'n_habitaciones': habitaciones,  'ascensor_en_desc':ascensor_desc, \n",
    "               'ascensor_en_caract':Ascensor,  'trastero_en_desc': trastero_desc, 'trastero_en_caract':Trastero,\n",
    "               'garaje_en_desc':garaje_desc, 'garaje_en_caract':Garaje, 'jardin_en_desc':jardin_desc, \n",
    "               'parquet_en_desc':parquet_desc, 'obra_nueva':obra_nueva, 'barrio': barrios, 'ciudad':ciudad,\n",
    "               'renta_media_barrio_persona':rentas_barrio, 'desc':descripcion}\n",
    "import pandas as pd\n",
    "\n",
    "# Creación DataFrame:\n",
    "df_pisos = pd.DataFrame(diccionario)\n",
    "\n",
    "# Guarda datos en CSV:\n",
    "df_pisos.to_csv('pisos_2021.csv', header=True, index=False)\n",
    "\n"
   ]
  },
  {
   "cell_type": "code",
   "execution_count": 393,
   "metadata": {},
   "outputs": [],
   "source": [
    "# Creación DataFrame para almacenar los datos de las localizaciones generadas con Geopy (elevado tiempo de compilacion):\n",
    "dic_val={'lat_vall':loc_lat, 'long_vall':loc_lon,  'dist_val':dist_centro_vall}\n",
    "dic_bilb={'lat_bilb':loc_lat_bilb, 'lon_bilb':loc_lon_bilb,'dist_bilb':dist_centro_bilb}\n",
    "df_coord_vall=pd.DataFrame(dic_val)\n",
    "df_coord_bilb=pd.DataFrame(dic_bilb)\n",
    "# Guarda datos en CSV:\n",
    "df_coord_bilb.to_csv('coord_bilb', header=True, index=False)\n",
    "df_coord_vall.to_csv('coord_vall', header=True, index=False)"
   ]
  }
 ],
 "metadata": {
  "kernelspec": {
   "display_name": "Python 3",
   "language": "python",
   "name": "python3"
  },
  "language_info": {
   "codemirror_mode": {
    "name": "ipython",
    "version": 3
   },
   "file_extension": ".py",
   "mimetype": "text/x-python",
   "name": "python",
   "nbconvert_exporter": "python",
   "pygments_lexer": "ipython3",
   "version": "3.7.3"
  }
 },
 "nbformat": 4,
 "nbformat_minor": 2
}
