{
 "cells": [
  {
   "cell_type": "code",
   "execution_count": 1,
   "metadata": {},
   "outputs": [],
   "source": [
    "import numpy as np\n",
    "import pandas as pd\n",
    "import csv\n",
    "import matplotlib.pyplot as plt\n",
    "from matplotlib.colors import ListedColormap\n",
    "%matplotlib inline\n",
    "\n",
    "cm = plt.cm.RdBu\n",
    "cm_bright = ListedColormap(['#FF0000', '#0000FF'])\n",
    "\n",
    "import warnings\n",
    "warnings.filterwarnings('ignore')\n"
   ]
  },
  {
   "cell_type": "code",
   "execution_count": 2,
   "metadata": {},
   "outputs": [],
   "source": [
    "from sklearn.model_selection import train_test_split\n",
    "from sklearn import preprocessing\n",
    "from sklearn.preprocessing import StandardScaler\n"
   ]
  },
  {
   "cell_type": "markdown",
   "metadata": {},
   "source": [
    "# Cargo input"
   ]
  },
  {
   "cell_type": "code",
   "execution_count": 3,
   "metadata": {},
   "outputs": [],
   "source": [
    "# Cargamos datos\n",
    "pisos_cleaned = pd.read_csv(\"data origin/pisos_cleaned_agrupando__2021.csv\", delimiter=';') # cargamos fichero"
   ]
  },
  {
   "cell_type": "code",
   "execution_count": 4,
   "metadata": {},
   "outputs": [],
   "source": [
    "###### Esta funcion actualiza el número de instancias y features de mi modelo\n",
    "def status_cols_rows (df):\n",
    "    entries = df.shape[0]\n",
    "    features =df.shape[1]\n",
    "    print ('Nº de entradas:', entries)\n",
    "    print ('Nº de features:', features)"
   ]
  },
  {
   "cell_type": "code",
   "execution_count": 5,
   "metadata": {},
   "outputs": [
    {
     "name": "stdout",
     "output_type": "stream",
     "text": [
      "Nº de entradas: 3556\n",
      "Nº de features: 19\n"
     ]
    }
   ],
   "source": [
    "status_cols_rows(pisos_cleaned)"
   ]
  },
  {
   "cell_type": "markdown",
   "metadata": {},
   "source": [
    "Elimino las columnas que no nos interesan para el modelo de regresion"
   ]
  },
  {
   "cell_type": "code",
   "execution_count": 6,
   "metadata": {},
   "outputs": [],
   "source": [
    "columns_with_no_interest=['titulo', 'desc']"
   ]
  },
  {
   "cell_type": "code",
   "execution_count": 7,
   "metadata": {},
   "outputs": [],
   "source": [
    "pisos_cleaned=pisos_cleaned.drop(columns_with_no_interest, axis=1)"
   ]
  },
  {
   "cell_type": "markdown",
   "metadata": {},
   "source": [
    "### A partir de aquí, trabajo primero con train y despues aplico las mismas modificaciones a test"
   ]
  },
  {
   "cell_type": "markdown",
   "metadata": {},
   "source": [
    "##Hago la division de TRAIN y TEST (70-30)"
   ]
  },
  {
   "cell_type": "code",
   "execution_count": 8,
   "metadata": {},
   "outputs": [
    {
     "name": "stdout",
     "output_type": "stream",
     "text": [
      "Dimensiones del dataset de training: (2489, 17)\n",
      "Dimensiones del dataset de test: (1067, 17)\n"
     ]
    }
   ],
   "source": [
    "#Hago la division en train y test (70%-30%)\n",
    "dftrain, dftest = train_test_split(pisos_cleaned, test_size=0.3, shuffle=True, random_state=0)\n",
    "print(f'Dimensiones del dataset de training: {dftrain.shape}')\n",
    "print(f'Dimensiones del dataset de test: {dftest.shape}')\n",
    "\n",
    "\n"
   ]
  },
  {
   "cell_type": "markdown",
   "metadata": {},
   "source": [
    "Comienzo a trabajar con el dataset de DFTRAIN"
   ]
  },
  {
   "cell_type": "code",
   "execution_count": 9,
   "metadata": {},
   "outputs": [
    {
     "data": {
      "text/plain": [
       "Index(['long', 'lat', 'planta', 'tipo_vivienda', 'barrio', 'ciudad'], dtype='object')"
      ]
     },
     "execution_count": 9,
     "metadata": {},
     "output_type": "execute_result"
    }
   ],
   "source": [
    "#Trabajo ahora sobre las categorias categoricas para transformarlas en numéricas\n",
    "categorical_features = (dftrain.dtypes==object) \n",
    "categorical_cols = dftrain.columns[categorical_features]\n",
    "categorical_cols"
   ]
  },
  {
   "cell_type": "code",
   "execution_count": 10,
   "metadata": {},
   "outputs": [],
   "source": [
    "#Mean-encoder en todas las columnas categóricas\n",
    "mean_map = {}\n",
    "for c in categorical_cols:\n",
    "    means = dftrain.groupby(c)['precio'].mean()\n",
    "    dftrain[c] = dftrain[c].map(means)\n",
    "    mean_map[c]=means\n",
    "    "
   ]
  },
  {
   "cell_type": "code",
   "execution_count": 11,
   "metadata": {},
   "outputs": [
    {
     "data": {
      "text/plain": [
       "precio                          0\n",
       "dist_centro                   359\n",
       "long                            0\n",
       "lat                             0\n",
       "long_                         359\n",
       "lat_                          359\n",
       "metros                          0\n",
       "planta                          0\n",
       "tipo_vivienda                   0\n",
       "n_banos                         0\n",
       "n_habitaciones                  0\n",
       "barrio                          0\n",
       "ciudad                          0\n",
       "renta_media_barrio_persona      3\n",
       "ascensor                        0\n",
       "garaje                          0\n",
       "trastero                        0\n",
       "dtype: int64"
      ]
     },
     "execution_count": 11,
     "metadata": {},
     "output_type": "execute_result"
    }
   ],
   "source": [
    "dftrain.isna().sum()"
   ]
  },
  {
   "cell_type": "code",
   "execution_count": 12,
   "metadata": {},
   "outputs": [],
   "source": [
    "dftrain=dftrain.dropna()"
   ]
  },
  {
   "cell_type": "code",
   "execution_count": 13,
   "metadata": {},
   "outputs": [
    {
     "name": "stdout",
     "output_type": "stream",
     "text": [
      "Nº de entradas: 2127\n",
      "Nº de features: 17\n"
     ]
    }
   ],
   "source": [
    "status_cols_rows(dftrain)"
   ]
  },
  {
   "cell_type": "code",
   "execution_count": 14,
   "metadata": {},
   "outputs": [
    {
     "data": {
      "image/png": "[encoded data removed]",
      "text/plain": [
       "<Figure size 864x720 with 2 Axes>"
      ]
     },
     "metadata": {
      "needs_background": "light"
     },
     "output_type": "display_data"
    }
   ],
   "source": [
    "#Hago un grafico sencillo de correlaciones para eliminar las variables que más correladas estén\n",
    "import seaborn as sns\n",
    "\n",
    "def Triangulo_corr (dataset):\n",
    "    corr = np.abs(dataset.drop(['precio'], axis=1).corr())\n",
    "    # Generate a mask for the upper triangle\n",
    "    mask = np.zeros_like(corr, dtype=np.bool)\n",
    "    mask[np.triu_indices_from(mask)] = True\n",
    "    # Set up the matplotlib figure\n",
    "    f, ax = plt.subplots(figsize=(12, 10))\n",
    "    # Draw the heatmap with the mask and correct aspect ratio\n",
    "    sns.heatmap(corr, mask=mask,vmin = 0.0, vmax=1.0, center=0.5,\n",
    "            linewidths=.1, cmap=\"YlGnBu\", cbar_kws={\"shrink\": .8});\n",
    "\n",
    "    \n",
    "Triangulo_corr(dftrain)\n",
    "\n"
   ]
  },
  {
   "cell_type": "markdown",
   "metadata": {},
   "source": [
    "Observo que las variables más correladas son:\n",
    "\n",
    "- lat_, long_ con dist_centro\n",
    "- lat con long\n",
    "\n",
    "Borro lat_, long_ \n"
   ]
  },
  {
   "cell_type": "code",
   "execution_count": 15,
   "metadata": {},
   "outputs": [],
   "source": [
    "columns_correlated=['lat_','long_','lat']\n",
    "dftrain=dftrain.drop(columns_correlated,axis=1)"
   ]
  },
  {
   "cell_type": "markdown",
   "metadata": {},
   "source": [
    "Lo mismo a DFTEST"
   ]
  },
  {
   "cell_type": "code",
   "execution_count": 16,
   "metadata": {},
   "outputs": [
    {
     "data": {
      "text/plain": [
       "Index(['long', 'lat', 'planta', 'tipo_vivienda', 'barrio', 'ciudad'], dtype='object')"
      ]
     },
     "execution_count": 16,
     "metadata": {},
     "output_type": "execute_result"
    }
   ],
   "source": [
    "#Trabajo ahora sobre las categorias categoricas para transformarlas en numéricas\n",
    "categorical_features = dftest.dtypes==object\n",
    "categorical_cols = dftest.columns[categorical_features]\n",
    "categorical_cols"
   ]
  },
  {
   "cell_type": "code",
   "execution_count": 17,
   "metadata": {},
   "outputs": [],
   "source": [
    "#Mean-encoder en todas las columnas categóricas\n",
    "mean_map_test = {}\n",
    "for c in categorical_cols:\n",
    "    means=mean_map[c]\n",
    "    dftest[c] = dftest[c].map(means)\n",
    "    mean_map_test[c]=means"
   ]
  },
  {
   "cell_type": "code",
   "execution_count": 18,
   "metadata": {},
   "outputs": [
    {
     "data": {
      "text/plain": [
       "precio                          0\n",
       "dist_centro                   163\n",
       "long                          170\n",
       "lat                           169\n",
       "long_                         163\n",
       "lat_                          163\n",
       "metros                          0\n",
       "planta                          0\n",
       "tipo_vivienda                   0\n",
       "n_banos                         0\n",
       "n_habitaciones                  0\n",
       "barrio                          0\n",
       "ciudad                          0\n",
       "renta_media_barrio_persona      0\n",
       "ascensor                        0\n",
       "garaje                          0\n",
       "trastero                        0\n",
       "dtype: int64"
      ]
     },
     "execution_count": 18,
     "metadata": {},
     "output_type": "execute_result"
    }
   ],
   "source": [
    "dftest.isna().sum()"
   ]
  },
  {
   "cell_type": "code",
   "execution_count": 19,
   "metadata": {},
   "outputs": [],
   "source": [
    "dftest=dftest.dropna()"
   ]
  },
  {
   "cell_type": "code",
   "execution_count": 20,
   "metadata": {},
   "outputs": [
    {
     "name": "stdout",
     "output_type": "stream",
     "text": [
      "Nº de entradas: 764\n",
      "Nº de features: 17\n"
     ]
    }
   ],
   "source": [
    "status_cols_rows(dftest)"
   ]
  },
  {
   "cell_type": "markdown",
   "metadata": {},
   "source": [
    "#### Observamos que para el dataset de test se cumplen las mismas correlaciones "
   ]
  },
  {
   "cell_type": "code",
   "execution_count": 21,
   "metadata": {},
   "outputs": [
    {
     "data": {
      "image/png": "[encoded data removed]",
      "text/plain": [
       "<Figure size 864x720 with 2 Axes>"
      ]
     },
     "metadata": {
      "needs_background": "light"
     },
     "output_type": "display_data"
    }
   ],
   "source": [
    "Triangulo_corr(dftest)"
   ]
  },
  {
   "cell_type": "code",
   "execution_count": 22,
   "metadata": {},
   "outputs": [],
   "source": [
    "columns_correlated=['lat_','long_','lat']\n",
    "dftest=dftest.drop(columns_correlated,axis=1)"
   ]
  },
  {
   "cell_type": "markdown",
   "metadata": {},
   "source": [
    "GUARDO LOS DATOS DE TRAIN Y TEST EN UN CSV PARA ML "
   ]
  },
  {
   "cell_type": "code",
   "execution_count": 23,
   "metadata": {},
   "outputs": [],
   "source": [
    "# Guardamos\n",
    "dftrain.to_csv('train_cleaned_agrupando_2021.csv', sep=';', decimal='.', index=False)\n",
    "dftest.to_csv('test_cleaned_agrupando_2021.csv', sep=';', decimal='.', index=False)"
   ]
  }
 ],
 "metadata": {
  "kernelspec": {
   "display_name": "Python 3",
   "language": "python",
   "name": "python3"
  },
  "language_info": {
   "codemirror_mode": {
    "name": "ipython",
    "version": 3
   },
   "file_extension": ".py",
   "mimetype": "text/x-python",
   "name": "python",
   "nbconvert_exporter": "python",
   "pygments_lexer": "ipython3",
   "version": "3.7.3"
  }
 },
 "nbformat": 4,
 "nbformat_minor": 2
}
