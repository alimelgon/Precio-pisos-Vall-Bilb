{
 "cells": [
  {
   "cell_type": "code",
   "execution_count": 2,
   "metadata": {},
   "outputs": [],
   "source": [
    "import numpy as np\n",
    "import pandas as pd\n",
    "\n",
    "import matplotlib.pyplot as plt\n",
    "from matplotlib.colors import ListedColormap\n",
    "%matplotlib inline\n",
    "\n",
    "cm = plt.cm.RdBu\n",
    "cm_bright = ListedColormap(['#FF0000', '#0000FF'])\n",
    "\n",
    "import warnings\n",
    "warnings.filterwarnings('ignore')\n"
   ]
  },
  {
   "cell_type": "code",
   "execution_count": 3,
   "metadata": {},
   "outputs": [],
   "source": [
    "from sklearn.model_selection import train_test_split\n",
    "from sklearn import preprocessing\n",
    "from sklearn.preprocessing import StandardScaler\n"
   ]
  },
  {
   "cell_type": "markdown",
   "metadata": {},
   "source": [
    "# Cargo input"
   ]
  },
  {
   "cell_type": "code",
   "execution_count": 14,
   "metadata": {},
   "outputs": [],
   "source": [
    "# Cargamos datos TRAIN\n",
    "dftrain = pd.read_csv(\"data origin/train_cleaned_agrupando_2021.csv\", delimiter=';') # cargamos fichero"
   ]
  },
  {
   "cell_type": "code",
   "execution_count": 15,
   "metadata": {},
   "outputs": [],
   "source": [
    "# Cargamos datos TEST\n",
    "dftest = pd.read_csv(\"data origin/test_cleaned_agrupando_2021.csv\", delimiter=';') # cargamos fichero"
   ]
  },
  {
   "cell_type": "code",
   "execution_count": 16,
   "metadata": {},
   "outputs": [
    {
     "name": "stdout",
     "output_type": "stream",
     "text": [
      "Nº de entradas: 764\n",
      "Nº de features: 14\n"
     ]
    }
   ],
   "source": [
    "status_cols_rows(dftest)"
   ]
  },
  {
   "cell_type": "markdown",
   "metadata": {},
   "source": [
    "CREO EL CONJUNTO DE VALIDACION (70% del conjunto de test)"
   ]
  },
  {
   "cell_type": "code",
   "execution_count": 17,
   "metadata": {},
   "outputs": [],
   "source": [
    "dftest,dfval = train_test_split(dftest, test_size=0.3, shuffle=True, random_state=1)"
   ]
  },
  {
   "cell_type": "code",
   "execution_count": 18,
   "metadata": {},
   "outputs": [],
   "source": [
    "###### Esta funcion actualiza el número de instancias y features de mi modelo\n",
    "def status_cols_rows (df):\n",
    "    entries = df.shape[0]\n",
    "    features =df.shape[1]\n",
    "    print ('Nº de entradas:', entries)\n",
    "    print ('Nº de features:', features)"
   ]
  },
  {
   "cell_type": "code",
   "execution_count": 19,
   "metadata": {},
   "outputs": [
    {
     "name": "stdout",
     "output_type": "stream",
     "text": [
      "Nº de entradas: 2127\n",
      "Nº de features: 14\n"
     ]
    }
   ],
   "source": [
    "status_cols_rows(dftrain)"
   ]
  },
  {
   "cell_type": "code",
   "execution_count": 20,
   "metadata": {},
   "outputs": [
    {
     "name": "stdout",
     "output_type": "stream",
     "text": [
      "Nº de entradas: 534\n",
      "Nº de features: 14\n"
     ]
    }
   ],
   "source": [
    "status_cols_rows(dftest)"
   ]
  },
  {
   "cell_type": "code",
   "execution_count": 21,
   "metadata": {},
   "outputs": [
    {
     "name": "stdout",
     "output_type": "stream",
     "text": [
      "Nº de entradas: 230\n",
      "Nº de features: 14\n"
     ]
    }
   ],
   "source": [
    "status_cols_rows(dfval)"
   ]
  },
  {
   "cell_type": "markdown",
   "metadata": {},
   "source": [
    "## Comienzo a implementar modelos de ML"
   ]
  },
  {
   "cell_type": "code",
   "execution_count": 22,
   "metadata": {},
   "outputs": [],
   "source": [
    "#Preparo los datos de train y test\n",
    "\n",
    "columns_to_drop=[]\n",
    "columns_to_drop=('precio')\n",
    "features= dftrain.columns.drop(columns_to_drop)\n",
    "\n",
    "\n",
    "x_train_ = dftrain[features].values    \n",
    "y_train_ = dftrain['precio'].values  # nos quedamos con la 1ª columna, price\n",
    "\n",
    "x_test_ = dftest[features].values    \n",
    "y_test_ = dftest['precio'].values # nos quedamos con la 1ª columna, price\n",
    "\n",
    "x_val_ = dfval[features].values    \n",
    "y_val_ = dfval['precio'].values # nos quedamos con la 1ª columna, price\n",
    "\n",
    "                 #Escalado StandardScaler\n",
    "scalerx = preprocessing.StandardScaler().fit(x_train_)\n",
    "XtrainScaled = scalerx.transform(x_train_)\n",
    "XtestScaled = scalerx.transform(x_test_) \n",
    "XvalScaled = scalerx.transform(x_val_) \n",
    "\n",
    "scalery=preprocessing.StandardScaler().fit(y_train_.reshape(y_train_.shape[0],1))\n",
    "y_train=scalery.transform(y_train_.reshape(y_train_.shape[0],1))\n",
    "y_test=scalery.transform(y_test_.reshape(y_test_.shape[0],1))\n",
    "y_val=scalery.transform(y_val_.reshape(y_val_.shape[0],1))\n"
   ]
  },
  {
   "cell_type": "code",
   "execution_count": 23,
   "metadata": {},
   "outputs": [
    {
     "data": {
      "text/html": [
       "<div>\n",
       "<style scoped>\n",
       "    .dataframe tbody tr th:only-of-type {\n",
       "        vertical-align: middle;\n",
       "    }\n",
       "\n",
       "    .dataframe tbody tr th {\n",
       "        vertical-align: top;\n",
       "    }\n",
       "\n",
       "    .dataframe thead th {\n",
       "        text-align: right;\n",
       "    }\n",
       "</style>\n",
       "<table border=\"1\" class=\"dataframe\">\n",
       "  <thead>\n",
       "    <tr style=\"text-align: right;\">\n",
       "      <th></th>\n",
       "      <th>count</th>\n",
       "      <th>mean</th>\n",
       "      <th>std</th>\n",
       "      <th>min</th>\n",
       "      <th>25%</th>\n",
       "      <th>50%</th>\n",
       "      <th>75%</th>\n",
       "      <th>max</th>\n",
       "    </tr>\n",
       "  </thead>\n",
       "  <tbody>\n",
       "    <tr>\n",
       "      <th>precio</th>\n",
       "      <td>2127.0</td>\n",
       "      <td>254209.076634</td>\n",
       "      <td>189755.063467</td>\n",
       "      <td>15200.000000</td>\n",
       "      <td>127700.000000</td>\n",
       "      <td>197000.000000</td>\n",
       "      <td>320000.000000</td>\n",
       "      <td>1.800000e+06</td>\n",
       "    </tr>\n",
       "    <tr>\n",
       "      <th>dist_centro</th>\n",
       "      <td>2127.0</td>\n",
       "      <td>278.029495</td>\n",
       "      <td>1594.787452</td>\n",
       "      <td>0.000000</td>\n",
       "      <td>0.861974</td>\n",
       "      <td>1.394586</td>\n",
       "      <td>2.328019</td>\n",
       "      <td>1.145680e+04</td>\n",
       "    </tr>\n",
       "    <tr>\n",
       "      <th>long</th>\n",
       "      <td>2127.0</td>\n",
       "      <td>251636.974609</td>\n",
       "      <td>68323.299638</td>\n",
       "      <td>37600.000000</td>\n",
       "      <td>254159.899225</td>\n",
       "      <td>254159.899225</td>\n",
       "      <td>254159.899225</td>\n",
       "      <td>1.500000e+06</td>\n",
       "    </tr>\n",
       "    <tr>\n",
       "      <th>metros</th>\n",
       "      <td>2127.0</td>\n",
       "      <td>108.843912</td>\n",
       "      <td>65.888529</td>\n",
       "      <td>30.000000</td>\n",
       "      <td>75.000000</td>\n",
       "      <td>93.000000</td>\n",
       "      <td>120.000000</td>\n",
       "      <td>1.755000e+03</td>\n",
       "    </tr>\n",
       "    <tr>\n",
       "      <th>planta</th>\n",
       "      <td>2127.0</td>\n",
       "      <td>253700.029953</td>\n",
       "      <td>26602.015092</td>\n",
       "      <td>225398.694805</td>\n",
       "      <td>230998.286667</td>\n",
       "      <td>236459.853828</td>\n",
       "      <td>289652.528139</td>\n",
       "      <td>2.912112e+05</td>\n",
       "    </tr>\n",
       "    <tr>\n",
       "      <th>tipo_vivienda</th>\n",
       "      <td>2127.0</td>\n",
       "      <td>253855.042213</td>\n",
       "      <td>32041.406900</td>\n",
       "      <td>104785.714286</td>\n",
       "      <td>252778.026490</td>\n",
       "      <td>252778.026490</td>\n",
       "      <td>252778.026490</td>\n",
       "      <td>4.219221e+05</td>\n",
       "    </tr>\n",
       "    <tr>\n",
       "      <th>n_banos</th>\n",
       "      <td>2127.0</td>\n",
       "      <td>1.621063</td>\n",
       "      <td>0.811656</td>\n",
       "      <td>1.000000</td>\n",
       "      <td>1.000000</td>\n",
       "      <td>1.000000</td>\n",
       "      <td>2.000000</td>\n",
       "      <td>1.800000e+01</td>\n",
       "    </tr>\n",
       "    <tr>\n",
       "      <th>n_habitaciones</th>\n",
       "      <td>2127.0</td>\n",
       "      <td>3.063940</td>\n",
       "      <td>1.898074</td>\n",
       "      <td>1.000000</td>\n",
       "      <td>2.000000</td>\n",
       "      <td>3.000000</td>\n",
       "      <td>4.000000</td>\n",
       "      <td>7.500000e+01</td>\n",
       "    </tr>\n",
       "    <tr>\n",
       "      <th>barrio</th>\n",
       "      <td>2127.0</td>\n",
       "      <td>253446.630820</td>\n",
       "      <td>140305.581279</td>\n",
       "      <td>90312.658683</td>\n",
       "      <td>166590.697674</td>\n",
       "      <td>219496.551724</td>\n",
       "      <td>318473.333333</td>\n",
       "      <td>9.090909e+05</td>\n",
       "    </tr>\n",
       "    <tr>\n",
       "      <th>ciudad</th>\n",
       "      <td>2127.0</td>\n",
       "      <td>251778.535983</td>\n",
       "      <td>71462.241567</td>\n",
       "      <td>190057.555396</td>\n",
       "      <td>190057.555396</td>\n",
       "      <td>190057.555396</td>\n",
       "      <td>334480.575978</td>\n",
       "      <td>3.344806e+05</td>\n",
       "    </tr>\n",
       "    <tr>\n",
       "      <th>renta_media_barrio_persona</th>\n",
       "      <td>2127.0</td>\n",
       "      <td>23076.206872</td>\n",
       "      <td>7389.997273</td>\n",
       "      <td>19.537000</td>\n",
       "      <td>18025.000000</td>\n",
       "      <td>21511.000000</td>\n",
       "      <td>26165.000000</td>\n",
       "      <td>3.594400e+04</td>\n",
       "    </tr>\n",
       "    <tr>\n",
       "      <th>ascensor</th>\n",
       "      <td>2127.0</td>\n",
       "      <td>0.781382</td>\n",
       "      <td>0.413406</td>\n",
       "      <td>0.000000</td>\n",
       "      <td>1.000000</td>\n",
       "      <td>1.000000</td>\n",
       "      <td>1.000000</td>\n",
       "      <td>1.000000e+00</td>\n",
       "    </tr>\n",
       "    <tr>\n",
       "      <th>garaje</th>\n",
       "      <td>2127.0</td>\n",
       "      <td>0.393512</td>\n",
       "      <td>0.488644</td>\n",
       "      <td>0.000000</td>\n",
       "      <td>0.000000</td>\n",
       "      <td>0.000000</td>\n",
       "      <td>1.000000</td>\n",
       "      <td>1.000000e+00</td>\n",
       "    </tr>\n",
       "    <tr>\n",
       "      <th>trastero</th>\n",
       "      <td>2127.0</td>\n",
       "      <td>0.331923</td>\n",
       "      <td>0.471014</td>\n",
       "      <td>0.000000</td>\n",
       "      <td>0.000000</td>\n",
       "      <td>0.000000</td>\n",
       "      <td>1.000000</td>\n",
       "      <td>1.000000e+00</td>\n",
       "    </tr>\n",
       "  </tbody>\n",
       "</table>\n",
       "</div>"
      ],
      "text/plain": [
       "                             count           mean            std  \\\n",
       "precio                      2127.0  254209.076634  189755.063467   \n",
       "dist_centro                 2127.0     278.029495    1594.787452   \n",
       "long                        2127.0  251636.974609   68323.299638   \n",
       "metros                      2127.0     108.843912      65.888529   \n",
       "planta                      2127.0  253700.029953   26602.015092   \n",
       "tipo_vivienda               2127.0  253855.042213   32041.406900   \n",
       "n_banos                     2127.0       1.621063       0.811656   \n",
       "n_habitaciones              2127.0       3.063940       1.898074   \n",
       "barrio                      2127.0  253446.630820  140305.581279   \n",
       "ciudad                      2127.0  251778.535983   71462.241567   \n",
       "renta_media_barrio_persona  2127.0   23076.206872    7389.997273   \n",
       "ascensor                    2127.0       0.781382       0.413406   \n",
       "garaje                      2127.0       0.393512       0.488644   \n",
       "trastero                    2127.0       0.331923       0.471014   \n",
       "\n",
       "                                      min            25%            50%  \\\n",
       "precio                       15200.000000  127700.000000  197000.000000   \n",
       "dist_centro                      0.000000       0.861974       1.394586   \n",
       "long                         37600.000000  254159.899225  254159.899225   \n",
       "metros                          30.000000      75.000000      93.000000   \n",
       "planta                      225398.694805  230998.286667  236459.853828   \n",
       "tipo_vivienda               104785.714286  252778.026490  252778.026490   \n",
       "n_banos                          1.000000       1.000000       1.000000   \n",
       "n_habitaciones                   1.000000       2.000000       3.000000   \n",
       "barrio                       90312.658683  166590.697674  219496.551724   \n",
       "ciudad                      190057.555396  190057.555396  190057.555396   \n",
       "renta_media_barrio_persona      19.537000   18025.000000   21511.000000   \n",
       "ascensor                         0.000000       1.000000       1.000000   \n",
       "garaje                           0.000000       0.000000       0.000000   \n",
       "trastero                         0.000000       0.000000       0.000000   \n",
       "\n",
       "                                      75%           max  \n",
       "precio                      320000.000000  1.800000e+06  \n",
       "dist_centro                      2.328019  1.145680e+04  \n",
       "long                        254159.899225  1.500000e+06  \n",
       "metros                         120.000000  1.755000e+03  \n",
       "planta                      289652.528139  2.912112e+05  \n",
       "tipo_vivienda               252778.026490  4.219221e+05  \n",
       "n_banos                          2.000000  1.800000e+01  \n",
       "n_habitaciones                   4.000000  7.500000e+01  \n",
       "barrio                      318473.333333  9.090909e+05  \n",
       "ciudad                      334480.575978  3.344806e+05  \n",
       "renta_media_barrio_persona   26165.000000  3.594400e+04  \n",
       "ascensor                         1.000000  1.000000e+00  \n",
       "garaje                           1.000000  1.000000e+00  \n",
       "trastero                         1.000000  1.000000e+00  "
      ]
     },
     "execution_count": 23,
     "metadata": {},
     "output_type": "execute_result"
    }
   ],
   "source": [
    "dftrain.describe().T"
   ]
  },
  {
   "cell_type": "code",
   "execution_count": 24,
   "metadata": {},
   "outputs": [
    {
     "data": {
      "text/plain": [
       "(230, 14)"
      ]
     },
     "execution_count": 24,
     "metadata": {},
     "output_type": "execute_result"
    }
   ],
   "source": [
    "dfval.shape"
   ]
  },
  {
   "cell_type": "markdown",
   "metadata": {},
   "source": [
    "## LASSO "
   ]
  },
  {
   "cell_type": "markdown",
   "metadata": {},
   "source": [
    "Primeramente utilizo un algoritmo sencillo de EMBEDDED (LASSO) que permite trabajar sin overfitting"
   ]
  },
  {
   "cell_type": "code",
   "execution_count": 25,
   "metadata": {},
   "outputs": [
    {
     "name": "stdout",
     "output_type": "stream",
     "text": [
      "best mean cross-validation score: -0.287\n",
      "best parameters: {'alpha': 0.034333200182819934}\n"
     ]
    },
    {
     "data": {
      "image/png": "[encoded data removed]",
      "text/plain": [
       "<Figure size 432x288 with 1 Axes>"
      ]
     },
     "metadata": {
      "needs_background": "light"
     },
     "output_type": "display_data"
    }
   ],
   "source": [
    "\n",
    "from sklearn.model_selection import GridSearchCV\n",
    "from sklearn.linear_model import Lasso\n",
    "\n",
    "alpha_vector = np.logspace(-2,.5,15)\n",
    "param_grid = {'alpha': alpha_vector }\n",
    "grid = GridSearchCV(Lasso(), scoring= 'neg_mean_squared_error', param_grid=param_grid, cv = 5)\n",
    "grid.fit(XtrainScaled, y_train)\n",
    "print(\"best mean cross-validation score: {:.3f}\".format(grid.best_score_))\n",
    "print(\"best parameters: {}\".format(grid.best_params_))\n",
    "\n",
    "#-1 porque es negado\n",
    "scores = -1*np.array(grid.cv_results_['mean_test_score'])\n",
    "plt.semilogx(alpha_vector,scores,'-o')\n",
    "plt.xlabel('alpha',fontsize=16)\n",
    "plt.ylabel('5-Fold MSE')\n",
    "plt.show()\n"
   ]
  },
  {
   "cell_type": "code",
   "execution_count": 26,
   "metadata": {},
   "outputs": [
    {
     "name": "stdout",
     "output_type": "stream",
     "text": [
      "MSE Modelo Lasso (train): 0.242\n",
      "MSE Modelo Lasso (test) : 0.307\n",
      "RMSE Modelo Lasso (train): 0.492\n",
      "RMSE Modelo Lasso (test) : 0.554\n",
      "dist_centro -0.0016573235389263981\n",
      "long 0.09585626465556271\n",
      "metros 0.20478836626499938\n",
      "planta 0.013290330001372457\n",
      "tipo_vivienda -0.0019893847881631557\n",
      "n_banos 0.2475191212929861\n",
      "n_habitaciones 0.04351995393732943\n",
      "barrio 0.5289286867103004\n",
      "ciudad 0.12258658776406996\n",
      "renta_media_barrio_persona -0.0\n",
      "ascensor 0.08673843282629068\n",
      "garaje 0.028363216540872902\n",
      "trastero 0.02835429880903107\n"
     ]
    }
   ],
   "source": [
    "#Multiplico el valor de alpha por 0.1\n",
    "from sklearn.metrics import mean_squared_error\n",
    "\n",
    "alpha_optimo = grid.best_params_['alpha']*0.1\n",
    "lasso = Lasso(alpha = alpha_optimo).fit(XtrainScaled,y_train)\n",
    "\n",
    "ytrainLasso = lasso.predict(XtrainScaled)\n",
    "ytestLasso  = lasso.predict(XtestScaled)\n",
    "mseTrainModelLasso = mean_squared_error(y_train,ytrainLasso)\n",
    "mseTestModelLasso = mean_squared_error(y_test,ytestLasso)\n",
    "\n",
    "print('MSE Modelo Lasso (train): %0.3g' % mseTrainModelLasso)\n",
    "print('MSE Modelo Lasso (test) : %0.3g' % mseTestModelLasso)\n",
    "\n",
    "print('RMSE Modelo Lasso (train): %0.3g' % np.sqrt(mseTrainModelLasso))\n",
    "print('RMSE Modelo Lasso (test) : %0.3g' % np.sqrt(mseTestModelLasso))\n",
    "\n",
    "w = lasso.coef_\n",
    "for f,wi in zip(features,w):\n",
    "    print(f,wi)"
   ]
  },
  {
   "cell_type": "code",
   "execution_count": 27,
   "metadata": {},
   "outputs": [
    {
     "name": "stdout",
     "output_type": "stream",
     "text": [
      "MSE Modelo Lasso (train): 0.248\n",
      "MSE Modelo Lasso (test) : 0.325\n",
      "RMSE Modelo Lasso (train): 0.498\n",
      "RMSE Modelo Lasso (test) : 0.57\n",
      "dist_centro -0.0\n",
      "long 0.0797458538337186\n",
      "metros 0.18653263742462797\n",
      "planta 0.0\n",
      "tipo_vivienda 0.0\n",
      "n_banos 0.24898086712009926\n",
      "n_habitaciones 0.02309538675650493\n",
      "barrio 0.5311585069841785\n",
      "ciudad 0.08756331037154487\n",
      "renta_media_barrio_persona 0.0\n",
      "ascensor 0.059511809543336104\n",
      "garaje 0.01311702137816152\n",
      "trastero 0.005642128561364861\n"
     ]
    }
   ],
   "source": [
    "#Multiplico alpha por 1\n",
    "\n",
    "from sklearn.metrics import mean_squared_error\n",
    "\n",
    "alpha_optimo = grid.best_params_['alpha']\n",
    "lasso = Lasso(alpha = alpha_optimo).fit(XtrainScaled,y_train)\n",
    "\n",
    "ytrainLasso = lasso.predict(XtrainScaled)\n",
    "ytestLasso  = lasso.predict(XtestScaled)\n",
    "mseTrainModelLasso = mean_squared_error(y_train,ytrainLasso)\n",
    "mseTestModelLasso = mean_squared_error(y_test,ytestLasso)\n",
    "\n",
    "print('MSE Modelo Lasso (train): %0.3g' % mseTrainModelLasso)\n",
    "print('MSE Modelo Lasso (test) : %0.3g' % mseTestModelLasso)\n",
    "\n",
    "print('RMSE Modelo Lasso (train): %0.3g' % np.sqrt(mseTrainModelLasso))\n",
    "print('RMSE Modelo Lasso (test) : %0.3g' % np.sqrt(mseTestModelLasso))\n",
    "\n",
    "w = lasso.coef_\n",
    "for f,wi in zip(features,w):\n",
    "    print(f,wi)"
   ]
  },
  {
   "cell_type": "code",
   "execution_count": 28,
   "metadata": {},
   "outputs": [
    {
     "name": "stdout",
     "output_type": "stream",
     "text": [
      "MSE Modelo Lasso (train): 0.489\n",
      "MSE Modelo Lasso (test) : 0.652\n",
      "RMSE Modelo Lasso (train): 0.699\n",
      "RMSE Modelo Lasso (test) : 0.808\n",
      "dist_centro 0.0\n",
      "long 0.0\n",
      "metros 0.0\n",
      "planta 0.0\n",
      "tipo_vivienda 0.0\n",
      "n_banos 0.11896001311939383\n",
      "n_habitaciones 0.0\n",
      "barrio 0.3701959030754307\n",
      "ciudad 0.0\n",
      "renta_media_barrio_persona 0.0\n",
      "ascensor 0.0\n",
      "garaje 0.0\n",
      "trastero 0.0\n"
     ]
    }
   ],
   "source": [
    "from sklearn.metrics import mean_squared_error\n",
    "#Multiplico alpha por 10\n",
    "alpha_optimo = grid.best_params_['alpha']*10\n",
    "lasso = Lasso(alpha = alpha_optimo).fit(XtrainScaled,y_train)\n",
    "\n",
    "ytrainLasso = lasso.predict(XtrainScaled)\n",
    "ytestLasso  = lasso.predict(XtestScaled)\n",
    "mseTrainModelLasso = mean_squared_error(y_train,ytrainLasso)\n",
    "mseTestModelLasso = mean_squared_error(y_test,ytestLasso)\n",
    "\n",
    "print('MSE Modelo Lasso (train): %0.3g' % mseTrainModelLasso)\n",
    "print('MSE Modelo Lasso (test) : %0.3g' % mseTestModelLasso)\n",
    "\n",
    "print('RMSE Modelo Lasso (train): %0.3g' % np.sqrt(mseTrainModelLasso))\n",
    "print('RMSE Modelo Lasso (test) : %0.3g' % np.sqrt(mseTestModelLasso))\n",
    "\n",
    "w = lasso.coef_\n",
    "for f,wi in zip(features,w):\n",
    "    print(f,wi)"
   ]
  },
  {
   "cell_type": "markdown",
   "metadata": {},
   "source": [
    "Me quedo con alpha = alpha*10 (ultima opción)"
   ]
  },
  {
   "cell_type": "markdown",
   "metadata": {},
   "source": [
    "Las variables más influyentes para el precio según Lasso son:\n",
    "- Barrio\n",
    "- Numero de baños\n",
    "\n"
   ]
  },
  {
   "cell_type": "code",
   "execution_count": 67,
   "metadata": {},
   "outputs": [
    {
     "data": {
      "text/plain": [
       "0.34333200182819934"
      ]
     },
     "execution_count": 67,
     "metadata": {},
     "output_type": "execute_result"
    }
   ],
   "source": [
    "alpha_optimo"
   ]
  },
  {
   "cell_type": "markdown",
   "metadata": {},
   "source": [
    "## ARBOL DE DECISION"
   ]
  },
  {
   "cell_type": "markdown",
   "metadata": {},
   "source": [
    "Utilizo ahora un ARBOL DE DECISION para mejorar resultados"
   ]
  },
  {
   "cell_type": "code",
   "execution_count": 29,
   "metadata": {},
   "outputs": [
    {
     "name": "stdout",
     "output_type": "stream",
     "text": [
      "best mean cross-validation score: 0.742\n",
      "best parameters: {'max_depth': 9.0}\n"
     ]
    },
    {
     "data": {
      "image/png": "[encoded data removed]",
      "text/plain": [
       "<Figure size 432x288 with 1 Axes>"
      ]
     },
     "metadata": {
      "needs_background": "light"
     },
     "output_type": "display_data"
    }
   ],
   "source": [
    "from sklearn.tree import DecisionTreeRegressor\n",
    "from sklearn.metrics import accuracy_score\n",
    "\n",
    "\n",
    "max_depth = np.linspace(1, 15, 15 ) \n",
    "#max_depth = np.linspace(1, 30, 10 ) Restultado peor (Best mean cv score:0.68 y maxdepth:10.6)\n",
    "param_grid = {'max_depth': max_depth }\n",
    "grid = GridSearchCV(DecisionTreeRegressor(random_state=0), param_grid=param_grid, cv = 10)\n",
    "grid.fit(XtrainScaled, y_train)\n",
    "print(\"best mean cross-validation score: {:.3f}\".format(grid.best_score_))\n",
    "print(\"best parameters: {}\".format(grid.best_params_))\n",
    "\n",
    "grid.cv_results_\n",
    "scores = np.array(grid.cv_results_['mean_test_score'])\n",
    "plt.semilogx(max_depth,scores,'-o')\n",
    "plt.xlabel('max_depth',fontsize=16)\n",
    "plt.ylabel('5-Fold MSE')\n",
    "plt.show()"
   ]
  },
  {
   "cell_type": "code",
   "execution_count": 30,
   "metadata": {},
   "outputs": [
    {
     "name": "stdout",
     "output_type": "stream",
     "text": [
      "Score Train:  0.9354317857407071\n",
      "Score Test:  0.7656265701653401\n"
     ]
    }
   ],
   "source": [
    "maxDepthOptimo = grid.best_params_['max_depth']\n",
    "treeModel = DecisionTreeRegressor(max_depth=maxDepthOptimo).fit(XtrainScaled,y_train) #PROFUNDIDAD=8\n",
    "\n",
    "print(\"Score Train: \",treeModel.score(XtrainScaled,y_train))\n",
    "print(\"Score Test: \",treeModel.score(XvalScaled,y_val))\n",
    "\n",
    "#Veo una diferencia notable entre Score Train y Score Test, por lo que, VOY BAJANDO LA PROFUNDIDAD. "
   ]
  },
  {
   "cell_type": "markdown",
   "metadata": {},
   "source": [
    "Con una profundidad menor penalizo mucho el sesgo y no empeoro interpretabilidad"
   ]
  },
  {
   "cell_type": "code",
   "execution_count": 31,
   "metadata": {},
   "outputs": [
    {
     "name": "stdout",
     "output_type": "stream",
     "text": [
      "Score Train:  0.8876123667812706\n",
      "Score Test:  0.7688904824836608\n"
     ]
    }
   ],
   "source": [
    "maxDepthOptimo = grid.best_params_['max_depth']\n",
    "\n",
    "treeModel = DecisionTreeRegressor(max_depth=7).fit(XtrainScaled,y_train) #PROFUNDIDAD=7\n",
    "print(\"Score Train: \",treeModel.score(XtrainScaled,y_train))\n",
    "print(\"Score Test: \",treeModel.score(XvalScaled,y_val))\n",
    "\n"
   ]
  },
  {
   "cell_type": "code",
   "execution_count": 32,
   "metadata": {},
   "outputs": [
    {
     "data": {
      "text/plain": [
       "21.564529148854103"
      ]
     },
     "execution_count": 32,
     "metadata": {},
     "output_type": "execute_result"
    }
   ],
   "source": [
    "y_pred=treeModel.predict(XtestScaled)\n",
    "y_pred=scalery.inverse_transform(y_pred)\n",
    "error=np.abs(y_pred-y_test_)\n",
    "errorPercent=(error/y_test_)*100\n",
    "errorPercent.mean()"
   ]
  },
  {
   "cell_type": "markdown",
   "metadata": {},
   "source": [
    "## RANDOM FOREST REGRESSOR"
   ]
  },
  {
   "cell_type": "markdown",
   "metadata": {},
   "source": [
    "Como tercera opcion, utilizo un Random Forest"
   ]
  },
  {
   "cell_type": "code",
   "execution_count": 33,
   "metadata": {},
   "outputs": [
    {
     "name": "stdout",
     "output_type": "stream",
     "text": [
      "best mean cross-validation score: 0.849\n",
      "best parameters: {'max_depth': 12}\n"
     ]
    },
    {
     "data": {
      "image/png": "[encoded data removed]",
      "text/plain": [
       "<Figure size 432x288 with 1 Axes>"
      ]
     },
     "metadata": {
      "needs_background": "light"
     },
     "output_type": "display_data"
    }
   ],
   "source": [
    "from sklearn.ensemble import RandomForestRegressor\n",
    "\n",
    "# grid search\n",
    "maxDepth = range(1,15) #mejores resultados con este rango\n",
    "tuned_parameters = {'max_depth': maxDepth}\n",
    "\n",
    "grid = GridSearchCV(RandomForestRegressor(random_state=0, n_estimators=200, max_features='sqrt'), param_grid=tuned_parameters,cv=10) \n",
    "grid.fit(XtrainScaled, y_train)\n",
    "\n",
    "print(\"best mean cross-validation score: {:.3f}\".format(grid.best_score_))\n",
    "print(\"best parameters: {}\".format(grid.best_params_))\n",
    "\n",
    "scores = np.array(grid.cv_results_['mean_test_score'])\n",
    "plt.plot(maxDepth,scores,'-o')\n",
    "plt.xlabel('max_depth')\n",
    "plt.ylabel('10-fold ACC')\n",
    "\n",
    "plt.show()"
   ]
  },
  {
   "cell_type": "markdown",
   "metadata": {},
   "source": [
    "Con la Profundidad=14, el score Train es muy distinto a Score Test. Bajo la profundidad para ver si mejora la interpretabilidad"
   ]
  },
  {
   "cell_type": "code",
   "execution_count": 34,
   "metadata": {},
   "outputs": [
    {
     "name": "stdout",
     "output_type": "stream",
     "text": [
      "Score Train:  0.9659041455105012\n",
      "Score Test:  0.8466319760887916\n"
     ]
    }
   ],
   "source": [
    "#Profundidad=14 -- score Train es muy distinto a Score Test -- bajo la profundidad para mejorar la interpretabilidad\n",
    "\n",
    "maxDepthOptimo = grid.best_params_['max_depth']\n",
    "rf = RandomForestRegressor(max_depth=maxDepthOptimo,n_estimators=200,max_features='sqrt').fit(XtrainScaled,y_train)\n",
    "\n",
    "print(\"Score Train: \",rf.score(XtrainScaled,y_train))\n",
    "print(\"Score Test: \",rf.score(XvalScaled,y_val))"
   ]
  },
  {
   "cell_type": "markdown",
   "metadata": {},
   "source": [
    "Sigo bajando tres unidades la profundidad, ahora Profundidad=8, bajando el Socre Train y el Score Test. Me quedo con esta opcion"
   ]
  },
  {
   "cell_type": "code",
   "execution_count": 35,
   "metadata": {},
   "outputs": [
    {
     "name": "stdout",
     "output_type": "stream",
     "text": [
      "Score Train:  0.9707330148890854\n",
      "Score Test:  0.8506095288085944\n"
     ]
    }
   ],
   "source": [
    "#Bajo 3 unidades la profundidad del arbol, a 8\n",
    "maxDepthOptimo = grid.best_params_['max_depth']\n",
    "rf = RandomForestRegressor(max_depth=13,n_estimators=200,max_features='sqrt').fit(XtrainScaled,y_train)\n",
    "\n",
    "print(\"Score Train: \",rf.score(XtrainScaled,y_train))\n",
    "print(\"Score Test: \",rf.score(XvalScaled,y_val))"
   ]
  },
  {
   "cell_type": "markdown",
   "metadata": {},
   "source": [
    "Hago la predicción del precio con un error medio del 17%"
   ]
  },
  {
   "cell_type": "code",
   "execution_count": 36,
   "metadata": {},
   "outputs": [],
   "source": [
    "y_pred=rf.predict(XtestScaled)\n",
    "y_pred=scalery.inverse_transform(y_pred)"
   ]
  },
  {
   "cell_type": "code",
   "execution_count": 37,
   "metadata": {},
   "outputs": [
    {
     "data": {
      "text/plain": [
       "17.166450311165992"
      ]
     },
     "execution_count": 37,
     "metadata": {},
     "output_type": "execute_result"
    }
   ],
   "source": [
    "error=np.abs(y_pred-y_test_)\n",
    "errorPer=(error/y_test_)*100\n",
    "errorPer.mean()"
   ]
  },
  {
   "cell_type": "markdown",
   "metadata": {},
   "source": [
    "Obtengo la influencia de las variables en el precio"
   ]
  },
  {
   "cell_type": "code",
   "execution_count": 38,
   "metadata": {},
   "outputs": [
    {
     "data": {
      "image/png": "[encoded data removed]",
      "text/plain": [
       "<Figure size 720x720 with 1 Axes>"
      ]
     },
     "metadata": {
      "needs_background": "light"
     },
     "output_type": "display_data"
    }
   ],
   "source": [
    "from sklearn import tree\n",
    "\n",
    "importances = treeModel.feature_importances_\n",
    "importances = importances / np.max(importances)\n",
    "\n",
    "indices = np.argsort(importances)[::-1]\n",
    "\n",
    "plt.figure(figsize=(10,10))\n",
    "plt.barh(range(XtrainScaled.shape[1]),importances[indices])\n",
    "plt.yticks(range(XtrainScaled.shape[1]),features[indices])\n",
    "plt.show()"
   ]
  },
  {
   "cell_type": "markdown",
   "metadata": {},
   "source": [
    "## BOOSTING "
   ]
  },
  {
   "cell_type": "markdown",
   "metadata": {},
   "source": [
    "Por ultimo implemento un Boosting, con el que espero mejores resultados, aunque veo que son más o menos iguales que en el caso anterior en cuanto a % de prediccion del precio de la vivienda"
   ]
  },
  {
   "cell_type": "code",
   "execution_count": 39,
   "metadata": {},
   "outputs": [
    {
     "name": "stdout",
     "output_type": "stream",
     "text": [
      "best mean cross-validation score: 0.843\n",
      "best parameters: {'learning_rate': 0.05, 'n_estimators': 300}\n"
     ]
    }
   ],
   "source": [
    "from sklearn.ensemble import GradientBoostingRegressor\n",
    "\n",
    "Niterations = [100,125,150,175,200,300]\n",
    "learningRate = [0.5,0.1,0.05,0.01,0.001]\n",
    "#max_depth=2\n",
    "\n",
    "param_grid = {'n_estimators': Niterations,'learning_rate':learningRate }\n",
    "grid = GridSearchCV(GradientBoostingRegressor(random_state=0, max_depth=3), param_grid=param_grid, cv = 5)\n",
    "grid.fit(XtrainScaled, y_train_)\n",
    "print(\"best mean cross-validation score: {:.3f}\".format(grid.best_score_))\n",
    "print(\"best parameters: {}\".format(grid.best_params_))"
   ]
  },
  {
   "cell_type": "code",
   "execution_count": 40,
   "metadata": {},
   "outputs": [
    {
     "data": {
      "image/png": "[encoded data removed]",
      "text/plain": [
       "<Figure size 432x288 with 1 Axes>"
      ]
     },
     "metadata": {
      "needs_background": "light"
     },
     "output_type": "display_data"
    }
   ],
   "source": [
    "# calculamos métricas globales\n",
    "lRateOptimo = grid.best_params_['learning_rate']\n",
    "nEstimatorsOptimo = grid.best_params_['n_estimators']\n",
    "\n",
    "bt = GradientBoostingRegressor(random_state=0, max_depth=3,learning_rate=lRateOptimo, n_estimators=nEstimatorsOptimo) \n",
    "bt.fit(XtrainScaled,y_train)\n",
    "\n",
    "error = 1-grid.cv_results_['mean_test_score'].reshape(len(learningRate),len(Niterations))\n",
    "colors = ['r','b','g','k','m']\n",
    "for i,lr in enumerate(learningRate):    \n",
    "    plt.plot(Niterations,error[i,:],colors[i] + '--o',label='lr = %g'%lr)\n",
    "\n",
    "plt.legend()\n",
    "plt.xlabel('# iteraciones')\n",
    "plt.ylabel('5-fold CV Error')\n",
    "plt.title('train: %0.3f\\ntest:  %0.3f'%(bt.score(XtrainScaled,y_train),bt.score(XvalScaled,y_val)))\n",
    "plt.grid()\n",
    "plt.show()"
   ]
  },
  {
   "cell_type": "markdown",
   "metadata": {},
   "source": [
    "Hago la prediccion del precio con un error del 18%"
   ]
  },
  {
   "cell_type": "code",
   "execution_count": 41,
   "metadata": {},
   "outputs": [
    {
     "data": {
      "text/plain": [
       "18.72942054602237"
      ]
     },
     "execution_count": 41,
     "metadata": {},
     "output_type": "execute_result"
    }
   ],
   "source": [
    "y_pred=bt.predict(XtestScaled)\n",
    "y_pred=scalery.inverse_transform(y_pred)\n",
    "error=np.abs(y_pred-y_test_)\n",
    "errorPerc=(error/y_test_)*100\n",
    "errorPerc.mean()"
   ]
  },
  {
   "cell_type": "code",
   "execution_count": 42,
   "metadata": {},
   "outputs": [
    {
     "data": {
      "image/png": "[encoded data removed]",
      "text/plain": [
       "<Figure size 720x720 with 1 Axes>"
      ]
     },
     "metadata": {
      "needs_background": "light"
     },
     "output_type": "display_data"
    }
   ],
   "source": [
    "importances = bt.feature_importances_\n",
    "importances = importances / np.max(importances)\n",
    "\n",
    "indices = np.argsort(importances)[::-1]\n",
    "\n",
    "plt.figure(figsize=(10,10))\n",
    "plt.barh(range(XtrainScaled.shape[1]),importances[indices])\n",
    "plt.yticks(range(XtestScaled.shape[1]),features[indices])\n",
    "plt.show()"
   ]
  },
  {
   "cell_type": "markdown",
   "metadata": {},
   "source": [
    "Conclusión: reuniendo la información que nos proporciona Lasso respecto al \"sentido\" de la influencia (negativo/positivo) y de los mejores resultados que nos dan tanto GradientBoostingRegressor como Random Forest, se puede concluir que las variables más influyentes en el precio son:\n",
    "- Barrio\n",
    "- Metros\n",
    "- NBanos\n",
    "- Distancia al centro (sentido negativo en Lasso: a menor distancia, mayor precio)\n",
    "- Ciudad\n",
    "- Planta\n",
    "\n"
   ]
  }
 ],
 "metadata": {
  "kernelspec": {
   "display_name": "Python 3",
   "language": "python",
   "name": "python3"
  },
  "language_info": {
   "codemirror_mode": {
    "name": "ipython",
    "version": 3
   },
   "file_extension": ".py",
   "mimetype": "text/x-python",
   "name": "python",
   "nbconvert_exporter": "python",
   "pygments_lexer": "ipython3",
   "version": "3.7.3"
  }
 },
 "nbformat": 4,
 "nbformat_minor": 2
}
